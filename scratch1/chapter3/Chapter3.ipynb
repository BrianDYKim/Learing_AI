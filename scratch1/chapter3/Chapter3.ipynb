{
 "cells": [
  {
   "cell_type": "code",
   "execution_count": 2,
   "id": "2ce62b34-4c5f-4b98-b5c1-d53c5b422b9c",
   "metadata": {},
   "outputs": [],
   "source": [
    "import torch\n",
    "import torch.nn as nn\n",
    "import torch.nn.functional as F\n",
    "from torchvision import transforms, datasets"
   ]
  },
  {
   "cell_type": "code",
   "execution_count": 3,
   "id": "41781dca-0720-4965-80f4-f7b4d2e816d7",
   "metadata": {},
   "outputs": [],
   "source": [
    "import numpy as np\n",
    "import matplotlib.pyplot as plt"
   ]
  },
  {
   "cell_type": "code",
   "execution_count": 6,
   "id": "df8ea21c-4b61-4c76-85bf-50c018922a84",
   "metadata": {},
   "outputs": [],
   "source": [
    "# 딥러닝 장비 세팅\n",
    "DEVICE = torch.device('cuda') if torch.cuda.is_available() else torch.device('cpu')"
   ]
  },
  {
   "cell_type": "code",
   "execution_count": 7,
   "id": "0d6b0249-baf4-49a2-9bbd-b498e50d8f9f",
   "metadata": {},
   "outputs": [],
   "source": [
    "# 배치 사이즈, 에포크 설정\n",
    "BATCH_SIZE = 32\n",
    "EPOCHS = 10"
   ]
  },
  {
   "cell_type": "code",
   "execution_count": 14,
   "id": "23841bf8-97e2-4fdb-b6ef-8ecab08d2f89",
   "metadata": {},
   "outputs": [],
   "source": [
    "# Load Datasets\n",
    "train_dataset = datasets.MNIST(root = \"../data/MNIST\", train = True, download = True, transform = transforms.ToTensor())\n",
    "test_dataset = datasets.MNIST(root = \"../data/MNIST\", train = False, transform = transforms.ToTensor())\n",
    "\n",
    "# Loader\n",
    "train_loader = torch.utils.data.DataLoader(dataset = train_dataset, batch_size = BATCH_SIZE, shuffle = True)\n",
    "test_loader = torch.utils.data.DataLoader(dataset = test_dataset, batch_size = BATCH_SIZE, shuffle = False)"
   ]
  },
  {
   "cell_type": "code",
   "execution_count": 15,
   "id": "003c6c97-31a3-4416-942b-809ac6d279ac",
   "metadata": {},
   "outputs": [
    {
     "name": "stdout",
     "output_type": "stream",
     "text": [
      "X_train: torch.Size([32, 1, 28, 28]) type: torch.FloatTensor\n",
      "y_train: torch.Size([32]) type: torch.LongTensor\n"
     ]
    }
   ],
   "source": [
    "for X_train, y_train in train_loader:\n",
    "    print('X_train:', X_train.size(), 'type:', X_train.type())\n",
    "    print('y_train:', y_train.size(), 'type:', y_train.type())\n",
    "    break"
   ]
  },
  {
   "cell_type": "code",
   "execution_count": 21,
   "id": "47bca9a8-d291-43c0-8c71-90526a9695bf",
   "metadata": {},
   "outputs": [
    {
     "data": {
      "image/png": "[encoded data removed]",
      "text/plain": [
       "<Figure size 640x480 with 10 Axes>"
      ]
     },
     "metadata": {},
     "output_type": "display_data"
    }
   ],
   "source": [
    "# 데이터셋 모양 출력\n",
    "for i in range(10):\n",
    "    plt.subplot(1, 10, i + 1)\n",
    "    plt.axis('off')\n",
    "    plt.imshow(X_train[i, :, :, :].numpy().reshape(28, 28), cmap = 'gray_r')\n",
    "    plt.title(y_train[i].item())"
   ]
  },
  {
   "cell_type": "code",
   "execution_count": 23,
   "id": "d2b0a240-7cfe-4d43-86e3-367bdf690ef6",
   "metadata": {},
   "outputs": [],
   "source": [
    "# Model 설계\n",
    "class MyNet(nn.Module):\n",
    "    def __init__(self):\n",
    "        super(MyNet, self).__init__()\n",
    "        self.fc1 = nn.Linear(28 * 28, 512)\n",
    "        self.fc2 = nn.Linear(512, 256)\n",
    "        self.fc3 = nn.Linear(256, 10)\n",
    "\n",
    "    def forward(self, x: torch.Tensor):\n",
    "        x = x.view(-1, 28 * 28)\n",
    "        x = self.fc1(x)\n",
    "        x = F.sigmoid(x)\n",
    "        x = self.fc2(x)\n",
    "        x = F.sigmoid(x)\n",
    "        x = self.fc3(x)\n",
    "        x = F.log_softmax(x, dim = 1)\n",
    "        return x"
   ]
  },
  {
   "cell_type": "code",
   "execution_count": 24,
   "id": "ac1beda3-6f29-4417-a7c0-f4e5abf0e0bf",
   "metadata": {},
   "outputs": [
    {
     "name": "stdout",
     "output_type": "stream",
     "text": [
      "MyNet(\n",
      "  (fc1): Linear(in_features=784, out_features=512, bias=True)\n",
      "  (fc2): Linear(in_features=512, out_features=256, bias=True)\n",
      "  (fc3): Linear(in_features=256, out_features=10, bias=True)\n",
      ")\n"
     ]
    }
   ],
   "source": [
    "# model 불러오기\n",
    "model = MyNet().to(DEVICE)\n",
    "optimizer = torch.optim.SGD(model.parameters(), lr = 0.01, momentum = 0.5)\n",
    "criterion = nn.CrossEntropyLoss()\n",
    "\n",
    "print(model)"
   ]
  },
  {
   "cell_type": "code",
   "execution_count": 28,
   "id": "c88e9e29-68a3-4c76-881d-444ffcca66aa",
   "metadata": {},
   "outputs": [],
   "source": [
    "# 학습함수\n",
    "def train(model, train_loader, optimizer, log_interval):\n",
    "    model.train()\n",
    "\n",
    "    for batch_idx, (image, label) in enumerate(train_loader):\n",
    "        image = image.to(DEVICE)\n",
    "        label = label.to(DEVICE)\n",
    "        optimizer.zero_grad()\n",
    "        output = model(image)\n",
    "        loss = criterion(output, label)\n",
    "        loss.backward()\n",
    "        optimizer.step()\n",
    "        \n",
    "        if batch_idx % log_interval == 0:\n",
    "            print(\"Train epoch: {} [{}/{} ({:.0f}%)]\\tTrain Loss: {:.6f}\".format(\n",
    "                epoch, batch_idx * len(image),\n",
    "                len(train_loader.dataset), 100. * batch_idx / len(train_loader),\n",
    "                loss.item()))\n",
    "\n",
    "def evaluate(model, test_loader):\n",
    "    model.eval()\n",
    "    test_loss = 0\n",
    "    correct = 0\n",
    "    \n",
    "    with torch.no_grad():\n",
    "        for image, label in test_loader:\n",
    "            image = image.to(DEVICE)\n",
    "            label = label.to(DEVICE)\n",
    "            output = model(image)\n",
    "            test_loss += criterion(output, label).item()\n",
    "            prediction = output.max(1, keepdim=True)[1]\n",
    "            correct += prediction.eq(label.view_as(prediction)).sum().item()\n",
    "    \n",
    "    test_loss /= (len(test_loader.dataset)/ BATCH_SIZE)\n",
    "    test_accuracy = 100. * correct/len(test_loader.dataset)\n",
    "    return test_loss, test_accuracy"
   ]
  },
  {
   "cell_type": "code",
   "execution_count": 29,
   "id": "1d2a1e4b-b98e-4e96-a1f5-f727645226d2",
   "metadata": {},
   "outputs": [
    {
     "name": "stdout",
     "output_type": "stream",
     "text": [
      "Train epoch: 1 [0/60000 (0%)]\tTrain Loss: 2.351913\n",
      "Train epoch: 1 [6400/60000 (11%)]\tTrain Loss: 2.262727\n",
      "Train epoch: 1 [12800/60000 (21%)]\tTrain Loss: 2.318629\n",
      "Train epoch: 1 [19200/60000 (32%)]\tTrain Loss: 2.280891\n",
      "Train epoch: 1 [25600/60000 (43%)]\tTrain Loss: 2.275347\n",
      "Train epoch: 1 [32000/60000 (53%)]\tTrain Loss: 2.311821\n",
      "Train epoch: 1 [38400/60000 (64%)]\tTrain Loss: 2.292436\n",
      "Train epoch: 1 [44800/60000 (75%)]\tTrain Loss: 2.255321\n",
      "Train epoch: 1 [51200/60000 (85%)]\tTrain Loss: 2.272655\n",
      "Train epoch: 1 [57600/60000 (96%)]\tTrain Loss: 2.249749\n",
      "\n",
      "[EPOCH: 1], \tTest Loss: 2.2264, \tTest Accuracy: 16.37 %\n",
      "\n",
      "Train epoch: 2 [0/60000 (0%)]\tTrain Loss: 2.248021\n",
      "Train epoch: 2 [6400/60000 (11%)]\tTrain Loss: 2.191634\n",
      "Train epoch: 2 [12800/60000 (21%)]\tTrain Loss: 2.142312\n",
      "Train epoch: 2 [19200/60000 (32%)]\tTrain Loss: 2.118611\n",
      "Train epoch: 2 [25600/60000 (43%)]\tTrain Loss: 1.983408\n",
      "Train epoch: 2 [32000/60000 (53%)]\tTrain Loss: 1.752541\n",
      "Train epoch: 2 [38400/60000 (64%)]\tTrain Loss: 1.621728\n",
      "Train epoch: 2 [44800/60000 (75%)]\tTrain Loss: 1.281896\n",
      "Train epoch: 2 [51200/60000 (85%)]\tTrain Loss: 1.469576\n",
      "Train epoch: 2 [57600/60000 (96%)]\tTrain Loss: 1.115917\n",
      "\n",
      "[EPOCH: 2], \tTest Loss: 1.2109, \tTest Accuracy: 60.52 %\n",
      "\n",
      "Train epoch: 3 [0/60000 (0%)]\tTrain Loss: 1.234800\n",
      "Train epoch: 3 [6400/60000 (11%)]\tTrain Loss: 1.261199\n",
      "Train epoch: 3 [12800/60000 (21%)]\tTrain Loss: 1.003839\n",
      "Train epoch: 3 [19200/60000 (32%)]\tTrain Loss: 0.985224\n",
      "Train epoch: 3 [25600/60000 (43%)]\tTrain Loss: 0.738119\n",
      "Train epoch: 3 [32000/60000 (53%)]\tTrain Loss: 0.919385\n",
      "Train epoch: 3 [38400/60000 (64%)]\tTrain Loss: 1.093094\n",
      "Train epoch: 3 [44800/60000 (75%)]\tTrain Loss: 0.677935\n",
      "Train epoch: 3 [51200/60000 (85%)]\tTrain Loss: 0.610829\n",
      "Train epoch: 3 [57600/60000 (96%)]\tTrain Loss: 0.727766\n",
      "\n",
      "[EPOCH: 3], \tTest Loss: 0.7418, \tTest Accuracy: 78.47 %\n",
      "\n",
      "Train epoch: 4 [0/60000 (0%)]\tTrain Loss: 0.525820\n",
      "Train epoch: 4 [6400/60000 (11%)]\tTrain Loss: 0.625829\n",
      "Train epoch: 4 [12800/60000 (21%)]\tTrain Loss: 0.476831\n",
      "Train epoch: 4 [19200/60000 (32%)]\tTrain Loss: 0.507763\n",
      "Train epoch: 4 [25600/60000 (43%)]\tTrain Loss: 0.873482\n",
      "Train epoch: 4 [32000/60000 (53%)]\tTrain Loss: 0.483778\n",
      "Train epoch: 4 [38400/60000 (64%)]\tTrain Loss: 0.664562\n",
      "Train epoch: 4 [44800/60000 (75%)]\tTrain Loss: 0.292151\n",
      "Train epoch: 4 [51200/60000 (85%)]\tTrain Loss: 0.554590\n",
      "Train epoch: 4 [57600/60000 (96%)]\tTrain Loss: 0.726413\n",
      "\n",
      "[EPOCH: 4], \tTest Loss: 0.5418, \tTest Accuracy: 84.50 %\n",
      "\n",
      "Train epoch: 5 [0/60000 (0%)]\tTrain Loss: 0.485575\n",
      "Train epoch: 5 [6400/60000 (11%)]\tTrain Loss: 0.339893\n",
      "Train epoch: 5 [12800/60000 (21%)]\tTrain Loss: 0.505139\n",
      "Train epoch: 5 [19200/60000 (32%)]\tTrain Loss: 0.422387\n",
      "Train epoch: 5 [25600/60000 (43%)]\tTrain Loss: 0.372053\n",
      "Train epoch: 5 [32000/60000 (53%)]\tTrain Loss: 0.587347\n",
      "Train epoch: 5 [38400/60000 (64%)]\tTrain Loss: 0.390793\n",
      "Train epoch: 5 [44800/60000 (75%)]\tTrain Loss: 0.342227\n",
      "Train epoch: 5 [51200/60000 (85%)]\tTrain Loss: 0.341276\n",
      "Train epoch: 5 [57600/60000 (96%)]\tTrain Loss: 0.536809\n",
      "\n",
      "[EPOCH: 5], \tTest Loss: 0.4532, \tTest Accuracy: 86.80 %\n",
      "\n",
      "Train epoch: 6 [0/60000 (0%)]\tTrain Loss: 0.375863\n",
      "Train epoch: 6 [6400/60000 (11%)]\tTrain Loss: 0.635055\n",
      "Train epoch: 6 [12800/60000 (21%)]\tTrain Loss: 0.491668\n",
      "Train epoch: 6 [19200/60000 (32%)]\tTrain Loss: 0.456307\n",
      "Train epoch: 6 [25600/60000 (43%)]\tTrain Loss: 0.679011\n",
      "Train epoch: 6 [32000/60000 (53%)]\tTrain Loss: 0.325665\n",
      "Train epoch: 6 [38400/60000 (64%)]\tTrain Loss: 0.234732\n",
      "Train epoch: 6 [44800/60000 (75%)]\tTrain Loss: 0.376994\n",
      "Train epoch: 6 [51200/60000 (85%)]\tTrain Loss: 0.441899\n",
      "Train epoch: 6 [57600/60000 (96%)]\tTrain Loss: 0.411532\n",
      "\n",
      "[EPOCH: 6], \tTest Loss: 0.4084, \tTest Accuracy: 88.27 %\n",
      "\n",
      "Train epoch: 7 [0/60000 (0%)]\tTrain Loss: 0.625921\n",
      "Train epoch: 7 [6400/60000 (11%)]\tTrain Loss: 0.415281\n",
      "Train epoch: 7 [12800/60000 (21%)]\tTrain Loss: 0.180532\n",
      "Train epoch: 7 [19200/60000 (32%)]\tTrain Loss: 0.393462\n",
      "Train epoch: 7 [25600/60000 (43%)]\tTrain Loss: 0.583058\n",
      "Train epoch: 7 [32000/60000 (53%)]\tTrain Loss: 0.454635\n",
      "Train epoch: 7 [38400/60000 (64%)]\tTrain Loss: 0.713688\n",
      "Train epoch: 7 [44800/60000 (75%)]\tTrain Loss: 0.329337\n",
      "Train epoch: 7 [51200/60000 (85%)]\tTrain Loss: 0.655298\n",
      "Train epoch: 7 [57600/60000 (96%)]\tTrain Loss: 0.320269\n",
      "\n",
      "[EPOCH: 7], \tTest Loss: 0.3784, \tTest Accuracy: 88.83 %\n",
      "\n",
      "Train epoch: 8 [0/60000 (0%)]\tTrain Loss: 0.259455\n",
      "Train epoch: 8 [6400/60000 (11%)]\tTrain Loss: 0.591903\n",
      "Train epoch: 8 [12800/60000 (21%)]\tTrain Loss: 0.257406\n",
      "Train epoch: 8 [19200/60000 (32%)]\tTrain Loss: 0.562367\n",
      "Train epoch: 8 [25600/60000 (43%)]\tTrain Loss: 0.587508\n",
      "Train epoch: 8 [32000/60000 (53%)]\tTrain Loss: 0.322247\n",
      "Train epoch: 8 [38400/60000 (64%)]\tTrain Loss: 0.216044\n",
      "Train epoch: 8 [44800/60000 (75%)]\tTrain Loss: 0.242393\n",
      "Train epoch: 8 [51200/60000 (85%)]\tTrain Loss: 0.305734\n",
      "Train epoch: 8 [57600/60000 (96%)]\tTrain Loss: 0.111550\n",
      "\n",
      "[EPOCH: 8], \tTest Loss: 0.3609, \tTest Accuracy: 89.60 %\n",
      "\n",
      "Train epoch: 9 [0/60000 (0%)]\tTrain Loss: 0.571513\n",
      "Train epoch: 9 [6400/60000 (11%)]\tTrain Loss: 0.366321\n",
      "Train epoch: 9 [12800/60000 (21%)]\tTrain Loss: 0.696947\n",
      "Train epoch: 9 [19200/60000 (32%)]\tTrain Loss: 0.137345\n",
      "Train epoch: 9 [25600/60000 (43%)]\tTrain Loss: 0.166006\n",
      "Train epoch: 9 [32000/60000 (53%)]\tTrain Loss: 0.491160\n",
      "Train epoch: 9 [38400/60000 (64%)]\tTrain Loss: 0.438260\n",
      "Train epoch: 9 [44800/60000 (75%)]\tTrain Loss: 0.127395\n",
      "Train epoch: 9 [51200/60000 (85%)]\tTrain Loss: 0.234795\n",
      "Train epoch: 9 [57600/60000 (96%)]\tTrain Loss: 0.185192\n",
      "\n",
      "[EPOCH: 9], \tTest Loss: 0.3458, \tTest Accuracy: 89.95 %\n",
      "\n",
      "Train epoch: 10 [0/60000 (0%)]\tTrain Loss: 0.291183\n",
      "Train epoch: 10 [6400/60000 (11%)]\tTrain Loss: 0.188433\n",
      "Train epoch: 10 [12800/60000 (21%)]\tTrain Loss: 0.198444\n",
      "Train epoch: 10 [19200/60000 (32%)]\tTrain Loss: 0.331273\n",
      "Train epoch: 10 [25600/60000 (43%)]\tTrain Loss: 0.368851\n",
      "Train epoch: 10 [32000/60000 (53%)]\tTrain Loss: 0.257881\n",
      "Train epoch: 10 [38400/60000 (64%)]\tTrain Loss: 0.479186\n",
      "Train epoch: 10 [44800/60000 (75%)]\tTrain Loss: 0.152732\n",
      "Train epoch: 10 [51200/60000 (85%)]\tTrain Loss: 1.105864\n",
      "Train epoch: 10 [57600/60000 (96%)]\tTrain Loss: 0.127844\n",
      "\n",
      "[EPOCH: 10], \tTest Loss: 0.3346, \tTest Accuracy: 90.11 %\n",
      "\n"
     ]
    }
   ],
   "source": [
    "# 학습\n",
    "for epoch in range(1, EPOCHS + 1):\n",
    "    train(model, train_loader, optimizer, log_interval = 200)\n",
    "    test_loss, test_accuracy = evaluate(model, test_loader)\n",
    "    print(\"\\n[EPOCH: {}], \\tTest Loss: {:.4f}, \\tTest Accuracy: {:.2f} %\\n\".format(\n",
    "        epoch, test_loss, test_accuracy))"
   ]
  },
  {
   "cell_type": "code",
   "execution_count": null,
   "id": "ccec51b9-f14a-4636-beaa-3c16003df262",
   "metadata": {},
   "outputs": [],
   "source": []
  }
 ],
 "metadata": {
  "kernelspec": {
   "display_name": "Python (playground)",
   "language": "python",
   "name": "playground"
  },
  "language_info": {
   "codemirror_mode": {
    "name": "ipython",
    "version": 3
   },
   "file_extension": ".py",
   "mimetype": "text/x-python",
   "name": "python",
   "nbconvert_exporter": "python",
   "pygments_lexer": "ipython3",
   "version": "3.12.2"
  }
 },
 "nbformat": 4,
 "nbformat_minor": 5
}
