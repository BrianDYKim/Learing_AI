{
 "cells": [
  {
   "cell_type": "code",
   "execution_count": 2,
   "id": "0aebbf7d-e339-4a4e-b0a1-da32c0cdb4d6",
   "metadata": {},
   "outputs": [],
   "source": [
    "import numpy as np"
   ]
  },
  {
   "cell_type": "code",
   "execution_count": 14,
   "id": "ede5c3db-6663-4ef0-a6f1-819a5ddfc558",
   "metadata": {},
   "outputs": [],
   "source": [
    "# 오차제곱합 손실함수\n",
    "def sum_squares_error(y: np.array, t: np.array) -> float:\n",
    "    return 0.5 * np.sum((y - t) ** 2)\n",
    "\n",
    "# 크로스 엔트로피 손실함수\n",
    "def cross_entropy_error(y: np.array, t: np.array) -> float:\n",
    "    # 자연로그의 값이 음의 무한대로 발산하는 것을 방지하기 위해서 delta 추가\n",
    "    # 브로드캐스팅을 이용해서 합산 구현\n",
    "    delta = np.array([1e-7])\n",
    "    return -np.sum(t * np.log(y + delta))"
   ]
  },
  {
   "cell_type": "code",
   "execution_count": 15,
   "id": "8c7f2c39-3d0f-44a6-9d65-ccbdc6a8d1dc",
   "metadata": {},
   "outputs": [
    {
     "name": "stdout",
     "output_type": "stream",
     "text": [
      "0.09750000000000003\n",
      "0.510825457099338\n"
     ]
    }
   ],
   "source": [
    "# 정답은 2\n",
    "t = np.array([0] * 10)\n",
    "t[2] = 1\n",
    "\n",
    "# 싧제 prediction\n",
    "y = [0.1, 0.05, 0.6, 0.0, 0.05, 0.1, 0.0, 0.1, 0.0, 0.0]\n",
    "\n",
    "sse = sum_squares_error(y, t)\n",
    "print(sse)\n",
    "\n",
    "cee = cross_entropy_error(y, t)\n",
    "print(cee)"
   ]
  },
  {
   "cell_type": "code",
   "execution_count": 20,
   "id": "f37f30a6-5dff-4fa2-b0d5-bd7330c28209",
   "metadata": {},
   "outputs": [],
   "source": [
    "import sys\n",
    "import os\n",
    "\n",
    "# Jupyter Notebook에서는 os.getcwd() 사용\n",
    "sys.path.append(os.path.join(os.getcwd(), '..'))\n",
    "\n",
    "import numpy as np\n",
    "\n",
    "# dataset/mnist.py 다운로드해서 사용할것\n",
    "from dataset.mnist import load_mnist"
   ]
  },
  {
   "cell_type": "code",
   "execution_count": 23,
   "id": "adb9aa1f-5314-4de5-8e28-90770675c087",
   "metadata": {},
   "outputs": [
    {
     "name": "stdout",
     "output_type": "stream",
     "text": [
      "(60000, 784)\n",
      "(60000, 10)\n"
     ]
    }
   ],
   "source": [
    "(x_train, t_train), (x_test, t_test) = load_mnist(normalize = True, one_hot_label=True)\n",
    "\n",
    "print(x_train.shape)\n",
    "print(t_train.shape)"
   ]
  },
  {
   "cell_type": "code",
   "execution_count": null,
   "id": "1847bcdf-e8a5-4b2e-bf90-73f1b673cda8",
   "metadata": {},
   "outputs": [],
   "source": []
  }
 ],
 "metadata": {
  "kernelspec": {
   "display_name": "Python (playground)",
   "language": "python",
   "name": "playground"
  },
  "language_info": {
   "codemirror_mode": {
    "name": "ipython",
    "version": 3
   },
   "file_extension": ".py",
   "mimetype": "text/x-python",
   "name": "python",
   "nbconvert_exporter": "python",
   "pygments_lexer": "ipython3",
   "version": "3.12.2"
  }
 },
 "nbformat": 4,
 "nbformat_minor": 5
}
