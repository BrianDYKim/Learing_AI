{
 "cells": [
  {
   "cell_type": "markdown",
   "id": "2e53882a-dd13-4b8f-9f49-f0ec6662e284",
   "metadata": {},
   "source": [
    "## Attention is all you need 실습\n",
    "- 본 코드는 기본적으로 Attention is all you need (NIPS 2017) 논문의 내용을 최대한 따릅니다.\n",
    "- 다만 일부 코드의 경우 Attention is all you need 내용을 따르지 않고 최신 아키텍처를 반영한 부분도 존재합니다. (가령, Positional Embedding 부분)\n",
    "\n",
    "**트랜스포머 도식**\n",
    "<img src=\"./resources/attention-is-all-you-need/transformer-architecture.webp\" alt=\"트랜스포머 아키텍처\" width=\"400\" height=\"400\">"
   ]
  },
  {
   "cell_type": "markdown",
   "id": "3558e826-0840-444e-a7b2-36815c5a4829",
   "metadata": {},
   "source": [
    "### 데이터 전처리"
   ]
  },
  {
   "cell_type": "code",
   "execution_count": 2,
   "id": "d3166bdc-8276-4b87-b352-7f4db08c551c",
   "metadata": {},
   "outputs": [
    {
     "name": "stderr",
     "output_type": "stream",
     "text": [
      "/opt/anaconda3/envs/playground/lib/python3.10/site-packages/tqdm/auto.py:21: TqdmWarning: IProgress not found. Please update jupyter and ipywidgets. See https://ipywidgets.readthedocs.io/en/stable/user_install.html\n",
      "  from .autonotebook import tqdm as notebook_tqdm\n"
     ]
    }
   ],
   "source": [
    "from datasets import load_dataset\n",
    "\n",
    "# HuggingFace 에서 데이터셋 로드\n",
    "dataset = load_dataset(\"bentrevett/multi30k\")"
   ]
  },
  {
   "cell_type": "code",
   "execution_count": 3,
   "id": "610651fd-186e-47d4-b656-612b90b674f3",
   "metadata": {},
   "outputs": [
    {
     "name": "stdout",
     "output_type": "stream",
     "text": [
      "{'en': 'Two young, White males are outside near many bushes.', 'de': 'Zwei junge weiße Männer sind im Freien in der Nähe vieler Büsche.'}\n"
     ]
    }
   ],
   "source": [
    "train_dataset, validation_dataset, test_dataset = dataset['train'], dataset['validation'], dataset['test']\n",
    "\n",
    "print(train_dataset[0])"
   ]
  },
  {
   "cell_type": "markdown",
   "id": "5908c4d2-c5cf-4e9e-8625-465d45512700",
   "metadata": {},
   "source": [
    "- **Tokenizer** 및 **Vocab** 생성"
   ]
  },
  {
   "cell_type": "code",
   "execution_count": 5,
   "id": "484e8974-9dbc-485e-9964-1b35dc6344dc",
   "metadata": {},
   "outputs": [],
   "source": [
    "from tokenizers import Tokenizer\n",
    "from tokenizers.models import WordLevel\n",
    "from tokenizers.trainers import WordLevelTrainer\n",
    "from tokenizers.pre_tokenizers import Whitespace"
   ]
  },
  {
   "cell_type": "code",
   "execution_count": 6,
   "id": "e0fc28d2-9b6b-42ea-b7cb-1a6df42dc928",
   "metadata": {},
   "outputs": [],
   "source": [
    "# Word-level tokenizer 초기화\n",
    "unknown_token = \"<unk>\"\n",
    "pad_token, sos_token, eos_token = \"<pad>\", \"<sos>\", \"<eos>\"\n",
    "special_tokens = [unknown_token, pad_token, sos_token, eos_token]\n",
    "\n",
    "def generate_tokenizer() -> Tokenizer:\n",
    "    tokenizer = Tokenizer(WordLevel(unk_token=unknown_token))\n",
    "    tokenizer.pre_tokenizer = Whitespace()\n",
    "\n",
    "    return tokenizer\n",
    "\n",
    "en_tokenizer, de_tokenizer = generate_tokenizer(), generate_tokenizer()"
   ]
  },
  {
   "cell_type": "code",
   "execution_count": 7,
   "id": "5e6a0795-0d6f-4624-9d25-ee2173b3465e",
   "metadata": {},
   "outputs": [],
   "source": [
    "# 학습용 trainer 설정 (vocab 생성)\n",
    "# 단어 단위로 학습 trainer를 구성하고, 적어도 2개 이상 등장하는 단어들을 학습하도록 구성한다\n",
    "trainer = WordLevelTrainer(special_tokens = special_tokens, min_frequency = 2)"
   ]
  },
  {
   "cell_type": "code",
   "execution_count": 8,
   "id": "84675770-50da-4180-9b3f-5ec3a4129ea0",
   "metadata": {},
   "outputs": [],
   "source": [
    "# Tokenizer 학습\n",
    "train_en, train_de = train_dataset['en'], train_dataset['de']\n",
    "\n",
    "en_tokenizer.train_from_iterator(train_en, trainer=trainer)\n",
    "de_tokenizer.train_from_iterator(train_de, trainer=trainer)"
   ]
  },
  {
   "cell_type": "code",
   "execution_count": 9,
   "id": "43d92f5e-c796-4518-8f35-8ea2e375bde2",
   "metadata": {},
   "outputs": [
    {
     "name": "stdout",
     "output_type": "stream",
     "text": [
      "[EN] vocab size: 6203\n",
      "[DE] vocab size: 8060\n",
      "[EN] Sample EN vocab tokens: ['sandwiches', 'freight', 'thing', 'bistro', 'hairnet', 'slip', 'convention', 'curb', 'bodies', 'tight']\n",
      "[DE] Sample DE vocab tokens: ['Heimweg', 'lächelnde', 'liegt', 'daneben', 'Notebook', 'Elektronik', 'Einsatzkräfte', 'Fahrradständer', 'grün', 'Geburtstagsfeier']\n"
     ]
    }
   ],
   "source": [
    "# Vocab Size 확인\n",
    "print(\"[EN] vocab size: {}\".format(en_tokenizer.get_vocab_size()))\n",
    "print(\"[DE] vocab size: {}\".format(de_tokenizer.get_vocab_size()))\n",
    "\n",
    "# vocab token 예시 출력\n",
    "print(\"[EN] Sample EN vocab tokens: {}\".format(list(en_tokenizer.get_vocab().keys())[:10]))\n",
    "print(\"[DE] Sample DE vocab tokens: {}\".format(list(de_tokenizer.get_vocab().keys())[:10]))"
   ]
  },
  {
   "cell_type": "code",
   "execution_count": 10,
   "id": "d38fbc3b-661a-4bf8-8a03-7565d833a910",
   "metadata": {},
   "outputs": [
    {
     "name": "stdout",
     "output_type": "stream",
     "text": [
      "[EN] special token: <unk>, index: 0\n",
      "[DE] special token: <unk>, index: 0\n",
      "---\n",
      "[EN] special token: <pad>, index: 1\n",
      "[DE] special token: <pad>, index: 1\n",
      "---\n",
      "[EN] special token: <sos>, index: 2\n",
      "[DE] special token: <sos>, index: 2\n",
      "---\n",
      "[EN] special token: <eos>, index: 3\n",
      "[DE] special token: <eos>, index: 3\n",
      "---\n"
     ]
    }
   ],
   "source": [
    "# 특수 토큰 인덱스 체크\n",
    "for special_token in special_tokens:\n",
    "    print(\"[EN] special token: {}, index: {}\".format(special_token, en_tokenizer.get_vocab()[special_token]))\n",
    "    print(\"[DE] special token: {}, index: {}\".format(special_token, de_tokenizer.get_vocab()[special_token]))\n",
    "    print(\"---\")"
   ]
  },
  {
   "cell_type": "markdown",
   "id": "1e750d3b-2c46-4251-9c14-34de0e8c7ed6",
   "metadata": {},
   "source": [
    "- **하이퍼 파라미터** 정의"
   ]
  },
  {
   "cell_type": "code",
   "execution_count": 12,
   "id": "2a1435c6-b980-47a5-a401-7645a2ad3440",
   "metadata": {},
   "outputs": [],
   "source": [
    "class ModelConfiguration:\n",
    "    def __init__(self, \n",
    "                 max_len: int = 768, \n",
    "                 batch_size: int = 16,\n",
    "                 hidden_size: int = 512, \n",
    "                 ffn_size: int = 2048,\n",
    "                 num_heads: int = 8, \n",
    "                 num_layers: int = 6, \n",
    "                 dropout_pb: float = 0.1, \n",
    "                 src_vocab_size: int = 0, \n",
    "                 trg_vocab_size: int = 0\n",
    "                ):\n",
    "        self.max_len = max_len\n",
    "        self.batch_size = batch_size\n",
    "        self.hidden_size = hidden_size\n",
    "        self.ffn_size = ffn_size\n",
    "        self.num_heads = num_heads\n",
    "        self.num_layers = num_layers\n",
    "        self.dropout_pb = dropout_pb\n",
    "        self.src_vocab_size = src_vocab_size\n",
    "        self.trg_vocab_size = trg_vocab_size\n",
    "\n",
    "model_config = ModelConfiguration(src_vocab_size=de_tokenizer.get_vocab_size(), trg_vocab_size=en_tokenizer.get_vocab_size())"
   ]
  },
  {
   "cell_type": "markdown",
   "id": "2f3f4fe1-f04c-4881-89a9-6cf108adcbf4",
   "metadata": {},
   "source": [
    "- **데이터 전처리**"
   ]
  },
  {
   "cell_type": "code",
   "execution_count": 14,
   "id": "f2e7fb45-9b36-4bac-93c4-ccff0f2a7f1a",
   "metadata": {},
   "outputs": [],
   "source": [
    "_, en_pad_id, en_sos_id, en_eos_id = map(lambda special_token: en_tokenizer.token_to_id(special_token), special_tokens)\n",
    "_, de_pad_id, de_sos_id, de_eos_id = map(lambda special_token: de_tokenizer.token_to_id(special_token), special_tokens)"
   ]
  },
  {
   "cell_type": "code",
   "execution_count": 15,
   "id": "6d4ad82f-d3bf-45af-a0b6-5e1c915c869d",
   "metadata": {},
   "outputs": [],
   "source": [
    "# input: {\"en\" : \"example_en\", \"de\" : \"example_de\"}\n",
    "def preprocess(dataset: dict) -> dict:\n",
    "    max_len = model_config.max_len\n",
    "    batch_size = model_config.batch_size\n",
    "    \n",
    "    # 토큰 id로 변환\n",
    "    src_input_ids = de_tokenizer.encode(dataset['de']).ids\n",
    "    trg_input_ids = en_tokenizer.encode(dataset['en']).ids\n",
    "\n",
    "    # decoder 출력 부분에 special tokens 추가\n",
    "    # I am a student 라는 문장이 있다면, 출력은 <sos> -> I, I -> am, ... 순으로 예측을 하기 때문\n",
    "    decoder_input = [en_sos_id] + trg_input_ids\n",
    "    labels = trg_input_ids + [en_eos_id]\n",
    "\n",
    "    # padding\n",
    "    encoder_input = src_input_ids[:max_len] + [de_pad_id] * max(0, max_len - len(src_input_ids))\n",
    "    decoder_input = decoder_input[:max_len] + [en_pad_id] * max(0, max_len - len(decoder_input))\n",
    "    labels = labels[:max_len] + [en_pad_id] * max(0, max_len - len(labels))\n",
    "\n",
    "    # Attention mask (1 if real token else 0)\n",
    "    encoder_attention_mask = [1 if token != de_pad_id else 0 for token in encoder_input]\n",
    "    decoder_attention_mask = [1 if token != en_pad_id else 0 for token in decoder_input]\n",
    "\n",
    "    return {\n",
    "        \"encoder_input_ids\" : encoder_input,\n",
    "        \"encoder_attention_mask\" : encoder_attention_mask,\n",
    "        \"decoder_input_ids\" : decoder_input,\n",
    "        \"decoder_attention_mask\" : decoder_attention_mask,\n",
    "        \"labels\" : labels\n",
    "    }"
   ]
  },
  {
   "cell_type": "code",
   "execution_count": 16,
   "id": "49fe2bea-4700-4a36-ac35-8d75e6907187",
   "metadata": {},
   "outputs": [],
   "source": [
    "# 전처리 적용\n",
    "train_dataset = train_dataset.map(preprocess, remove_columns=['en', 'de'])\n",
    "validation_dataset = validation_dataset.map(preprocess, remove_columns=['en', 'de'])\n",
    "test_dataset = test_dataset.map(preprocess, remove_columns=['en', 'de'])"
   ]
  },
  {
   "cell_type": "code",
   "execution_count": 17,
   "id": "1bcffb25-7b82-440d-9d7d-1a3e8a618211",
   "metadata": {},
   "outputs": [
    {
     "name": "stdout",
     "output_type": "stream",
     "text": [
      "{'encoder_input_ids': [14, 5654, 10, 810, 28, 8, 19, 4270, 276, 4, 1, 1, 1, 1, 1, 1, 1, 1, 1, 1, 1, 1, 1, 1, 1, 1, 1, 1, 1, 1, 1, 1, 1, 1, 1, 1, 1, 1, 1, 1, 1, 1, 1, 1, 1, 1, 1, 1, 1, 1, 1, 1, 1, 1, 1, 1, 1, 1, 1, 1, 1, 1, 1, 1, 1, 1, 1, 1, 1, 1, 1, 1, 1, 1, 1, 1, 1, 1, 1, 1, 1, 1, 1, 1, 1, 1, 1, 1, 1, 1, 1, 1, 1, 1, 1, 1, 1, 1, 1, 1, 1, 1, 1, 1, 1, 1, 1, 1, 1, 1, 1, 1, 1, 1, 1, 1, 1, 1, 1, 1, 1, 1, 1, 1, 1, 1, 1, 1, 1, 1, 1, 1, 1, 1, 1, 1, 1, 1, 1, 1, 1, 1, 1, 1, 1, 1, 1, 1, 1, 1, 1, 1, 1, 1, 1, 1, 1, 1, 1, 1, 1, 1, 1, 1, 1, 1, 1, 1, 1, 1, 1, 1, 1, 1, 1, 1, 1, 1, 1, 1, 1, 1, 1, 1, 1, 1, 1, 1, 1, 1, 1, 1, 1, 1, 1, 1, 1, 1, 1, 1, 1, 1, 1, 1, 1, 1, 1, 1, 1, 1, 1, 1, 1, 1, 1, 1, 1, 1, 1, 1, 1, 1, 1, 1, 1, 1, 1, 1, 1, 1, 1, 1, 1, 1, 1, 1, 1, 1, 1, 1, 1, 1, 1, 1, 1, 1, 1, 1, 1, 1, 1, 1, 1, 1, 1, 1, 1, 1, 1, 1, 1, 1, 1, 1, 1, 1, 1, 1, 1, 1, 1, 1, 1, 1, 1, 1, 1, 1, 1, 1, 1, 1, 1, 1, 1, 1, 1, 1, 1, 1, 1, 1, 1, 1, 1, 1, 1, 1, 1, 1, 1, 1, 1, 1, 1, 1, 1, 1, 1, 1, 1, 1, 1, 1, 1, 1, 1, 1, 1, 1, 1, 1, 1, 1, 1, 1, 1, 1, 1, 1, 1, 1, 1, 1, 1, 1, 1, 1, 1, 1, 1, 1, 1, 1, 1, 1, 1, 1, 1, 1, 1, 1, 1, 1, 1, 1, 1, 1, 1, 1, 1, 1, 1, 1, 1, 1, 1, 1, 1, 1, 1, 1, 1, 1, 1, 1, 1, 1, 1, 1, 1, 1, 1, 1, 1, 1, 1, 1, 1, 1, 1, 1, 1, 1, 1, 1, 1, 1, 1, 1, 1, 1, 1, 1, 1, 1, 1, 1, 1, 1, 1, 1, 1, 1, 1, 1, 1, 1, 1, 1, 1, 1, 1, 1, 1, 1, 1, 1, 1, 1, 1, 1, 1, 1, 1, 1, 1, 1, 1, 1, 1, 1, 1, 1, 1, 1, 1, 1, 1, 1, 1, 1, 1, 1, 1, 1, 1, 1, 1, 1, 1, 1, 1, 1, 1, 1, 1, 1, 1, 1, 1, 1, 1, 1, 1, 1, 1, 1, 1, 1, 1, 1, 1, 1, 1, 1, 1, 1, 1, 1, 1, 1, 1, 1, 1, 1, 1, 1, 1, 1, 1, 1, 1, 1, 1, 1, 1, 1, 1, 1, 1, 1, 1, 1, 1, 1, 1, 1, 1, 1, 1, 1, 1, 1, 1, 1, 1, 1, 1, 1, 1, 1, 1, 1, 1, 1, 1, 1, 1, 1, 1, 1, 1, 1, 1, 1, 1, 1, 1, 1, 1, 1, 1, 1, 1, 1, 1, 1, 1, 1, 1, 1, 1, 1, 1, 1, 1, 1, 1, 1, 1, 1, 1, 1, 1, 1, 1, 1, 1, 1, 1, 1, 1, 1, 1, 1, 1, 1, 1, 1, 1, 1, 1, 1, 1, 1, 1, 1, 1, 1, 1, 1, 1, 1, 1, 1, 1, 1, 1, 1, 1, 1, 1, 1, 1, 1, 1, 1, 1, 1, 1, 1, 1, 1, 1, 1, 1, 1, 1, 1, 1, 1, 1, 1, 1, 1, 1, 1, 1, 1, 1, 1, 1, 1, 1, 1, 1, 1, 1, 1, 1, 1, 1, 1, 1, 1, 1, 1, 1, 1, 1, 1, 1, 1, 1, 1, 1, 1, 1, 1, 1, 1, 1, 1, 1, 1, 1, 1, 1, 1, 1, 1, 1, 1, 1, 1, 1, 1, 1, 1, 1, 1, 1, 1, 1, 1, 1, 1, 1, 1, 1, 1, 1, 1, 1, 1, 1, 1, 1, 1, 1, 1, 1, 1, 1, 1, 1, 1, 1, 1, 1, 1, 1, 1, 1, 1, 1, 1, 1, 1, 1, 1, 1, 1, 1, 1, 1, 1, 1, 1, 1, 1, 1, 1, 1, 1, 1, 1, 1, 1, 1, 1, 1, 1, 1, 1, 1, 1, 1, 1, 1, 1, 1, 1, 1, 1, 1, 1], 'encoder_attention_mask': [1, 1, 1, 1, 1, 1, 1, 1, 1, 1, 0, 0, 0, 0, 0, 0, 0, 0, 0, 0, 0, 0, 0, 0, 0, 0, 0, 0, 0, 0, 0, 0, 0, 0, 0, 0, 0, 0, 0, 0, 0, 0, 0, 0, 0, 0, 0, 0, 0, 0, 0, 0, 0, 0, 0, 0, 0, 0, 0, 0, 0, 0, 0, 0, 0, 0, 0, 0, 0, 0, 0, 0, 0, 0, 0, 0, 0, 0, 0, 0, 0, 0, 0, 0, 0, 0, 0, 0, 0, 0, 0, 0, 0, 0, 0, 0, 0, 0, 0, 0, 0, 0, 0, 0, 0, 0, 0, 0, 0, 0, 0, 0, 0, 0, 0, 0, 0, 0, 0, 0, 0, 0, 0, 0, 0, 0, 0, 0, 0, 0, 0, 0, 0, 0, 0, 0, 0, 0, 0, 0, 0, 0, 0, 0, 0, 0, 0, 0, 0, 0, 0, 0, 0, 0, 0, 0, 0, 0, 0, 0, 0, 0, 0, 0, 0, 0, 0, 0, 0, 0, 0, 0, 0, 0, 0, 0, 0, 0, 0, 0, 0, 0, 0, 0, 0, 0, 0, 0, 0, 0, 0, 0, 0, 0, 0, 0, 0, 0, 0, 0, 0, 0, 0, 0, 0, 0, 0, 0, 0, 0, 0, 0, 0, 0, 0, 0, 0, 0, 0, 0, 0, 0, 0, 0, 0, 0, 0, 0, 0, 0, 0, 0, 0, 0, 0, 0, 0, 0, 0, 0, 0, 0, 0, 0, 0, 0, 0, 0, 0, 0, 0, 0, 0, 0, 0, 0, 0, 0, 0, 0, 0, 0, 0, 0, 0, 0, 0, 0, 0, 0, 0, 0, 0, 0, 0, 0, 0, 0, 0, 0, 0, 0, 0, 0, 0, 0, 0, 0, 0, 0, 0, 0, 0, 0, 0, 0, 0, 0, 0, 0, 0, 0, 0, 0, 0, 0, 0, 0, 0, 0, 0, 0, 0, 0, 0, 0, 0, 0, 0, 0, 0, 0, 0, 0, 0, 0, 0, 0, 0, 0, 0, 0, 0, 0, 0, 0, 0, 0, 0, 0, 0, 0, 0, 0, 0, 0, 0, 0, 0, 0, 0, 0, 0, 0, 0, 0, 0, 0, 0, 0, 0, 0, 0, 0, 0, 0, 0, 0, 0, 0, 0, 0, 0, 0, 0, 0, 0, 0, 0, 0, 0, 0, 0, 0, 0, 0, 0, 0, 0, 0, 0, 0, 0, 0, 0, 0, 0, 0, 0, 0, 0, 0, 0, 0, 0, 0, 0, 0, 0, 0, 0, 0, 0, 0, 0, 0, 0, 0, 0, 0, 0, 0, 0, 0, 0, 0, 0, 0, 0, 0, 0, 0, 0, 0, 0, 0, 0, 0, 0, 0, 0, 0, 0, 0, 0, 0, 0, 0, 0, 0, 0, 0, 0, 0, 0, 0, 0, 0, 0, 0, 0, 0, 0, 0, 0, 0, 0, 0, 0, 0, 0, 0, 0, 0, 0, 0, 0, 0, 0, 0, 0, 0, 0, 0, 0, 0, 0, 0, 0, 0, 0, 0, 0, 0, 0, 0, 0, 0, 0, 0, 0, 0, 0, 0, 0, 0, 0, 0, 0, 0, 0, 0, 0, 0, 0, 0, 0, 0, 0, 0, 0, 0, 0, 0, 0, 0, 0, 0, 0, 0, 0, 0, 0, 0, 0, 0, 0, 0, 0, 0, 0, 0, 0, 0, 0, 0, 0, 0, 0, 0, 0, 0, 0, 0, 0, 0, 0, 0, 0, 0, 0, 0, 0, 0, 0, 0, 0, 0, 0, 0, 0, 0, 0, 0, 0, 0, 0, 0, 0, 0, 0, 0, 0, 0, 0, 0, 0, 0, 0, 0, 0, 0, 0, 0, 0, 0, 0, 0, 0, 0, 0, 0, 0, 0, 0, 0, 0, 0, 0, 0, 0, 0, 0, 0, 0, 0, 0, 0, 0, 0, 0, 0, 0, 0, 0, 0, 0, 0, 0, 0, 0, 0, 0, 0, 0, 0, 0, 0, 0, 0, 0, 0, 0, 0, 0, 0, 0, 0, 0, 0, 0, 0, 0, 0, 0, 0, 0, 0, 0, 0, 0, 0, 0, 0, 0, 0, 0, 0, 0, 0, 0, 0, 0, 0, 0, 0, 0, 0, 0, 0, 0, 0, 0, 0, 0, 0, 0, 0, 0, 0, 0, 0, 0, 0, 0, 0, 0, 0, 0, 0, 0, 0, 0, 0, 0, 0, 0, 0, 0, 0, 0, 0, 0, 0, 0, 0, 0, 0, 0, 0, 0, 0, 0, 0, 0, 0, 0, 0, 0, 0, 0, 0, 0, 0, 0, 0, 0, 0, 0, 0, 0, 0, 0, 0, 0, 0, 0, 0, 0, 0, 0, 0, 0, 0, 0, 0, 0, 0, 0, 0, 0, 0, 0, 0, 0, 0, 0, 0], 'decoder_input_ids': [2, 6, 1886, 635, 13, 721, 111, 97, 7, 5913, 5, 1, 1, 1, 1, 1, 1, 1, 1, 1, 1, 1, 1, 1, 1, 1, 1, 1, 1, 1, 1, 1, 1, 1, 1, 1, 1, 1, 1, 1, 1, 1, 1, 1, 1, 1, 1, 1, 1, 1, 1, 1, 1, 1, 1, 1, 1, 1, 1, 1, 1, 1, 1, 1, 1, 1, 1, 1, 1, 1, 1, 1, 1, 1, 1, 1, 1, 1, 1, 1, 1, 1, 1, 1, 1, 1, 1, 1, 1, 1, 1, 1, 1, 1, 1, 1, 1, 1, 1, 1, 1, 1, 1, 1, 1, 1, 1, 1, 1, 1, 1, 1, 1, 1, 1, 1, 1, 1, 1, 1, 1, 1, 1, 1, 1, 1, 1, 1, 1, 1, 1, 1, 1, 1, 1, 1, 1, 1, 1, 1, 1, 1, 1, 1, 1, 1, 1, 1, 1, 1, 1, 1, 1, 1, 1, 1, 1, 1, 1, 1, 1, 1, 1, 1, 1, 1, 1, 1, 1, 1, 1, 1, 1, 1, 1, 1, 1, 1, 1, 1, 1, 1, 1, 1, 1, 1, 1, 1, 1, 1, 1, 1, 1, 1, 1, 1, 1, 1, 1, 1, 1, 1, 1, 1, 1, 1, 1, 1, 1, 1, 1, 1, 1, 1, 1, 1, 1, 1, 1, 1, 1, 1, 1, 1, 1, 1, 1, 1, 1, 1, 1, 1, 1, 1, 1, 1, 1, 1, 1, 1, 1, 1, 1, 1, 1, 1, 1, 1, 1, 1, 1, 1, 1, 1, 1, 1, 1, 1, 1, 1, 1, 1, 1, 1, 1, 1, 1, 1, 1, 1, 1, 1, 1, 1, 1, 1, 1, 1, 1, 1, 1, 1, 1, 1, 1, 1, 1, 1, 1, 1, 1, 1, 1, 1, 1, 1, 1, 1, 1, 1, 1, 1, 1, 1, 1, 1, 1, 1, 1, 1, 1, 1, 1, 1, 1, 1, 1, 1, 1, 1, 1, 1, 1, 1, 1, 1, 1, 1, 1, 1, 1, 1, 1, 1, 1, 1, 1, 1, 1, 1, 1, 1, 1, 1, 1, 1, 1, 1, 1, 1, 1, 1, 1, 1, 1, 1, 1, 1, 1, 1, 1, 1, 1, 1, 1, 1, 1, 1, 1, 1, 1, 1, 1, 1, 1, 1, 1, 1, 1, 1, 1, 1, 1, 1, 1, 1, 1, 1, 1, 1, 1, 1, 1, 1, 1, 1, 1, 1, 1, 1, 1, 1, 1, 1, 1, 1, 1, 1, 1, 1, 1, 1, 1, 1, 1, 1, 1, 1, 1, 1, 1, 1, 1, 1, 1, 1, 1, 1, 1, 1, 1, 1, 1, 1, 1, 1, 1, 1, 1, 1, 1, 1, 1, 1, 1, 1, 1, 1, 1, 1, 1, 1, 1, 1, 1, 1, 1, 1, 1, 1, 1, 1, 1, 1, 1, 1, 1, 1, 1, 1, 1, 1, 1, 1, 1, 1, 1, 1, 1, 1, 1, 1, 1, 1, 1, 1, 1, 1, 1, 1, 1, 1, 1, 1, 1, 1, 1, 1, 1, 1, 1, 1, 1, 1, 1, 1, 1, 1, 1, 1, 1, 1, 1, 1, 1, 1, 1, 1, 1, 1, 1, 1, 1, 1, 1, 1, 1, 1, 1, 1, 1, 1, 1, 1, 1, 1, 1, 1, 1, 1, 1, 1, 1, 1, 1, 1, 1, 1, 1, 1, 1, 1, 1, 1, 1, 1, 1, 1, 1, 1, 1, 1, 1, 1, 1, 1, 1, 1, 1, 1, 1, 1, 1, 1, 1, 1, 1, 1, 1, 1, 1, 1, 1, 1, 1, 1, 1, 1, 1, 1, 1, 1, 1, 1, 1, 1, 1, 1, 1, 1, 1, 1, 1, 1, 1, 1, 1, 1, 1, 1, 1, 1, 1, 1, 1, 1, 1, 1, 1, 1, 1, 1, 1, 1, 1, 1, 1, 1, 1, 1, 1, 1, 1, 1, 1, 1, 1, 1, 1, 1, 1, 1, 1, 1, 1, 1, 1, 1, 1, 1, 1, 1, 1, 1, 1, 1, 1, 1, 1, 1, 1, 1, 1, 1, 1, 1, 1, 1, 1, 1, 1, 1, 1, 1, 1, 1, 1, 1, 1, 1, 1, 1, 1, 1, 1, 1, 1, 1, 1, 1, 1, 1, 1, 1, 1, 1, 1, 1, 1, 1, 1, 1, 1, 1, 1, 1, 1, 1, 1, 1, 1, 1, 1, 1, 1, 1, 1, 1, 1, 1, 1, 1, 1, 1, 1, 1, 1, 1, 1, 1, 1, 1, 1, 1, 1, 1, 1, 1, 1, 1, 1, 1, 1, 1, 1, 1, 1, 1, 1, 1, 1, 1, 1, 1, 1, 1, 1, 1, 1, 1, 1, 1, 1, 1, 1, 1, 1, 1], 'decoder_attention_mask': [1, 1, 1, 1, 1, 1, 1, 1, 1, 1, 1, 0, 0, 0, 0, 0, 0, 0, 0, 0, 0, 0, 0, 0, 0, 0, 0, 0, 0, 0, 0, 0, 0, 0, 0, 0, 0, 0, 0, 0, 0, 0, 0, 0, 0, 0, 0, 0, 0, 0, 0, 0, 0, 0, 0, 0, 0, 0, 0, 0, 0, 0, 0, 0, 0, 0, 0, 0, 0, 0, 0, 0, 0, 0, 0, 0, 0, 0, 0, 0, 0, 0, 0, 0, 0, 0, 0, 0, 0, 0, 0, 0, 0, 0, 0, 0, 0, 0, 0, 0, 0, 0, 0, 0, 0, 0, 0, 0, 0, 0, 0, 0, 0, 0, 0, 0, 0, 0, 0, 0, 0, 0, 0, 0, 0, 0, 0, 0, 0, 0, 0, 0, 0, 0, 0, 0, 0, 0, 0, 0, 0, 0, 0, 0, 0, 0, 0, 0, 0, 0, 0, 0, 0, 0, 0, 0, 0, 0, 0, 0, 0, 0, 0, 0, 0, 0, 0, 0, 0, 0, 0, 0, 0, 0, 0, 0, 0, 0, 0, 0, 0, 0, 0, 0, 0, 0, 0, 0, 0, 0, 0, 0, 0, 0, 0, 0, 0, 0, 0, 0, 0, 0, 0, 0, 0, 0, 0, 0, 0, 0, 0, 0, 0, 0, 0, 0, 0, 0, 0, 0, 0, 0, 0, 0, 0, 0, 0, 0, 0, 0, 0, 0, 0, 0, 0, 0, 0, 0, 0, 0, 0, 0, 0, 0, 0, 0, 0, 0, 0, 0, 0, 0, 0, 0, 0, 0, 0, 0, 0, 0, 0, 0, 0, 0, 0, 0, 0, 0, 0, 0, 0, 0, 0, 0, 0, 0, 0, 0, 0, 0, 0, 0, 0, 0, 0, 0, 0, 0, 0, 0, 0, 0, 0, 0, 0, 0, 0, 0, 0, 0, 0, 0, 0, 0, 0, 0, 0, 0, 0, 0, 0, 0, 0, 0, 0, 0, 0, 0, 0, 0, 0, 0, 0, 0, 0, 0, 0, 0, 0, 0, 0, 0, 0, 0, 0, 0, 0, 0, 0, 0, 0, 0, 0, 0, 0, 0, 0, 0, 0, 0, 0, 0, 0, 0, 0, 0, 0, 0, 0, 0, 0, 0, 0, 0, 0, 0, 0, 0, 0, 0, 0, 0, 0, 0, 0, 0, 0, 0, 0, 0, 0, 0, 0, 0, 0, 0, 0, 0, 0, 0, 0, 0, 0, 0, 0, 0, 0, 0, 0, 0, 0, 0, 0, 0, 0, 0, 0, 0, 0, 0, 0, 0, 0, 0, 0, 0, 0, 0, 0, 0, 0, 0, 0, 0, 0, 0, 0, 0, 0, 0, 0, 0, 0, 0, 0, 0, 0, 0, 0, 0, 0, 0, 0, 0, 0, 0, 0, 0, 0, 0, 0, 0, 0, 0, 0, 0, 0, 0, 0, 0, 0, 0, 0, 0, 0, 0, 0, 0, 0, 0, 0, 0, 0, 0, 0, 0, 0, 0, 0, 0, 0, 0, 0, 0, 0, 0, 0, 0, 0, 0, 0, 0, 0, 0, 0, 0, 0, 0, 0, 0, 0, 0, 0, 0, 0, 0, 0, 0, 0, 0, 0, 0, 0, 0, 0, 0, 0, 0, 0, 0, 0, 0, 0, 0, 0, 0, 0, 0, 0, 0, 0, 0, 0, 0, 0, 0, 0, 0, 0, 0, 0, 0, 0, 0, 0, 0, 0, 0, 0, 0, 0, 0, 0, 0, 0, 0, 0, 0, 0, 0, 0, 0, 0, 0, 0, 0, 0, 0, 0, 0, 0, 0, 0, 0, 0, 0, 0, 0, 0, 0, 0, 0, 0, 0, 0, 0, 0, 0, 0, 0, 0, 0, 0, 0, 0, 0, 0, 0, 0, 0, 0, 0, 0, 0, 0, 0, 0, 0, 0, 0, 0, 0, 0, 0, 0, 0, 0, 0, 0, 0, 0, 0, 0, 0, 0, 0, 0, 0, 0, 0, 0, 0, 0, 0, 0, 0, 0, 0, 0, 0, 0, 0, 0, 0, 0, 0, 0, 0, 0, 0, 0, 0, 0, 0, 0, 0, 0, 0, 0, 0, 0, 0, 0, 0, 0, 0, 0, 0, 0, 0, 0, 0, 0, 0, 0, 0, 0, 0, 0, 0, 0, 0, 0, 0, 0, 0, 0, 0, 0, 0, 0, 0, 0, 0, 0, 0, 0, 0, 0, 0, 0, 0, 0, 0, 0, 0, 0, 0, 0, 0, 0, 0, 0, 0, 0, 0, 0, 0, 0, 0, 0, 0, 0, 0, 0, 0, 0, 0, 0, 0, 0, 0, 0, 0, 0, 0, 0, 0, 0, 0, 0, 0, 0, 0, 0, 0, 0, 0, 0, 0, 0, 0, 0, 0, 0, 0, 0, 0, 0, 0, 0, 0, 0, 0, 0, 0, 0, 0], 'labels': [6, 1886, 635, 13, 721, 111, 97, 7, 5913, 5, 3, 1, 1, 1, 1, 1, 1, 1, 1, 1, 1, 1, 1, 1, 1, 1, 1, 1, 1, 1, 1, 1, 1, 1, 1, 1, 1, 1, 1, 1, 1, 1, 1, 1, 1, 1, 1, 1, 1, 1, 1, 1, 1, 1, 1, 1, 1, 1, 1, 1, 1, 1, 1, 1, 1, 1, 1, 1, 1, 1, 1, 1, 1, 1, 1, 1, 1, 1, 1, 1, 1, 1, 1, 1, 1, 1, 1, 1, 1, 1, 1, 1, 1, 1, 1, 1, 1, 1, 1, 1, 1, 1, 1, 1, 1, 1, 1, 1, 1, 1, 1, 1, 1, 1, 1, 1, 1, 1, 1, 1, 1, 1, 1, 1, 1, 1, 1, 1, 1, 1, 1, 1, 1, 1, 1, 1, 1, 1, 1, 1, 1, 1, 1, 1, 1, 1, 1, 1, 1, 1, 1, 1, 1, 1, 1, 1, 1, 1, 1, 1, 1, 1, 1, 1, 1, 1, 1, 1, 1, 1, 1, 1, 1, 1, 1, 1, 1, 1, 1, 1, 1, 1, 1, 1, 1, 1, 1, 1, 1, 1, 1, 1, 1, 1, 1, 1, 1, 1, 1, 1, 1, 1, 1, 1, 1, 1, 1, 1, 1, 1, 1, 1, 1, 1, 1, 1, 1, 1, 1, 1, 1, 1, 1, 1, 1, 1, 1, 1, 1, 1, 1, 1, 1, 1, 1, 1, 1, 1, 1, 1, 1, 1, 1, 1, 1, 1, 1, 1, 1, 1, 1, 1, 1, 1, 1, 1, 1, 1, 1, 1, 1, 1, 1, 1, 1, 1, 1, 1, 1, 1, 1, 1, 1, 1, 1, 1, 1, 1, 1, 1, 1, 1, 1, 1, 1, 1, 1, 1, 1, 1, 1, 1, 1, 1, 1, 1, 1, 1, 1, 1, 1, 1, 1, 1, 1, 1, 1, 1, 1, 1, 1, 1, 1, 1, 1, 1, 1, 1, 1, 1, 1, 1, 1, 1, 1, 1, 1, 1, 1, 1, 1, 1, 1, 1, 1, 1, 1, 1, 1, 1, 1, 1, 1, 1, 1, 1, 1, 1, 1, 1, 1, 1, 1, 1, 1, 1, 1, 1, 1, 1, 1, 1, 1, 1, 1, 1, 1, 1, 1, 1, 1, 1, 1, 1, 1, 1, 1, 1, 1, 1, 1, 1, 1, 1, 1, 1, 1, 1, 1, 1, 1, 1, 1, 1, 1, 1, 1, 1, 1, 1, 1, 1, 1, 1, 1, 1, 1, 1, 1, 1, 1, 1, 1, 1, 1, 1, 1, 1, 1, 1, 1, 1, 1, 1, 1, 1, 1, 1, 1, 1, 1, 1, 1, 1, 1, 1, 1, 1, 1, 1, 1, 1, 1, 1, 1, 1, 1, 1, 1, 1, 1, 1, 1, 1, 1, 1, 1, 1, 1, 1, 1, 1, 1, 1, 1, 1, 1, 1, 1, 1, 1, 1, 1, 1, 1, 1, 1, 1, 1, 1, 1, 1, 1, 1, 1, 1, 1, 1, 1, 1, 1, 1, 1, 1, 1, 1, 1, 1, 1, 1, 1, 1, 1, 1, 1, 1, 1, 1, 1, 1, 1, 1, 1, 1, 1, 1, 1, 1, 1, 1, 1, 1, 1, 1, 1, 1, 1, 1, 1, 1, 1, 1, 1, 1, 1, 1, 1, 1, 1, 1, 1, 1, 1, 1, 1, 1, 1, 1, 1, 1, 1, 1, 1, 1, 1, 1, 1, 1, 1, 1, 1, 1, 1, 1, 1, 1, 1, 1, 1, 1, 1, 1, 1, 1, 1, 1, 1, 1, 1, 1, 1, 1, 1, 1, 1, 1, 1, 1, 1, 1, 1, 1, 1, 1, 1, 1, 1, 1, 1, 1, 1, 1, 1, 1, 1, 1, 1, 1, 1, 1, 1, 1, 1, 1, 1, 1, 1, 1, 1, 1, 1, 1, 1, 1, 1, 1, 1, 1, 1, 1, 1, 1, 1, 1, 1, 1, 1, 1, 1, 1, 1, 1, 1, 1, 1, 1, 1, 1, 1, 1, 1, 1, 1, 1, 1, 1, 1, 1, 1, 1, 1, 1, 1, 1, 1, 1, 1, 1, 1, 1, 1, 1, 1, 1, 1, 1, 1, 1, 1, 1, 1, 1, 1, 1, 1, 1, 1, 1, 1, 1, 1, 1, 1, 1, 1, 1, 1, 1, 1, 1, 1, 1, 1, 1, 1, 1, 1, 1, 1, 1, 1, 1, 1, 1, 1, 1, 1, 1, 1, 1, 1, 1, 1, 1, 1, 1, 1, 1, 1, 1, 1, 1, 1, 1, 1, 1, 1, 1, 1, 1, 1, 1, 1, 1, 1, 1, 1, 1, 1, 1, 1, 1, 1, 1, 1, 1, 1, 1, 1, 1, 1, 1, 1, 1, 1, 1, 1, 1]}\n"
     ]
    }
   ],
   "source": [
    "print(train_dataset[10])"
   ]
  },
  {
   "cell_type": "code",
   "execution_count": 18,
   "id": "e3686b6d-4aea-43d5-9f7c-26e4a61b4b33",
   "metadata": {},
   "outputs": [],
   "source": [
    "import torch\n",
    "\n",
    "# collate function: 배치에 존재하는 값들의 텐서를 하나의 텐서로 병합하는 함수수\n",
    "def collate_function(batch):\n",
    "    return {\n",
    "        key: torch.tensor([data[key] for data in batch], dtype=torch.long) for key in batch[0]\n",
    "    }"
   ]
  },
  {
   "cell_type": "code",
   "execution_count": 19,
   "id": "fcfdc283-ff3e-451e-924f-3b93e8e22c07",
   "metadata": {},
   "outputs": [],
   "source": [
    "from torch.utils.data import DataLoader\n",
    "\n",
    "# DataLoader 설정\n",
    "batch_size = model_config.batch_size\n",
    "\n",
    "train_loader = DataLoader(train_dataset, batch_size=batch_size, shuffle=True, collate_fn=collate_function)\n",
    "validation_loader = DataLoader(validation_dataset, batch_size=batch_size, shuffle=False, collate_fn=collate_function)\n",
    "test_loader = DataLoader(test_dataset, batch_size=batch_size, shuffle=False, collate_fn=collate_function)"
   ]
  },
  {
   "cell_type": "code",
   "execution_count": 20,
   "id": "8f552d5f-25bf-4a71-a94d-7c25397fe5cd",
   "metadata": {},
   "outputs": [
    {
     "name": "stdout",
     "output_type": "stream",
     "text": [
      "encoder_input_ids: shape=torch.Size([16, 768])\n",
      "encoder_attention_mask: shape=torch.Size([16, 768])\n",
      "decoder_input_ids: shape=torch.Size([16, 768])\n",
      "decoder_attention_mask: shape=torch.Size([16, 768])\n",
      "labels: shape=torch.Size([16, 768])\n"
     ]
    }
   ],
   "source": [
    "# 배치 샘플 확인\n",
    "batch = next(iter(train_loader))\n",
    "\n",
    "for key, value in batch.items():\n",
    "    print(\"{}: shape={}\".format(key, value.shape))"
   ]
  },
  {
   "cell_type": "markdown",
   "id": "188e1284-bc4c-43d4-941d-feb020058c70",
   "metadata": {},
   "source": [
    "## 토큰 임베딩\n",
    "- Attention is all you need 에서 소개한 토큰 임베딩은 크게 token 자체 임베딩, 위치 임데딩 둘을 합쳐서 구현\n",
    "- 이 때 토큰 임베딩 로직은 encoder, decoder 둘이 공유해야합니다"
   ]
  },
  {
   "cell_type": "code",
   "execution_count": 22,
   "id": "bbe01d00-469a-4d74-bd7d-94056af432dc",
   "metadata": {},
   "outputs": [],
   "source": [
    "# 학습 device 정의\n",
    "import torch\n",
    "\n",
    "device = torch.device('mps' if torch.backends.mps.is_available() else 'cpu')"
   ]
  },
  {
   "cell_type": "code",
   "execution_count": 23,
   "id": "cf7e85d3-5d90-415a-abaa-bd0550f923ec",
   "metadata": {},
   "outputs": [],
   "source": [
    "import torch.nn as nn\n",
    "\n",
    "class Embeddings(nn.Module):\n",
    "    def __init__(self, vocab_size: int, hidden_size: int, max_len: int, dropout_prob: float):\n",
    "        super().__init__()\n",
    "        self.token_embedding = nn.Embedding(vocab_size, hidden_size)\n",
    "        self.positional_embedding = nn.Embedding(max_len, hidden_size)\n",
    "        self.layer_norm = nn.LayerNorm(hidden_size, eps=1e-12)\n",
    "        self.dropout = nn.Dropout(dropout_prob)\n",
    "\n",
    "    # Input은 collate 형식의 배치가 들어감\n",
    "    # input_ids = (batch_size, max_len)\n",
    "    def forward(self, input_ids: torch.Tensor) -> torch.Tensor:\n",
    "        # 입력 sequence에 대한 positional ids 생성\n",
    "        # positional_ids = (max_len) -> (1, max_len) -> (batch_size, max_len)\n",
    "        # arange 하는 경우 0 부터 max_len - 1 까지의 텐서가 생성\n",
    "        sequence_len = input_ids.size(1)\n",
    "        positional_ids = torch.arange(sequence_len, device=device)\n",
    "        positional_ids = positional_ids.unsqueeze(0)\n",
    "        positional_ids = positional_ids.expand_as(input_ids)\n",
    "\n",
    "        # 임베딩 : (batch_size, max_len) -> (batch_size, max_len, hidden_size)\n",
    "        token_embeddings = self.token_embedding(input_ids)\n",
    "        positional_embeddings = self.positional_embedding(positional_ids)\n",
    "\n",
    "        # Add/Norm + Dropout\n",
    "        embeddings = token_embeddings + positional_embeddings\n",
    "        embeddings = self.layer_norm(embeddings)\n",
    "        embeddings = self.dropout(embeddings)\n",
    "\n",
    "        return embeddings"
   ]
  },
  {
   "cell_type": "code",
   "execution_count": 24,
   "id": "db8b70a1-4c62-4604-bd7c-315b893e0f9a",
   "metadata": {},
   "outputs": [
    {
     "name": "stdout",
     "output_type": "stream",
     "text": [
      "Input shape: torch.Size([16, 768])\n",
      "Embedding shape: torch.Size([16, 768, 512])\n"
     ]
    }
   ],
   "source": [
    "# 임베딩 검증\n",
    "embedding_layer = Embeddings(\n",
    "    vocab_size=model_config.src_vocab_size,\n",
    "    hidden_size=model_config.hidden_size,\n",
    "    max_len=model_config.max_len,\n",
    "    dropout_prob=model_config.dropout_pb\n",
    ").to(device)\n",
    "\n",
    "batch = next(iter(train_loader))\n",
    "input_ids = batch['encoder_input_ids'].to(device)\n",
    "\n",
    "embeddings = embedding_layer(input_ids)\n",
    "\n",
    "# 결과 확인\n",
    "print(\"Input shape: {}\".format(input_ids.shape))\n",
    "print(\"Embedding shape: {}\".format(embeddings.shape))"
   ]
  },
  {
   "cell_type": "markdown",
   "id": "0bca0ecc-15d0-490b-86d4-30233db863c0",
   "metadata": {},
   "source": [
    "## Multi Head Attention 구현\n",
    "- Transformer 아키텍처의 핵심인 멀티 헤드 어텐션을 구현합니다."
   ]
  },
  {
   "cell_type": "code",
   "execution_count": 26,
   "id": "4d3d3015-929f-4a02-8cb3-47bab3de285a",
   "metadata": {},
   "outputs": [],
   "source": [
    "import torch.nn.functional as F\n",
    "\n",
    "# Scaled dot product attention 구현\n",
    "# 각 원소는 (batch_size, max_len, hidden_size)\n",
    "def scaled_dot_product_attention(query: torch.Tensor,\n",
    "                                 key: torch.Tensor,\n",
    "                                 value: torch.Tensor,\n",
    "                                 mask: torch.Tensor = None\n",
    "                                ) -> torch.Tensor:\n",
    "    # hidden_size\n",
    "    dim_k = query.size(-1)\n",
    "\n",
    "    # Attention score 계산 (batch_size, max_len, max_len)\n",
    "    scores = torch.bmm(query, key.transpose(1, 2)) / (dim_k ** 0.5)\n",
    "\n",
    "    # mask가 존재하면 -1e9를 더하여 무한소로 발산시킴\n",
    "    if mask is not None:\n",
    "        scores = scores.masked_fill(mask == 0, float('-inf'))\n",
    "\n",
    "    # softmax\n",
    "    attention_weights = F.softmax(scores, dim=-1)\n",
    "\n",
    "    # attention * value\n",
    "    # (max_len, max_len) * (max_len, hidden_size) -> (max_len, hidden_size)\n",
    "    # output.shape=(batch_size, max_len, hidden_size)\n",
    "    output = torch.bmm(attention_weights, value)\n",
    "\n",
    "    return output, attention_weights"
   ]
  },
  {
   "cell_type": "markdown",
   "id": "a687527a-8eab-43dc-8e6c-1586e1fa0e0d",
   "metadata": {},
   "source": [
    "- **Attention Head** 구현"
   ]
  },
  {
   "cell_type": "code",
   "execution_count": 28,
   "id": "b9fee69b-3746-427f-862d-61c33bb60368",
   "metadata": {},
   "outputs": [],
   "source": [
    "class AttentionHead(nn.Module):\n",
    "    def __init__(self, hidden_dim: int, head_dim: int):\n",
    "        super().__init__()\n",
    "        self.query_projection = nn.Linear(hidden_dim, head_dim)\n",
    "        self.key_projection = nn.Linear(hidden_dim, head_dim)\n",
    "        self.value_projection = nn.Linear(hidden_dim, head_dim)\n",
    "\n",
    "    def forward(self,\n",
    "                query: torch.Tensor,\n",
    "                key: torch.Tensor,\n",
    "                value: torch.Tensor,\n",
    "                mask: torch.Tensor = None\n",
    "               ) -> torch.Tensor:\n",
    "        Q = self.query_projection(query)\n",
    "        K = self.key_projection(key)\n",
    "        V = self.value_projection(value)\n",
    "\n",
    "        # mask 전달\n",
    "        attention_output, attewntion_weights = scaled_dot_product_attention(Q, K, V, mask)\n",
    "\n",
    "        # (batch_size, max_len, head_dim)\n",
    "        return attention_output"
   ]
  },
  {
   "cell_type": "markdown",
   "id": "9e7fa26e-c024-4c1f-96fc-bdc1c2369b1f",
   "metadata": {},
   "source": [
    "- **Multi Head Attention 구현**"
   ]
  },
  {
   "cell_type": "code",
   "execution_count": 30,
   "id": "2257b2a9-2484-49fc-b18d-daad77a2eccc",
   "metadata": {},
   "outputs": [],
   "source": [
    "class MultiHeadAttention(nn.Module):\n",
    "    def __init__(self, hidden_dim: int, num_heads: int):\n",
    "        super().__init__()\n",
    "        head_dim = hidden_dim // num_heads\n",
    "\n",
    "        self.head_list = nn.ModuleList([AttentionHead(hidden_dim, head_dim) for _ in range(num_heads)])\n",
    "        self.output_linear = nn.Linear(hidden_dim, hidden_dim)\n",
    "\n",
    "    def forward(self,\n",
    "               query: torch.Tensor,\n",
    "               key: torch.Tensor,\n",
    "               value: torch.Tensor,\n",
    "               mask: torch.Tensor = None,\n",
    "               ) -> torch.Tensor:\n",
    "        # (batch_size, max_len, head_dim)\n",
    "        head_output_list = [head(query, key, value, mask) for head in self.head_list]\n",
    "        # (batch_size, max_len, hidden_dim)\n",
    "        concat_attention = torch.concat(head_output_list, dim=-1)\n",
    "        # (batch_size, max_len, hidden_dim)\n",
    "        linear_output = self.output_linear(concat_attention)\n",
    "\n",
    "        return linear_output"
   ]
  },
  {
   "cell_type": "markdown",
   "id": "d6d1ed9b-f97d-44cc-b2db-add0880251e0",
   "metadata": {},
   "source": [
    "- 멀티 헤드 어텐션 테스트"
   ]
  },
  {
   "cell_type": "code",
   "execution_count": 32,
   "id": "fed6aafd-d81d-4eac-b97f-59af6f60c0dc",
   "metadata": {},
   "outputs": [
    {
     "name": "stdout",
     "output_type": "stream",
     "text": [
      "torch.Size([16, 768, 512])\n"
     ]
    }
   ],
   "source": [
    "multi_head_attention = MultiHeadAttention(hidden_dim=model_config.hidden_size, num_heads=model_config.num_heads).to(device)\n",
    "\n",
    "# 이전 테스트에서 임베딩 된 값을 입력으로 제공\n",
    "attn_output = multi_head_attention(embeddings, embeddings, embeddings)\n",
    "\n",
    "print(attn_output.size())"
   ]
  },
  {
   "cell_type": "markdown",
   "id": "4ac70059-51bb-4dce-bdaf-5f8e62d0160a",
   "metadata": {},
   "source": [
    "## Positionwise Feed Forward 계층 설계\n",
    "- 트랜스포머 인코더와 디코더 계층 사이에 존재하는 완전 연결 신경망 계층"
   ]
  },
  {
   "cell_type": "code",
   "execution_count": 34,
   "id": "5c6bd119-a211-42f6-94f8-301d2f352ea3",
   "metadata": {},
   "outputs": [],
   "source": [
    "class PositionwiseFeedForward(nn.Module):\n",
    "    def __init__(self, hidden_dim: int, ffn_dim: int, dropout_pb: float):\n",
    "        super().__init__()\n",
    "        self.linear1 = nn.Linear(hidden_dim, ffn_dim)\n",
    "        self.linear2 = nn.Linear(ffn_dim, hidden_dim)\n",
    "        self.dropout = nn.Dropout(dropout_pb)\n",
    "        self.activation = nn.GELU()\n",
    "\n",
    "    def forward(self, x: torch.Tensor) -> torch.Tensor:\n",
    "        x = self.linear1(x)\n",
    "        x = self.activation(x)\n",
    "        x = self.linear2(x)\n",
    "        x = self.dropout(x)\n",
    "\n",
    "        return x"
   ]
  },
  {
   "cell_type": "markdown",
   "id": "d14e6a19-7822-4f74-a1e9-a0fc4700184e",
   "metadata": {},
   "source": [
    "- 피드 포워드 테스트"
   ]
  },
  {
   "cell_type": "code",
   "execution_count": 36,
   "id": "f253705a-bd4b-4e20-ba15-5a63052f1548",
   "metadata": {},
   "outputs": [
    {
     "name": "stdout",
     "output_type": "stream",
     "text": [
      "torch.Size([16, 768, 512])\n"
     ]
    }
   ],
   "source": [
    "feed_forward_layer = PositionwiseFeedForward(hidden_dim=model_config.hidden_size, ffn_dim=model_config.ffn_size, dropout_pb=model_config.dropout_pb).to(device)\n",
    "\n",
    "ff_outputs = feed_forward_layer(attn_output)\n",
    "\n",
    "print(ff_outputs.size())"
   ]
  },
  {
   "cell_type": "markdown",
   "id": "117a838a-0273-4d58-9ef2-1123f9691930",
   "metadata": {},
   "source": [
    "## Mask 생성 함수 구현\n",
    "- Transformer의 경우 masking 작업이 필요하고, 크게 아래의 두 가지 마스크가 필요하다\n",
    "  - **Masked Self Attention** 에서 사용되는 mask : 미래 단어를 look ahead 하여 부정 예측을 방지\n",
    "  - **Encoder Decoder Attention** 에서 사용되는 mask : encoder에서 들어오는 토큰을 예측에 반영하지 못하도록 막기 위함"
   ]
  },
  {
   "cell_type": "code",
   "execution_count": 38,
   "id": "bd589ce6-df95-46a7-9a11-20dc74145b71",
   "metadata": {},
   "outputs": [],
   "source": [
    "# look ahead를 방지하는 Mask 생성 함수\n",
    "def create_look_ahead_mask(seq_len: int, device: torch.device) -> torch.Tensor:\n",
    "    # (seq_len, seq_len) 사이즈의 1로 filled된 하삼각 행렬 생성\n",
    "    return torch.tril(torch.ones(seq_len, seq_len, device=device)).bool()\n",
    "\n",
    "# <pad>를 무시하도록 padding mask 생성 함수\n",
    "# input_ids : (batch_size, seq_len)\n",
    "# output : (batch_size, 1, seq_len)\n",
    "def create_padding_mask(input_ids: torch.Tensor, pad_token_id: int) -> torch.Tensor:\n",
    "    return (input_ids != pad_token_id).unsqueeze(1)\n",
    "\n",
    "# output : (batch_size, 1, src_len)\n",
    "def create_memory_mask(src_input_ids: torch.Tensor, src_pad_id: int, device: torch.device) -> torch.Tensor:\n",
    "    return create_padding_mask(src_input_ids, src_pad_id)\n",
    "\n",
    "# output : (batch_size, trg_len, trg_len)\n",
    "def create_trg_mask(trg_input_ids: torch.Tensor, trg_pad_id: int, device: torch.device) -> torch.Tensor:\n",
    "    # Decoder padding mask\n",
    "    # (batch_size, 1, trg_len)\n",
    "    trg_padding_mask = create_padding_mask(trg_input_ids, trg_pad_id)\n",
    "\n",
    "    # Decoder Look-ahead mask\n",
    "    # (1, trg_len, trg_len)\n",
    "    look_ahead_mask = create_look_ahead_mask(trg_input_ids.size(-1), device).unsqueeze(0)\n",
    "\n",
    "    # (1, trg_len, trg_len) & (batch_size, 1, trg_len) -> (batch_size, trg_len, trg_len)\n",
    "    return look_ahead_mask & trg_padding_mask"
   ]
  },
  {
   "cell_type": "markdown",
   "id": "b7d5a40d-94cf-49f3-8b61-5304e8310ba7",
   "metadata": {},
   "source": [
    "## Transformer Encoder 설계\n",
    "\n",
    "**트랜스포머 도식**\n",
    "<img src=\"./resources/attention-is-all-you-need/transformer-architecture.webp\" alt=\"트랜스포머 아키텍처\" width=\"400\" height=\"400\">"
   ]
  },
  {
   "cell_type": "code",
   "execution_count": 40,
   "id": "f1c968a5-fc96-4a36-a5ee-c7773c422682",
   "metadata": {},
   "outputs": [],
   "source": [
    "class EncoderLayer(nn.Module):\n",
    "    def __init__(self, hidden_dim: int, ffn_dim: int, num_heads: int, dropout_pb: float):\n",
    "        super().__init__()\n",
    "        self.self_attention = MultiHeadAttention(hidden_dim, num_heads)\n",
    "        self.feed_forward_layer = PositionwiseFeedForward(hidden_dim, ffn_dim, dropout_pb)\n",
    "\n",
    "        self.norm1, self.norm2 = [nn.LayerNorm(hidden_dim) for _ in range(2)]\n",
    "        self.dropout1, self.dropout2 = [nn.Dropout(dropout_pb) for _ in range(2)]\n",
    "\n",
    "    def forward(self, x: torch.Tensor, mask: torch.Tensor = None) -> torch.Tensor:\n",
    "        x_norm1 = self.norm1(x)\n",
    "        attention_output = self.self_attention(x_norm1, x_norm1, x_norm1, mask)\n",
    "\n",
    "        # Dropout -> Residual Addition\n",
    "        x = x + self.dropout1(attention_output)\n",
    "\n",
    "        x_norm2 = self.norm2(x)\n",
    "        ffn_output = self.feed_forward_layer(x_norm2)\n",
    "\n",
    "        # Dropout -> Residual Addition\n",
    "        x = x + self.dropout2(ffn_output)\n",
    "\n",
    "        return x"
   ]
  },
  {
   "cell_type": "code",
   "execution_count": 41,
   "id": "a3482e0c-1c24-4960-89d4-dda117f2765a",
   "metadata": {},
   "outputs": [],
   "source": [
    "class TransformerEncoder(nn.Module):\n",
    "    def __init__(self,\n",
    "                 num_layers: int,\n",
    "                 hidden_dim: int,\n",
    "                 ffn_dim: int,\n",
    "                 num_heads: int,\n",
    "                 dropout_pb: float\n",
    "                ):\n",
    "        super().__init__()\n",
    "        self.encoder_layers = nn.ModuleList([\n",
    "            EncoderLayer(hidden_dim, ffn_dim, num_heads, dropout_pb) for _ in range(num_layers)\n",
    "        ])\n",
    "\n",
    "    def forward(self, x: torch.Tensor) -> torch.Tensor:\n",
    "        for layer in self.encoder_layers:\n",
    "            x = layer(x)\n",
    "\n",
    "        return x"
   ]
  },
  {
   "cell_type": "markdown",
   "id": "87a791c4-6f19-4071-9619-e318722171db",
   "metadata": {},
   "source": [
    "- 트랜스포머 인코더 테스트"
   ]
  },
  {
   "cell_type": "code",
   "execution_count": 43,
   "id": "0eb66fae-54f3-448f-bfee-a198e8fe3577",
   "metadata": {},
   "outputs": [
    {
     "name": "stdout",
     "output_type": "stream",
     "text": [
      "torch.Size([16, 768, 512])\n"
     ]
    }
   ],
   "source": [
    "example_encoder = TransformerEncoder(model_config.num_layers, model_config.hidden_size, model_config.ffn_size, model_config.num_heads, model_config.dropout_pb).to(device)\n",
    "encoder_output = example_encoder(embeddings)\n",
    "\n",
    "print(encoder_output.size())"
   ]
  },
  {
   "cell_type": "markdown",
   "id": "047b3c06-305e-4abe-9c95-bf409cd2da9b",
   "metadata": {},
   "source": [
    "## Transformer Decoder 설계\n",
    "- Masked Multi Head Attention 정의\n",
    "- Decoder Stack 정의\n",
    "- Decoder Stack 여러개 쌓아서 Transformer Decoder 설계\n",
    "- 출력 계층 정의"
   ]
  },
  {
   "cell_type": "code",
   "execution_count": 45,
   "id": "c26f6eac-4b99-462b-9f8f-fecacaad7b06",
   "metadata": {},
   "outputs": [],
   "source": [
    "class DecoderLayer(nn.Module):\n",
    "    def __init__(self, hidden_dim: int, ffn_dim: int, num_heads: int, dropout_pb: float):\n",
    "        super().__init__()\n",
    "        self.self_attention = MultiHeadAttention(hidden_dim, num_heads)\n",
    "        self.encoder_decoder_attention = MultiHeadAttention(hidden_dim, num_heads)\n",
    "        self.feed_forward_layer = PositionwiseFeedForward(hidden_dim, ffn_dim, dropout_pb)\n",
    "\n",
    "        self.norm1, self.norm2, self.norm3 = [nn.LayerNorm(hidden_dim) for _ in range(3)]\n",
    "        self.dropout1, self.dropout2, self.dropout3 = [nn.Dropout(dropout_pb) for _ in range(3)]\n",
    "\n",
    "    def forward(self, \n",
    "                x: torch.Tensor,\n",
    "                encoder_output: torch.Tensor,\n",
    "                trg_mask: torch.Tensor = None,\n",
    "                memory_mask: torch.Tensor = None\n",
    "               ) -> torch.Tensor:\n",
    "        # Masked Self Attention\n",
    "        # 정답에 해당하는 타겟에 마스킹을 적용해야하고, 동시에 padding mask도 적용해야함\n",
    "        x_norm = self.norm1(x)\n",
    "        self_attention_output = self.self_attention(x_norm, x_norm, x_norm, trg_mask)\n",
    "        x = x + self.dropout1(self_attention_output)\n",
    "\n",
    "        # Encoder-Decoder Attention\n",
    "        # encoder-decoder attention 수행 과정에서 <pad> 부분을 추론에 이용하지 못하도록 memory_mask 적용\n",
    "        # query 부분이 끝까지 흘러들어가기 때문에, query 부분에 target 관련 어텐션 스코어가 들어가야함\n",
    "        x_norm = self.norm2(x)\n",
    "        encoder_decoder_attention_output = self.encoder_decoder_attention(x_norm, encoder_output, encoder_output, memory_mask)\n",
    "        x = x + self.dropout2(encoder_decoder_attention_output)\n",
    "\n",
    "        # Feed Forward\n",
    "        x_norm = self.norm3(x)\n",
    "        feed_forward_layer_output = self.feed_forward_layer(x_norm)\n",
    "        x = x + self.dropout3(feed_forward_layer_output)\n",
    "\n",
    "        return x"
   ]
  },
  {
   "cell_type": "code",
   "execution_count": 46,
   "id": "bb44aca7-14d9-4ada-9d68-b27ff0fd0347",
   "metadata": {},
   "outputs": [],
   "source": [
    "class TransformerDecoder(nn.Module):\n",
    "    def __init__(self,\n",
    "                 num_layers: int,\n",
    "                 hidden_dim: int,\n",
    "                 ffn_dim: int,\n",
    "                 num_heads: int,\n",
    "                 dropout_pb: float\n",
    "                ):\n",
    "        super().__init__()\n",
    "        self.decoder_layers = nn.ModuleList([\n",
    "            DecoderLayer(hidden_dim, ffn_dim, num_heads, dropout_pb) for _ in range(num_layers)\n",
    "        ])\n",
    "\n",
    "    def forward(self,\n",
    "                x: torch.Tensor,\n",
    "                encoder_output: torch.Tensor,\n",
    "                trg_mask: torch.Tensor = None,\n",
    "                memory_mask: torch.Tensor = None\n",
    "               ) -> torch.Tensor:\n",
    "        for layer in self.decoder_layers:\n",
    "            x = layer(x, encoder_output, trg_mask, memory_mask)\n",
    "\n",
    "        return x"
   ]
  },
  {
   "cell_type": "markdown",
   "id": "37877f88-e572-4e99-9576-94b418de9fd5",
   "metadata": {},
   "source": [
    "- Transformer Decoder 테스트"
   ]
  },
  {
   "cell_type": "code",
   "execution_count": 48,
   "id": "c3dbf222-8d30-49fd-99d2-e1eb6a9195f7",
   "metadata": {},
   "outputs": [
    {
     "name": "stdout",
     "output_type": "stream",
     "text": [
      "Encoder input shape: torch.Size([16, 768])\n",
      "Encoder embedding shape: torch.Size([16, 768, 512])\n",
      "Decoder input shape: torch.Size([16, 768])\n",
      "Decoder embedding shape: torch.Size([16, 768, 512])\n"
     ]
    }
   ],
   "source": [
    "# 임베딩 검증\n",
    "embedding_layer = Embeddings(\n",
    "    vocab_size=model_config.src_vocab_size,\n",
    "    hidden_size=model_config.hidden_size,\n",
    "    max_len=model_config.max_len,\n",
    "    dropout_prob=model_config.dropout_pb\n",
    ").to(device)\n",
    "\n",
    "batch = next(iter(train_loader))\n",
    "\n",
    "encoder_input_ids = batch['encoder_input_ids'].to(device)\n",
    "decoder_input_ids = batch['decoder_input_ids'].to(device)\n",
    "\n",
    "encoder_embeddings = embedding_layer(encoder_input_ids)\n",
    "decoder_embeddings = embedding_layer(decoder_input_ids)\n",
    "\n",
    "# 결과 확인\n",
    "print(\"Encoder input shape: {}\".format(encoder_input_ids.shape))\n",
    "print(\"Encoder embedding shape: {}\".format(encoder_embeddings.shape))\n",
    "\n",
    "print(\"Decoder input shape: {}\".format(decoder_input_ids.shape))\n",
    "print(\"Decoder embedding shape: {}\".format(decoder_embeddings.shape))"
   ]
  },
  {
   "cell_type": "code",
   "execution_count": 49,
   "id": "a5a761f9-555a-4782-8dab-e1353791e718",
   "metadata": {},
   "outputs": [
    {
     "name": "stdout",
     "output_type": "stream",
     "text": [
      "torch.Size([16, 768, 512])\n"
     ]
    }
   ],
   "source": [
    "memory_mask = create_memory_mask(encoder_input_ids, de_pad_id, device)\n",
    "trg_mask = create_trg_mask(decoder_input_ids, en_pad_id, device)\n",
    "\n",
    "example_encoder = TransformerEncoder(model_config.num_layers, model_config.hidden_size, model_config.ffn_size, model_config.num_heads, model_config.dropout_pb).to(device)\n",
    "encoder_output = example_encoder(encoder_embeddings)\n",
    "\n",
    "example_decoder = TransformerDecoder(model_config.num_layers, model_config.hidden_size, model_config.ffn_size, model_config.num_heads, model_config.dropout_pb).to(device)\n",
    "decoder_output = example_decoder(decoder_embeddings, encoder_output, trg_mask, memory_mask)\n",
    "\n",
    "print(decoder_output.size())"
   ]
  },
  {
   "cell_type": "markdown",
   "id": "f5346ff4-50df-4ff6-850e-0b4414ca7453",
   "metadata": {},
   "source": [
    "## Transformer Encoder, Decoder 통합하여 모델 완성"
   ]
  },
  {
   "cell_type": "code",
   "execution_count": 51,
   "id": "f68c97bd-3ee6-4b11-9f79-766cfffdda8b",
   "metadata": {},
   "outputs": [],
   "source": [
    "class Transformer(nn.Module):\n",
    "    def __init__(self):\n",
    "        super().__init__()\n",
    "\n",
    "        # Tokenizer\n",
    "        self.src_tokenizer = de_tokenizer\n",
    "        self.trg_tokenizer = en_tokenizer\n",
    "\n",
    "        # Embedding Layers\n",
    "        self.src_embedding = Embeddings(model_config.src_vocab_size, model_config.hidden_size, model_config.max_len, model_config.dropout_pb)\n",
    "        self.trg_embedding = Embeddings(model_config.trg_vocab_size, model_config.hidden_size, model_config.max_len, model_config.dropout_pb)\n",
    "\n",
    "        # model_config\n",
    "        self.model_config = ModelConfiguration(src_vocab_size=self.src_tokenizer.get_vocab_size(),\n",
    "                                               trg_vocab_size=self.trg_tokenizer.get_vocab_size()\n",
    "                                              )\n",
    "\n",
    "        # Encoder\n",
    "        self.encoder = TransformerEncoder(self.model_config.num_layers,\n",
    "                                          self.model_config.hidden_size,\n",
    "                                          self.model_config.ffn_size,\n",
    "                                          self.model_config.num_heads,\n",
    "                                          self.model_config.dropout_pb)\n",
    "\n",
    "        # Decoder\n",
    "        self.decoder = TransformerDecoder(model_config.num_layers, model_config.hidden_size, model_config.ffn_size, model_config.num_heads, model_config.dropout_pb)\n",
    "\n",
    "        # Final Linear Projection\n",
    "        self.output_linear = nn.Linear(model_config.hidden_size, model_config.trg_vocab_size)\n",
    "\n",
    "    def forward(self, src_input_ids: torch.Tensor, trg_input_ids: torch.Tensor) -> torch.Tensor:\n",
    "        # Embedding\n",
    "        encoder_input = self.src_embedding(src_input_ids)\n",
    "        decoder_input = self.trg_embedding(trg_input_ids)\n",
    "\n",
    "        # Mask\n",
    "        memory_mask = create_memory_mask(src_input_ids, de_pad_id, device)\n",
    "        trg_mask = create_trg_mask(trg_input_ids, en_pad_id, device)\n",
    "\n",
    "        # Encoder\n",
    "        encoder_output = self.encoder(encoder_input)\n",
    "\n",
    "        # Decoder\n",
    "        decoder_output = self.decoder(decoder_input, encoder_output, trg_mask, memory_mask)\n",
    "\n",
    "        # Final Linear\n",
    "        logits = self.output_linear(decoder_output)\n",
    "\n",
    "        return logits"
   ]
  },
  {
   "cell_type": "markdown",
   "id": "24214d41-164d-4b91-a5cd-3ab4a2631ae1",
   "metadata": {},
   "source": [
    "- Transformer 모델 테스트"
   ]
  },
  {
   "cell_type": "code",
   "execution_count": 53,
   "id": "2884c279-5f5a-4c28-a604-af6d628c54e9",
   "metadata": {},
   "outputs": [],
   "source": [
    "batch = next(iter(train_loader))\n",
    "\n",
    "encoder_input_ids = batch['encoder_input_ids'].to(device)\n",
    "decoder_input_ids = batch['decoder_input_ids'].to(device)\n",
    "\n",
    "example_transformer = Transformer().to(device)\n",
    "example_output = example_transformer(encoder_input_ids, decoder_input_ids)"
   ]
  },
  {
   "cell_type": "code",
   "execution_count": 97,
   "id": "1ef5b8ce-2c60-4718-a6f9-44a25af32dae",
   "metadata": {},
   "outputs": [
    {
     "name": "stdout",
     "output_type": "stream",
     "text": [
      "Sample 1 prediction: than backs bushy peppers than town empanadas come marked grinding lemonade Station Station hid paintbrush licks Station shops Station Station hid Station seminar Station adventurous hid Someone lemonade tutu lemonade black seminar lemonade beagle hills expression hid expression hid worked hid seminar racket hid scales row backs lemonade Time Asia Station expression hid Station job london Station lemonade Station seminar Station plucking Station Station hid row infant two job ring Station likes Station expression Station Station Station cone City groups job Station two Station gives checkout tutu skyline Station hid backs lemonade dryer lemonade Station Station Time sizes Station Station expression directly Station present Station hills lemonade gather barriers Station Station trays dogs magic tutu seminar Station Station groups hills Station Station Station Station Station directly Station attention tutu Station possession Station seminar tutu Station Station beagle Station Station scales Station dorm shoelaces Station Station machine tutu amidst lemonade Station Station Station beagle Station Station Station seminar london onlooker scales Station Station robes lemonade Station Station seminar seminar Station tutu london bearded Station hills backs cone seminar Station tutu Station beagle Station seminar hid Station snacks lemonade lemonade Station Station Station Station machine beagle lights axe Station job hid hid cars saxophones Time tutu Station london soldiers plucking lemonade seminar hid seminar Station amount amidst lemonade black directly tutu scales hills monitor lemonade onlooker assistance Station Station sprayed mixture carving bearded cutout row Station hid Station axe expression london machine hid Station Station lemons magic prints lemonade Station beagle dryer Station Station tutu Station licks Station doctor Station Station bow scaffold cars Station Station amidst london Station saxophones Station expression Station cars Station Station Station lemonade london Station Station scaffold lemonade Station Station hid young lemonade beagle trays lemonade Station Station body films Station Station Station Station Station Station Station seminar Station Station deck Station soldiers Station seminar hills young beagle hid muscular shrubbery Station hills clouds row hills Station groups groups black Station london hills expression Station creating Station view return lemonade knees young Station Station Station tutu Station barely hills Station hid hills expression tutu hid woven hid deck Station Station tutu Station directly Station Station characters onlooker Station seminar Station tutu Station scaffold hid hills Station Station view simply amidst Station beagle amidst hid Yamaha saxophones Station Station Station Station lemonade lemonade Station Station Station Station hid onlooker young Station expression amidst Station hid City Station lemonade hid Station beagle Station hid lemonade tutu scaffold Station Station Station beagle cats Station Station skinned cars lemonade amidst expression worked lemonade Station expression Station Station speaker hid Station Station Station lemonade young preschool Station above hid lemonade Station Station backs Station beds backs deck seminar US Time hid your Time Station tutu Station groups playpen seminar beagle pleasant ladders row Station cartoon likes Station Station scales Station backs shrubbery Station Station view lemonade Station expression lemonade Station tutu groups seminar speaker colors Station expression cause historic hills view Station lemonade seminar lemonade Station plucking Station Station hid lemonade lemonade lemonade Station Time london Station Station hills hid Station seminar Station Station saddled meeting Station capri Station hid Station Station directly young beagle lemonade hid hand magic Station dryer Station lemonade Station Station lemonade gives Station scales cone young Station backs barely lemonade london lemonade speaker Station Station Station Station crushed Station gas expression Station cone Station hid Time london groups hills lemonade job USA protester Station Station seminar seminar groups shrubbery Station likes beagle dryer Station Station seminar hid trains hills lemonade job view seminar seminar Station Station those Station hid Station Station ballerina Station cars Station Time Station slender Station scaffold Station muscular Station Station london lemonade Station seminar groups tests Station beagle beagle young tutu Station hid smiles seminar row Station hid seminar Station Station onlooker lemonade returning hills Station lemonade hills teenager Station lemonade onlooker surfing Station lemonade groups lemonade groups expression Station Station seminar hand Station seminar backs sizes Station lemonade machine City seminar Station Time Station Station alpine Station stockings Station dryer Station two Time Station lemonade london sizes Station Station Station State black dryer onlooker backs USA directly Station Station Time Station inflated Station lemonade cone cars expression USA seminar black seminar hid dryer Station Station hills Station tutu Station Station woven Station beagle expression london Station gives young Station lemonade Station clouds Station hid groups Station Station Station seminar lemonade Station seminar lemonade Station Station Station Station Time Station Station Sunday possession gas tutu expression backs brow Time Station hid Station Station Time lemonade Station woven column surfboarder groups Station cars job possession london Station backs Station Station bowties eyeglasses\n",
      "\n",
      "Sample 2 prediction: sail Dane gift guidebook swoops secure historical cool more Sunday Wet sailor rollerblading Guys enclosure ground Station pets Station Station Station Station seminar Station seminar skateboarder Station maneuvers axe lemonade Station seminar Station beagle Station mount hills cop job Station seminar popcorn racket Station bananas Station backs cone Time nightclub Station stacks boxers Station cone ox jog beagle Station Station job Station acrobatic Station Station two shields two job officers Station black Time Station Station Station job cone through backs deck amidst stockings pictures Station Station Station Station Station raw Station woven Time amidst Station Station Time comfortable Station Station Station Station Station present Station Station speeding tackles Station Station Station Seated clenches Station cars speeding Station Station Station nightclub Station Station job Station amidst Station Station innertube job Station plowing Station raw job Station mixture poses Station Station job Station Station Station Station cook pull Station Station Station Station lemonade Station Station dryer Station Station Station jets seminar views Station Station cone amidst Station Station Someone Station Station job two stylist Station powered backs fireman seminar Station Station Station sprayed Station Station pacifier Station popcorn axe plowing forklift Station amidst Station Station directly Station Station Station Station seminar scope seminar met Time cop Station two job Station village Station comfortable Station Station Basketball cop comfortable Time directly staff bananas Obama Station lemonade Station bath Station Station nightclub mixture Station Station underway job young Easter Station amidst Obama Station officers broken Station arcade Station Station Station nightclub Station hills saxophones Station Station swimming licks returning Station lemonade Station cars two Station Station Station Station two body backs Station two Station Station cars nightclub Station Station lemonade Station Station pets Station basket cone Station cop Station Station beagle Station lemonade Station lemonade Station scales Station Station Station Station job Station Station barely Station Station ravine Station european Station Station Station seminar Station seminar mother cars Station Station teenagers teenagers Station cars Station ring floors Station Station two groups Station alpine duck Station onlooker Station nightclub young seminar Station Station seminar Station scaffold hills Station Station Station lemonade two Station two amidst returning Station Station mother Station Station Station Station Station through Station Station Station repairs black Station delivering hills pull Station Station job Station amidst amidst amidst Station nightclub amidst Station Station Station Station Station Station Station lemonade Station Station cone cop magic Station lemonade young Station Station Station Station Station teenagers Station teenager Station metro lemonade reading cone raw two Station row Station cook Station directly job sprayed mother Station gas nightclub Station ladders popcorn Station job Station Station Station london capes cone Station Station nightclub job watermelon Station Station Station Station beds nightclub Station Station Station teenagers Station your seminar Station cop Station groups Station Station Station baskets cars job job black bearded Station Station young black backs job ahead Station view job nightclub Station bearded bearded backs amidst nightclub bearded baskets Station amidst bowties Station tightly Station Station Station cop lemonade Station Station Station Station Station lemonade Station plugging Station young london Station Station job Station bearded job Station capes Dane cone Station telephone Station young pull Station young seminar lemonade lemonade scaffold Station Station Station Station Station toes Station Station Station worked young Station cone Station Station gas raw Station london looks artist bath amidst Station Station Station Station pull Station Station cone seminar hid Station cone Station directly lemonade your returning hills Station Station Station black Station Dane Station Station Station met Station Station seminar preschool baskets beagle baskets Station Station Station Station seminar Station miniskirt Station Station Station Station Station Station cars Station Time job Station young cone Station Station Station cup Station pull Station seminar Station ahead teenagers Station Station rickshaw Station hid racket pull enclosure Station Station Time barriers met Station Station lemonade returning Station pull lemonade speaker Station Station nightclub postal Station Station ground job seminar Station seminar cars Station Station scaffold Station clenches Station seminar Station Station seminar seminar seminar Station Time Station Station alpine fashionable Station Station Station Station two fluffy Station vertical powered job Station Station Station State seminar worked mother woven scaffold Station slides Station Station Station cone participating Station cone Time Station chews nightclub london Station teenagers cone Station Station teenager Station young Island amidst mini Station catch offer seminar Station capes young Station lemonade Station Station Station seminar tents Station Station row seminar lemonade Station lemonade cook Station Station lemons nightclub rickshaw Station lemonade Sunday slides Station amidst Station backs nightclub lemonade Station returning Station Station cone Station Station Station gas surfboarder pets Station cars speeding Runners two returning Station Station Station outfit Station\n",
      "\n",
      "Sample 3 prediction: submerges appears suitcase makeup Sitting navigate backhoe redheaded zombie clutching wheat Station your dryer teenagers worked cop watermelon Station Station worked Station seminar Station Tree smiles Sunday worked Station lemonade black seminar lemonade beagle gather mount hid scales steering worked arcade am london checked Station skateboarder Station backs mother hid Station expression brow Station handgun seminar shrubbery smiles sprayed takes Station Station Station traditional dryer Station shields Station poster speaker mother bicycling Station Station incense Station Station cone cars backs pull young bungee Station returning clouds Station Station Station column london tackles blow amidst Station dj Time arcade Station Station cars Station seminar USA Station bungee Station tutu barriers beagle cabinet Tree tied backs tutu seminar Station Tree groups nightclub Station Station Station Station seminar assistance groups Station town seminar plowing Station underwear groups Station worked worked Station plowing dj Sunday trains nightclub Station roses seminar lemonade Station directly sprayed lemonade nightclub magic Station Station Station landscape chickens Station scales beagle enclosure cars Sunday Station Station worked Station Station tutu surfboarder stylist lemonade Station backs Station seminar Station tutu incense groups Station Station USA gas view axe lemonade bungee Station amidst Station cop groups lights returning City dryer teenagers closely Station dj Time cop lemonade london job nightclub Tree Station arcade Station Station backs cop welds stump Station pull meeting onlooker incense deck Station Station Sunday london returning meeting carving Station pull row Station hid Station darkly scales Station worked tutu Station backs Station magic Station tutu Station breaking licks Station stocking incense Station deck worked plowing Station groups teenagers scaffold body speaker Station groups body return deck seminar lemonade returning cars nightclub Station Station lemonade plowing Station scales watermelon Station Station Station cop worked lemonade seminar amidst returning Station meeting Tree films Station takes nightclub Station hid Station Station poses Station bearded seminar Station worked Station slides cop takes laptops seminar directly Sunday Station axe mother teenagers Station Station groups expression assistance Station Time poses returning Station powered hid returning takes Station nightclub young Station backs slender groups seminar barely Sunday Station Station Station nightclub brow beam woven lanes returning Station amidst tutu nightclub young Station Station returning Station tutu seminar yo tutu Sunday bearded shrubbery takes pull Station Station Sunday raw Station upset mother nightclub backs chefs plucking Station column plucking lemonade rolls Station Station plowing Station hid onlooker gas Station returning adventurous Station Station worked Station Station teenagers Station nightclub backs groups returning backs watermelon shrubbery Station licks lemonade scales axe Station returning Station shrubbery dryer expression worked poses Station film assistance sunflower Station Station Station Station lemonade Station your body E scales axe backs Station chickens landscape Station beds pretend lemonade USA lemonade teenagers row dryer black Station tutu Station lemonade event Station cone seminar lemonade groups cars tests likes mitt Station scales black bearded plucking Station Station view teenagers bungee Cars black black tutu bungee takes black returning Station amidst waking worked tutu view Station groups takes lemonade Station poses bearded Station Station tutu body nightclub Station shawls london Station Station backs Station backs tutu Station arcade shrubbery Station Station your Station duck Station seminar hid plowing groups london scaffold Sunday possession nightclub powered bungee young cars Station backs backs Station takes cone Station Station tutu barely Station london lemonade gas Station nightclub Station Station Station Station lemonade Station Station cone Station column Station backs Station Station solar Station Sunday young Station black seminar Station USA shrubbery cats young briefs Golden incense Station your shrubbery racket woven forces speaker piercings seminar returning Someone Station Station repairs worked nightclub poses ballerina Station cars Station sign Station comfortable meeting Station Station marathon Station your assistance watermelon Station seminar worked tests Station cone bearded young your hid hid mother helmeted Station self Station barriers Station plowing Station Station returning hills Station lemonade seminar returning lemonade shields body marathon Station worked jack seminar Station dryer nightclub Station backs lemonade Station clenches assistance sizes returning Station body cop seminar lemonade Cricket Station Station hid E surfboarder Station groups body Station Time Station lemonade gather E Station cop nightclub State plucking worked mother mother scales mowed scales Station backs your cone night Sunday bearded groups expression shrubbery America Sunday seminar teenagers saxophones groups Station US hid poses Station young lemonade Station worked cone takes Station trains nightclub postal cars Station shrubbery Station contest incense Station returning Station colors lemonade enclosure lemonade closely directly mini Station Station row Station tutu Sunday shrubbery ground Station present black others seminar returning paint deck licks men Station incense Station self scales capes Station spotted speeding axe incense Station Station Station Station young Station\n",
      "\n",
      "Sample 4 prediction: lamp instructors am canoes semi pull foot shouts bunny Station possession Station Station dryer expression gas Station shops Station backs Station Station E row backs ground Station backs backs sailor Station mother Station dried backs mount backs mother row worked arcade speaker racket racket loaf backs backs backs stocking nightclub Station gas closely Station men backs Station beagle Station heartbeat Station Station Station sprayed tomatoes row backs Time Station ring alpine backs backs backs Station Station Station Station backs backs Station turquoise Station blow backs mother Station bearded Station backs backs backs ground amidst cars Station Time backs barely Station cars bowties Station backs Station looks backs backs rehearsing Station met gas licks backs backs Station Station Station Station nightclub Station Station backs Station ten backs gas backs returning Station gas Station paint comfortable Station worked worked Station watermelon your Station little worked Station Time seminar Station Station Station Runners sailor Station backs Station Station Station Station City row scales ladder Station cars axe Station Station worked Station Blurry tutu beagle bearded Station Station backs knives seminar bearded Station Station worked gas Station USA gas backs Station Station Time Station amount Station teenager rocky warning axe backs Station backs nightclub Station shrubbery Time Station Station london pleasant backs beam Station arcade met Station backs Station breeze worked bearded tutu meeting Obama Time Football met Station Sunday Station backs Station carving Station mother met occasion Station Station forklift backs lemons service music Station backs capes Station Station site your backs dryer gas Station sailor Station row backs backs Station cars Sunday backs cars Station Station nightclub Time backs worked bemused lemonade Station cars Players Time Station backs ground Station mixture Station axe met Station Station backs arcade expression Station cone Station Station row mother Station Station Station Station Station Station gas mother Station Station deck Station sailor Station Station Station young Station licks row paintbrush backs axe backs capes backs Station return row worked Station Station your Station Station backs your backs gas Station your Station Station backs gas Station teenager barely backs Station Station backs backs ground Station row ground Station Station row apparel nightclub young Station Station Station Station Station seminar Station Station black bearded backs backs backs worked cop Nurses teenager seminar backs patrolling backs backs flowers Station Station carving Station Station Station Station arcade Station Station Time ladder dj Station row Sunday Station gas worked Station row men Station watermelon Station Station returning labeled pull gas worked backs row shrubbery Station Station capes worked tent mother Station empanadas worked Station expression backs sunflower backs Station Station Station backs backs cone Station Station worked axe Station Station duck backs teenager beds backs ground Station row saxophones Station tent Time Station Station Station row backs Station beagle backs Station inner beam backs likes backs Station mother Station backs Station row backs Station Time barely Station worked your backs deck carving bearded Brick Station cone Station Station row Station Station Sunday Station Time Station met Station Station Station Station Station backs dj young london Station Station backs backs backs Station Station backs Someone beagle Station worked Station duck met Station alike City mother row ground Sunday Station expression collected painted scales mother Station backs Station backs swimming Station Station Station mother Station Sunday busily mother gas your pull Station Station likes Time enjoy Station Station impressive backs backs Time cars duck Station worked your Sunday young Station row duck Station ground backs Station Time seminar Station Station Station axe teenager trains occasion teenager Station Station backs returning seminar mother miniskirt synchronized stump Station returning Station Station backs Station shrubbery Station apparel blocking cone backs manure Station backs Station pull Station Station Station gas Station beagle paintbrush gas backs bearded hid mother mother Station ground Station sign met duck backs Station Station Station above black its ground boxers backs backs sailor Station worked Station beagle Station directly cars Station Station your Station ground Station Station backs cone seminar Station seminar gas backs Station backs alpine met backs Station Station Station Sunday mother Station row Station NY Station racket Station gas USA london mother duck nightclub bemused backs tent backs young row theme Station clenches USA Station noodles cat mother Station your gas apparel Station set Time Station backs london ground backs speaker dryer pumpkins Station stocking Time Station Station Station backs bearded Station Football Station backs row Gardens shrubbery Station seminar backs barely Station lemons row backs Station Someone Sunday backs Station worked expression backs met duck Station bearded backs Station expression Station Station worked gas paintbrush ground Station cars Station possession worked Station backs Station Station depicted Football\n",
      "\n",
      "Sample 5 prediction: likes crouch chest parts semi gallery suitcase view Station Station adventurous Station Station Station gas ground Station Station Station Station worked Station gas Station gas smiles Station Station returning lemonade Station Station lemonade gas Station catch Station returning expression worked lemonade returning gas Station Arab gas worked oriental cop playpen Station expression gas dryer paintbrush gas gas gas gas gas Station Station Station Station view Station nightclub Station job two Station likes Station scale Station lemonade Station Station likes catch gas Station two gas Station puzzled Station Station Station snowstorm 000 gas dryer homework Station Station Time lemonade Station Station Station Station Station gas Station Station Station Station hills Station gas gas tied nightclub gas gas Station Station Station gas Station Station Station gas Station trains gas clouds gas assistance gas Station paint gas directly Station worked Station dj lemonade Station Station Station Station gas Station Station Station lemonade Station lemonade Station Station Station nightclub Station maneuvers City gas scales Station Station Station lemonade Station Station gas two Station tutu crashes stylist Station shining backs arcade seminar bearded Station two worked Station Station Station gas reluctant Station lemonade Station Station Station Station dryer Station gas Station Station Station Station present Station main worked amidst Station Blurry Station labeled gas Station lemonade Station Station gas Station creating gas Station backs St scales Station gas gas assistance Station Station backs shelves heartbeat Station Station worked Station Station Station shelves gas Station Station seminar Station backs Station Station Station amidst Station hills dryer Station mother worked gas licks worked Station Station Station two gas cars Station Station two body Station Station gas lemonade gas gas Station Station Station gas damaged Station Station gas lemonade playpen Station comfortable gas Station Station gas returning Station lemonade london seminar Station Station Station Station lemonade Station gas lemonade Station Station bakery Station gas Station Station Station expression Station seminar met interacting Station Station Station Station Station Station worked Station gas Station gas gas heartbeat Station creating its returning gas lemonade message Station Station gas gas hearts Station worked hills Station Station Station backs two Station two Station Station gas Station Station Station Station Station Station gas Station Station seminar amidst Station Station Station Station two worked Station heartbeat Station cats Station lemonade worked Station Yamaha amidst worked Station gas Station Station Station Station lemonade gas Station Station cop dj lemonade lemonade adventurous avoid gas beagle Station Station men Station nightclub Station amidst lemonade returning bicycling gas Station adding row tutu gas worked gas gas USA seminar Station worked nightclub Station Station lemonade gas backs Station lemonade Station lemonade Station your Station Station reluctant City bemused Station Station USA Station beds Station lemonade Station Station lemonade Station your Time Station Station Station gas cop Station worked gas Station Station amidst lemonade Attractive Station Station Station Station gas Station Sidewalk Station Station lemonade Station ring gas looks lemonade tutu gas gas latex Station gas Blurry Station pins Station Station Station piece london Station com Station Station Station lemonade gas lemonade Station labeled london Station Station hills tutu heartbeat seminar Station capes fires Station Station gas Station USA Station Station ninja City lemonade Island gas worked Station Station Station Station worked falls Station backs worked Station homework Station Station Station licks gas plugging london gas gas two turquoise Station Station likes dryer gas incense Station USA Station teenager Station bicycling Station Station lemonade Station USA shrubbery Station Station Station worked USA hearts Station others Station Station Station Station gas gas gas Station scales Station Station backs Station Station Station Station Station worked Station Station Station Station backs Station worked Station labeled returning Station Station two gas Station worked lemonade Station Station worked row Station worked Station gas Station gas sandals mother seminar Station Station Time backs Station job com Station returning Station Station gas gas returning gas gas gas bearded Station gas Station Station Station dryer gas Station Station heartbeat Station nightclub assistance Station semi present reluctant Station USA Station Station Station gas Station bicycling Station Station Station Station Station Station Station Station Station returning Station Station Station State USA worked mother gas USA assistance gas Station heartbeat creating cone Station gas gas plucking Station worked capes bearded Station teenagers gas Station Station Station licks rice Station gas gas Station gas lemonade batter Station mannequins Station Station lemonade Station men bearded dryer tents Station lemonade Station scales gas Station lemonade Station Station Station Station Station Station Station tutu Sunday Time gas Station present backs batter gas Station paint Station Station Station Station Station worked gas worked two Station gas Station axe Station Station backs Station assistance Station Station\n",
      "\n",
      "Sample 6 prediction: bins am populated USA S keys double foot out bandanna Sunday fires Hispanic convenience canal bottles rowboat zombie Spiderman Station Station Station seminar Station seminar hid Station shrubbery meeting sailor Station seminar Station Station mother woven hills Station hid Station arcade jog racket Five mother apparel two seminar contorts Station Station shrubbery axe Station reading worked upset beagle plucking Station Station licks Station young Station basket Station Station job amidst Station black plowing your Station cone axe cone cars groups Station Station two Station barely amidst Station Station plowing Station 000 plowing dryer amidst Station Station hills duck Station Station Station Station seminar racket Station City backs Station Station Station Someone Station tied beds beagle Station Station Station nightclub nightclub Station Station Station Station litter Station Station european beagle Station plowing Station seminar axe Station Station Station job Station scales Station Station Station Station cook seminar Station snacks Station Station lemonade Station nightclub woven Station Station duck reading View scales lemonade Station cars young Station Station bystander Station hid job Station stylist Station Station backs your seminar Station Station Station plowing gas powered USA cars plucking axe Station forklift Station Station Station City reading seminar nightclub Station duck hills Basketball plowing racket Time amidst scales Someone seminar nightclub pull Station Station lemonade young Basketball young plowing Station hearts tutu Station self incense onlooker shrubbery Station lemonade Station axe nightclub Station Football seminar Someone young Station hills woven nightclub Station officers seminar Station arcade Station corner Station loaf Station hills plowing Station Station Station Basketball dryer worked 000 backs Someone two Station cars Station Station amidst share Station comfortable find lemonade Station forklift cone Station Station lemonade plowing Station scales Station basket involves Station Someone boa Station beagle watermelon returning Station incense Obama mother Station Station nightclub Station informally Station mother Station Station Station ravine Station Station Station seminar lemonade young hid seminar mother seminar Station Station pets Station Station cars young Station gas Station mother nets axe Station forklift Station apparel Station Station young young self Square Station closely Station handgun Station Station Station Station seminar two hearts woven Station two through Station rice nightclub cone Station Station pets bearded Station Station Station Station Station Station delivering hills Station Station Station pets amidst Station Someone mother Station woven fan Station Station Station Station Station Station Station arcade gas Station forklift Station two Station Someone Sunday avoid gas beagle Station Station men Station USA Station amidst lemonade nightclub pull gas Station Station stroke fancy racket Station mother Station directly black Station inner nightclub Station two popcorn sunflower groups Station plucking Station backs Station your Station Station Oriental hid cars Station Station backs Station beds jog Station Station seminar two Station inner seminar Station curling Station groups sprayed Station arcade poses Station nightclub job forklift comfortable Station Station them Station fires officers Station Station scales forklift cone sprayed Station Care backs bungee USA poses per Station ground Blurry Station duck Station Station lemonade sizes cars Station involves Station Station Station Station knees lemonade Station find heartbeat building Station backs Station sprayed job Station backs jog above Station your gas young mother returning hid amidst lemonade inner out hand Basketball amidst powered Station job Station Station nightclub Station Station jumper cone Station Station apparel Station ground Station Time your Obama Station Station Station nightclub Station groups Station Station underwear Station pull Station cone ground dorm lemonade Station nightclub young beds Station Station plowing them McDonald Station Time Station Basketball Station Station plowing shrubbery pig reluctant lemonade Station USA forklift Station mother cars Station scaffold worked Station Station dryer Station backs Station shrubbery Station apparel Station Station Station marathon Station Station two seminar Station seminar Station row Station duck bearded rickshaw Station Football hid plowing Station Station self Time curling Station Station Station lemonade shrubbery amidst pull lemonade arcade ground lemonade Station jog robes hid homework Station nightclub Station trimming amidst Station town jumper Station clenches tribal forklift view Station firetruck black seminar poses Time Station pull Station Station groups Station Station normal two young Station vertical completely returning Station beagle Station Station returning worked mother duck hills directly scales Station Station Station mother Station Station hour groups Station plowing paintbrush plowing Station incense young forklift plowing young Station young lemonade morning beagle Station seminar hills gas Station mannequins young Station lemonade Station apparel hills dryer Station amidst Station Station Station bearded Station seminar rollerskates black arcade Station Station rickshaw Station Basketball Sunday shrubbery Station Basketball Station race Station Time Station hid amidst Station powered Station black Station scaffold scales pets Station cars seminar axe Station Station Someone Station Station message Station\n",
      "\n",
      "Sample 7 prediction: cup microscope angel views keys listen armed muscular collecting clutching thumbs out out rugby drivers workman Station bicycling Station Station Station Station seminar Station cop Station poses worked returning ninja Station job lemonade contorts mother mount backs amidst E tests Q returning expanse racket Station lemonade Station nightclub glasses bananas Station Time closely Station hand Station Blurry worked Station Station Station Station Station sprayed cook row goers bananas job speaker Station backs backs ground Station backs Station nightclub wants brow pull conducting racket quickly bath amidst Station job Station Station 000 worked job amidst Station Station hills backs Station Station Station Station Station job Station worked backs Station sprayed tests bearded trays tests beds cop seminar Station Station Station gas Station Station backs cop hand backs Station Station job Station plowing closely paint Station Station Station poses job Station job Station Station basket Station racket job Station Station Station Station Station Station sprayed job Station backs Station tests poses racket Station Station Bikers amidst Station brow capes poses Station job Station nightclub Station amidst backs racket amidst Station Station Station directly Station Station cars job popcorn axe Station Station Station amidst Station Station cello poses job City dragging backs closely Station contorts Time amidst Station backs job nightclub job Station lemonade Station worked backs Time amidst Station hand tutu Station race Time lemonade shrubbery Station underway Station metal bananas carving Station job hand Station Station Station tests plugging young lemonade tutu Station backs Station Station expression tutu carved breaking plugging Station Station floors Station poses worked lemonade Station worked two gas Station Station Station two cop backs nightclub find arcade Station speaker best Station Station lemonade london shields lemonade amidst Station axe Station job sprayed arcade Sunday amidst lemonade Station hand row closely Station Station nightclub Station plugging Station hand job backs Station amidst Station worked Station seminar cop beginning lemonade piece paintbrush cars backs Station Station Station Station Station Station Station Station Station closely poses axe Station backs repairs job McDonald Station Station job Station backs cook Station worked barely Station Station Station Station lemonade brow job woven lemonade Station Station ground Station nightclub cone Station Station cars service than seminar Station popcorn nightclub Station Station Station Station Station bearded Station scope Station baskets plowing cop Station pacifier Station lemonade Station Station Station rolls Station lemonade Station Station piercings bearded young Station london Sunday find houses worked Station Station preschool Station nightclub Station per lemonade Station sheep hiking Station nightclub beagle E Toddler Station job contorts sprayed mother expression markings nightclub Station row lemonade Station backs Station Station Station london Station poses preschool Station ground closely baskets Station bearded nightclub Station job Station Station jack backs plugging two your Time Station cop Station takes nightclub Station beagle Station Station Station job leaf cop Station Station scales axe backs job Station Station Station job job Station toes mitt backs shrubbery cop backs Station onlooker backs Blurry backs tightly Station Station groups cop london Station Station Station Station london Station poses lemonade protester london london Station Station capes Station job job Station backs preschool above Station worked hand young beds Station Station plowing Station hand Station hand possession job nightclub Station job Station Station backs Station Station political cop cop Station racket nightclub plugging Station job your Station beds Station Station gas Station Station incense Station dogs backs column Station tests Station Station lemonade job returning protester ground Station Station sprayed Bike backs Station likes Station Station Station job seminar nightclub pig nightclub teenager speaker Station Station returning mother Station Station synchronized fencers Station job per Station cars Station Time job metal Station Station Station forklift Station delivering Station pull Station Station Station tutu Station Station Dane tent Station Station hid Station racket Station job Station backs Station job Station Station plowing floors Station licks arcade knives amidst backs preschool nightclub preschool ground Station lemonade closely ground cars Station incense hand Station clenches Station Station view sizes london Station seminar Station 000 Station Station Station Station backs Station Station job likes Time backs amidst Time sprayed Station Station Station State Station labeled job backs nightclub backs scales Station Station Station mother Station Station Station backs backs plowing catch scope takes carnival Station Station Station young Station Station backs preschool woven scaffold two cop baskets Station political plowing Station lemonade Station amount Station closely Station Station Station Station scales lemonade job Station closely backs Station Station Station protester Station lemonade Sunday shrubbery Station worked Station london nightclub Time Station paint job Station shrubbery Station Station cars Tree baskets amidst Station cars onlooker possession job Station backs Station Station nightclub Station\n",
      "\n",
      "Sample 8 prediction: cup attached shoes four hillside heavy helper shouts out Station tutu Station job am ahead ground cop lemonade Station barriers worked Station seminar teenagers jack worked Station shrubbery young lemonade lemons job lemonade beagle mother london licks job mixture worked lemonade mother 000 hid Arab lemonade two nightclub selections Station goers shrubbery axe snacks soldiers plowing cop fancy Station Basketball job than Station Diners bunch Station backs mixture job likes hid likes directly met gas plowing possession returning job plowing plowing amidst two era returning puzzled tutu Station Station job 000 job stones amidst london Station hid miscellaneous Station fountain nightclub job Station ladder Station cop lemonade tutu dryer harvest two gas ladder cop planting speeding Station Tree drawings gas Station london Station onlooker hand assistance lemonade streamers job Station plowing bales job job ground gas beam job knives job job comes worked Station Station robes Station Oriental houses Station lemonade race nightclub job playpen job job reading beagle scales soldiers carnival Bikers downward Station Station gas poses lemonade job two crushed saxophones sheep tutu Time seminar strums Station two directly mother onlooker raking gas knee playpen plowing forklift young four sizes City saxophones gas tackles black duck teenagers scope beagle shrubbery paintbrush lemonade gas tutu soldiers directly job Station lemonade Station sprayed ahead young both shrubbery dj tutu bananas plucking than lemonade brow capes job later backs mixture carving paddles job move young hid clouds Latino gas lemons young than costume beagle capes corner arcade tutu later young saxophones lemonade young noodles gas lemonade Station hour Station Players bungee job young licks lemons advantage blocking streamers nightclub two lemonade collision puppet fashionable cats Station lemonade london Station mixture amidst lemonade beginning ground cop worked knives mixture amidst returning Station ox Obama strums Station job above Station hid Station job job Station bearded sprayed Station gas Station mother miniskirt likes clenches knives muscular ground young Station beagle soldiers job two young lemonade does ladder mother move heartbeat Station forklift job duck young lemonade infant young young backs gas Station Station gentleman backs Station lemonade bmx jog lemonade patrol two barely hid gas amidst tutu view tutu Station Station Basketball young Station seminar two directly nightclub stroke shrubbery two your two Arab job amidst young Obama worked lands gas possible Station worked carving Station job barriers young lemonade hid bush hid cop young lemonade returning your jumper likes above racket plowing teenagers Station goers Station tutu duck stockings row gas Station raking lemonade fancy job worked catch job lemonade mother lemonade gas stump Station sprayed both sunflower london Station Station Station two your young preschool shrubbery young City strums powered gas per clenches job shawls job job synchronized teenagers hid shoelaces row possible tutu Station sell job gas beagle pleasant lemonade young job dryer likes observed Station lemonade powered powered gay Station barely ground job bungee ring above soldiers lemonade stockings scope bearded per ground ground Tree shrubbery rapids teenagers Station groups sizes lemonade Obama overalls young denim hid lemonade young soldiers arcade job young young powder hour Station job job stripes capes shrubbery above Station capri Station young job hid young 000 lemonade mixture ground two knives job cup USA young than Station lemonade onlooker licks soldiers soldiers above Station licks tutu lemonade london looks gas london overalls Station than likes Time lemonade incense Station dogs streamers lemons dogs arcade gas gas lemonade job job shrubbery carving Station event shrubbery groups mother Station dogs beagle young Station directly your flexible racket patrol stump Station view backs darkly seminar nightclub per lemonade worked Station sheep ballerina Station cars Station bananas job sizes McDonald cone Station job Station your sprayed lemonade Time seminar young ahead carved Station Dane young ravine streamers hid mother rock side job Time cop met job Station Station plowing job mat lemonade beagle Brick side chest postal soldiers hairdresser job job beagle closely strums cars Station cop lemonade Station clenches assistance seminar knitting sizes seminar duck seminar gas per Station beginning stones clouds stockings Station beagle job ladder lanes two lemonade powered than Station directly Station stones seminar dryer job gas speeding reading parachutist Station muscular young mother sizes shrubbery above plucking expression soldiers industrial European takes per young job ground young licks basket lemonade london lemonade enclosure two young ground Station capes young contorts lemonade Station contorts Station job shrubbery young ladder row scales lemonade streamers seminar cook london worked lemons row Station Station met Sunday shrubbery beagle stockings expression shrubbery tests contorts teenager ahead amidst Station worked catch main cars young job capes Station cars likes job london Station lemonade Station Station soldiers Station\n",
      "\n",
      "Sample 9 prediction: skydiving backhoe lit semi Station view cook view arcade Station lemonade Station Station knees paintbrush gas Station Station Station impressive hid Station seminar Station knees hid seminar Station tutu lemonade Station seminar onlooker beagle Someone expression underwear Station steering worked lemonade returning amount Station Station lemonade worked scales upset Station Station expression night Station worked decide Station beagle Station heartbeat Station Station Station sprayed Station row Station Station duck traditional floors smile Station row Station paddles axe Station cars backs tutu Station bungee Station Station mother Station Station Station determined arcade woven dryer hid Station Station Time Station Station Station Station Station seminar present Station City Station lemonade mixture Station Station worked hand backs tutu Station Station Station drawings dj Station Station Station Station knees Station Station mother returning Station plowing Station underwear Station directly gas Station Station Station axe Station Station beagle Station self seminar seminar Station punching Station Station Station sprayed licks Station Station Station Station gas scales Station Station Station amidst Station Station seminar Station Station Station Station stylist Station Station backs lemonade seminar Station Station Station beagle cone onlooker Station Station streamers lemonade dj Station Station Station Station youth saxophones mother gas Station dragging hid closely cars dj Time expression Station two plowing fingers arcade Station arcade Station worked amount Station lemonade later Station Station meeting hills incense pirate upset Station Sunday Station skateboarder beagle mother Station Station row young Station Station beagle bearded Station onlooker lemonade Station backs Station Station backs tutu Station speaker woven dj Station tutu Station licks worked arcade bearded bearded two Station Station speaker Station restaurant onlooker Station Station foot hid muscular comfortable traditional Station Station lemonade Station Station scales Station basket takes Station Time seminar arcade bunny seminar lemonade Station incense Station scales Station seminar Station Station scales Station resort others Station young deck Station view Station Station cop young Station USA directly view Station hills Station Station Station Station trains groups postal Station Station teenagers axe Station barriers Station apparel ring Station mother Station seminar Station Station Station mother barely bemused Station Station Station expression lemonade hearts woven hid Station Station Station Station Station Station Station Station Station Station Station Station bar innertube black Station lemonade mount backs boxers Station Station expression angry lemonade mother Station expression saxophones worked Station looks Station Station Station Station Station Station Station hid mother seminar lemonade returning scales arcade gas above Station lemonade hid Station Station Station beagle Station Station scaffold bearded Station Station lemonade Station axe Station licks Station paddles mother Station comes dj Station Station axe capes backs Station Station Station dj newspaper cone Station Station reluctant present arcade Station bearded backs Station beds Station Station Station london Time Station worked bearded Station fingers Station Time ballerina she Station backs speaker later lighting arcade involves Station Station scales Station bearded Station Station dj scales lemonade cone arcade Station bearded backs worked beagle stylist Station Station expression Blurry worked worked Station Station ring london scales Station tree Station Station Station lemonade punching lemonade Station labeled london Station Station Station Station tutu job Station mother duck bearded Station fireman Station young Station Station looks young lemonade tests cars later possession Station arcade scales possession Station Station backs piercings Station groups Station Station Station licks Station Station Station mother speaker Station Station Station Station likes lowering Station incense Station beagle Station column Station cone apparel dorm lemonade hid Station unkempt hid Station Station Station Station McDonald Station Time axe Station cop Station seminar Station Station mother scales speaker Station seminar returning mother Station Station licks seminar Station your ballerina Station cars Station shrubbery Station powered meeting Station Station heartbeat gas backs scales Station Station interacting groups gas Station Station bearded speaker licks hid hid mother mother Station Station Station reading Station Station Station lemonade returning mother Station licks Station Station Station powered Station painted Station steering Station beagle Station mother extreme Station Station heartbeat Station traditional Station lemonade apparel licks firetruck Station seminar Station Station Station Station hid clouds backs Station Station Station Station Time Station lemonade seminar traditional Station Station Station Station tutu loaf hid licks scales Station scales Station goggles gas mother piercings Station cone backs expression mall likes bearded Station tutu mother bearded Station Station licks Station backs young beagle directly Station Station seminar Station skinned returning tutu lemonade Station returning Station seminar licks Station Station Station beagle lemonade streamers seminar Girl Station arcade black Station Station Station Station Sunday woven Station directly expression backs dj duck angry scales Station Station Station Station Station Station Time onlooker dj Station traditional backs possession cars Station backs Station Station returning Station\n",
      "\n",
      "Sample 10 prediction: cup drivers leaps slips harvest secure learning view tattoos lane wheat Tree pilot Station paintbrush Station cop Station Station tests Station Station Station Station Station Station Station Station tutu sailor black Station Station contorts gas Time Station amidst Station shrubbery washer Station Station Station lemons Station Station seminar jack service Station shrubbery stylist Station Station building Station beagle plucking Station Station Station Station Station Station basket Station alike job 2 Station black Station Station Station Station Station Station likes backs pull young racket warmly Station cone tutu Station Station expression speeding woven dryer amidst Station Station Time Station Station Station cars Station Station nightclub Station return hispanic black popcorn Station % gas licks impressive planting Station Station Station Station gas Station Station Station Station Station Station Station Station groups Station plowing Station Tree clenches mother Station paddles stockings pets meeting Station trains Station Station Station Station Station Station Station Station Station looks popcorn Station Station Station Station City gas scales groups Station cone possession Station Station gas Station Station Station Station stylist Station Station backs Station Station bearded tutu paved groups gas meeting Station Station snacks axe Station Station Station Station Station Station reading warning gas Station Station groups Basketball Station shrubbery Time Station Station tutu pleasant groups dryer Station arcade Station Station gas Station lemonade paintbrush Station tutu building racket Station yet shrubbery Station Station Station nightclub Station Station Station dryer row Station Station Station gas gas Station young seminar Station Station Station Station Station move Station saxophones dryer scaffold young black Station streamers Station 000 Station groups returning Station young Station Station pets cop jack nightclub groups lemons Station scope Station Station Station Station Station Station catch Station basket playpen Station Station Station Station Station amidst poverty Station Station Station cone Station Station nightclub Station cars Station Station save Station Station deck Station sailor Station Station crashes young Station USA mother cars Station Station dryer Station Station Station Station Station Station Station Station presumably Station Station index Station young jack Station Station Station Station Station Station Station Station stockings Station Station Station Station nightclub two Station woven hid Station Station nightclub Station Station Station Station Station Station Station Station seminar nightclub cup groups Station groups Station Station Station Station paved Station building yet amidst dogs dryer outfit Station Station Station Station shrubbery Station Station Station Station Station hid Station young Station groups barely Station Station cars Station groups groups Station amidst Station per Station amidst Station shrubbery Station Station move Station young Station lemons Station Someone mother groups scope Station Station Station popcorn Station groups Station Station Station plowing Station your Station Station young Station synchronized Station Station Station Station beds Tree Station gas Station Time hid prepares Time groups empanadas Station groups nightclub dogs Station Station mother groups amidst dogs pilot hid Station groups black backs gay Station jack Station Station cars mother teenager looks Station groups jack black Station Station ground Tree worked lemons Station Station groups scoop Time Station Station Station Station Station Station gas nightclub Station Lots london Station Station Station temporary Station Station Station arcade firefighters Station Station groups Station young cars Station Station raking Station Station ground Station mother Station Station Dane tackler shrubbery Station backs Station Station Street comfortable Station Station mother column Station Station gas gas Station Station Station Station Square Station groups Station Station cone Station teenager Station cone Station Station Station Station nightclub young Station Station Station Station Station Dane Station young Station Station Station Station Station catch racket spring piercings Station Station Station Station mother Station Station shelves Station Station groups Station Station cars Station Time Station Station blocking cone Station darkly Station Station Station ravine Station Station Station pull Station Station Station young Station beds hid Station hispanic Station Station Station reading Station piercings jack Station Station Station Station licks mother paintbrush Station tutu pins soldiers Station black Station fashionable Station strums cars Station Station Station Station clenches tribal Station Station ethnicities seminar Station reading Station Time Station Station Station Station Station Station Station Station Station cars Station lemonade young Sunday Station Station Station Station Station worked mother gas Station dirty Station Station Rollerblader Station statue night Station Station plucking Station dogs paintbrush Station Station teenagers cone dryer Station cone Station nightclub backs young night Station Station dryer playpen Station capes young Station lemonade Station shrubbery Station Station Station amidst Station Station Station Blurry warming alike Station Station arcade Station Station mother Station firefighters Sunday amidst colors stockings barely black Station Time Station hid Station Station Station Station Station Station young chopping ground Station cars Station possession row Station Station Station Station Station Station\n",
      "\n",
      "Sample 11 prediction: likes cook angel alpine Sitting motorboat surround pose chairs Sunday skydiving Arab Station seminar seminar stockings Station punching Station stopping Station Station seminar Station cop clouds ground Station clouds stopping black tent barriers shrubbery mother tackles shrubbery cop lemons shrubbery arcade stockings racket shoelaces Arab Station licks nightclub cop Golden Station gas closely Station Station job Children shrubbery Station Station Station Station Station shrubbery capri Station firetruck Station job speaker Station return Station plugging Station Station Station Station wants backs Station turquoise stockings beds dryer mother bench Station Station job move job job amidst Station Station worked Station Station london Station Station Station shrubbery Station crashes Station ground Arab Station % Station hand backs cop gas your Station nightclub gas cars industrial Station Station ten Station Station mother job Station plowing Station london job ground Station poses Station Station job Station Arab Station proudly returning Station Station Station punching Station Station Station barriers dryer Station Station Station young Basketball scales Station black Station possession Station Station knee seminar black basket Station stylist Station speaker backs Station USA Basketball Station Station groups Station seminar USA job Arab speaker beds alike Station Station Station cop ground racket Family Station Station Station Basketball stockings shrubbery Time cop Station young job ground ground Station hid return shrubbery backs Station opportunity black Station speaker poses shrubbery Station nightclub shrubbery london Station Station Arab job carving Station Station trees comfortable Station Station race plugging Station job job Station Looking Station job Station amidst your amidst saxophones Arab Station black worked tutu Station hour Station young returning gas Station Station Station later creating return mother two lemons Station scope stockings Station Station lemonade clouds Station skateboarder Station Station cars ground Time Station Station listens gas returning Station Station row seminar Station Station nightclub Station clouds Station job barely Station paddles sprayed Station gas Station mother shrubbery poses Station black row Blurry Station Station clouds Station depicted Station Station Station shrubbery Station Station paddles groups Station stylist return view your Station your beds black warmly gas Station Station barely ground Station job Station young Time tent woven row returning piercings amidst job Station above Station Station returning shrubbery Station seminar Station infant black Station shrubbery Station stockings Station poses Station raw Station amidst mother Station Station outfit Station Station row clouds shrubbery view Station Station Station Station piercings Station young Station job met ground your above Station Station muscular Station amidst Station amidst Station tutu shrubbery surfboarder Station Station backs Station creating Station plowing Station shrubbery mother Station empanadas groups Station Station speaker Station crashes black Station Station ladder pedestrians Arab Station clouds ground seminar halloween Station USA backs Station beds paddles Pokemon seminar row seminar Station speaker Station Station tutu Station morning column seminar beagle iron groups later amidst black amidst hid Station punching Station backs Station Station Station ground job nightclub mother Station black tutu bungee USA black Station alike ground Blurry shrubbery gay Station Station backs innertube Time Station met Station Station nightclub lemonade black piercings Station london Station Station Station backs tutu tutu job Station backs shrubbery tent Station your Station young barriers Station hid young Station Station Station hand possession job nightclub Station job cars Station backs nightclub Station backs shrubbery Station Station tutu Station ground london Station your Station alike Station Station beds Station out Station job chickens infant column ground mother Station Station lemonade Station returning shrubbery beds black seminar black row shrubbery Station McDonald Station Station Station Station your shrubbery piercings nightclub piercings nightclub black seminar Station Station Station shrubbery Station seminar Station Station returning Station clouds Station shrubbery alpine carved labeled Station backs magic Station pull Station Station Station seminar black row Station Station black gas your hand young Station Sunday Station Station Time cop firefighters Station Station Station returning contorts black black speaker tutu black barriers Basketball Station Station job Station speaker groups dryer nightclub Station Station plowing Station ground empanadas Station extends Station firetruck Station black poses Time job Station Station lemons Station Station Station Station than Station backs arcade USA job Station beagle Station gas Station worked job licks hand tent City tent clouds Station row Station Station Station shrubbery black shrubbery seminar mother black black young Station Station cone Station Station shrubbery preschool mini cook Station return job Station skinned returning Station basket Station clouds than tutu shrubbery gas batter row Station Blurry lego alike cook cars Station Station Station cop Station Station Sunday shrubbery Station gas infant shrubbery pull seminar Station poses black surfboarder shrubbery Station Station black German surfboarder pets Station job black possession london Station nightclub Station Station mowed returning\n",
      "\n",
      "Sample 12 prediction: skydiving crouch matching sleigh keys more newspaper view quick doorstep tutu Station Station Station paintbrush side Station beagle Station Time Station Station Station Station cop Station amidst Station tutu lemonade Station Station Station Station Station mount Station amidst Station Station Station Station crushed Station bananas Station Station Station Station Station Station expression closely Station tutu decide Station Station Station Station Station Station Station Station Station Station Station Station Station project Station black Station Station Station Station Station Station cars backs tutu Station Station Station Station amidst Station Station Station Station backs incoming Station Station Station Station Time mother Station Station Station Station Station tent Station Station Station Station Station Station Station Station amidst carving reclining Station Station Station Station officers Station Station Station Station Station Station Station clouds tutu Station plowing Station mother tutu Station gas Station Station Station scales mixture cop Station Station Station Station Station Station bananas Station Station Station Station carving Station Station Station Station received scales Station Station Station Station Station Station cars Station black tutu Station tutu Station amidst backs Station Station Station Station Station tutu Station Station mother gas carving Station Station Station Station amidst Station Station amidst Station Station Station Station black scope Station shrubbery mother amidst Station Station Station amidst arms Station Station Station Station Station Station amidst Station lanes Station Station pets Station row mother Station Station Station backs Station Station Station dryer clouds Station Station Station scales gas amidst Time tutu Station Station Station Station Station amidst Station amidst dryer Station Station tutu Station Station Station Station Station bearded young Station Station Station Station later cop Station Station Station cop Station scope mother Station Station lemonade tutu Station Station Station Station cup Station Station Station Station Station amidst cars Station Station scope tent Station Station Station Station Station Station Station Station Station Station sprayed Station Station Station Station cop amount Station Station paintbrush Station Station Station clouds amidst Station Station Station Station black Station Station Basketball Station Station nightclub Station tackles Station Station Station Station Station Station Station Station Station barely Station Station Station Station amidst Station Station woven Station cop Station Station Station Station cop Station Station slender master Station Station Station men Station Station delivering Station Station Station Station black amidst Station forklift amidst flaps Station amidst Station Station Station Station Station Station Station Station Station Station amidst Station young Station Station backs Station clouds Station Station Station tent Station row Station metro Station Station Station empanadas Station Station row cop gas Station plowing warmly Station mother Station scope Station Station row backs Station Station Station Station Station Station Station Station Station Station Station City Station tent Station backs Station beds cars Station job amidst Time job tent cop Station cop Station clouds mother Station Station Station Station row cop backs observed Station Station tutu black backs dryer Station Station scales Station cars apparel Station Station tutu Station four bearded Station Station row Station Station tutu Station Station groups cop scales Station Station Station Station Station Station knees hid Station sippy row Station Station Station Station Station Station Station Station Dane Station Station Station Station USA tent Station tutu amidst Station Station Station tent Station Station tutu Station job Station Station Station Station Station piercings Station Station Station Station Station row london Station gas warmly Station Station Station Station Station scales Station Station sprayed Station Station Station Station Station Station lemonade amidst tent Station Station Station Station inner row mother Station Time Station Station Station Station your industrial sunflower mother dryer Station black Station returning Station Station Station Station Station Station Station racket Station cars Station Time Station cop Station Station Station Station Station Station Station Station Station Station Station row Station incoming Station amidst Station Station hid Station Station Station Station Station cop comes Station Station Station piercings Station Station Station mother mother Station Station black nightclub Station black Station hand Station Station Station Station Station Station Station ground men Station Station Station firetruck Station amidst Station Station Station Station Station Station Station Station Station Station Station Time backs lemonade Station Station Station Station Station gas Station Station mother mother row tent scales Station Station Station Station tent gas Station plucking Station mall nightclub knee Station tutu beagle Station Station Station Station tutu Station amidst gas Station Station hills cars Station meeting young Station Station Station four Station Station groups Station Station Station Station gives Station Station Station Station amidst Station Station Station Station amidst Station amidst Station Station expression bananas Station seminar Station Station Station Station Station Station Station Station carving job pets Station informally Station throws mother Station Station Station Station Station Station\n",
      "\n",
      "Sample 13 prediction: 000 crouch seating views might houses suitcase view bearded wanting above above rises knees jack Spiderman Station Station young Station Station Station Station Station cop Station men Station tutu lemonade black seminar lemonade cop mother mount job cop cop USA lemonade cop swung lemonade loaf row poses backs cop paintbrush Station expression cop tests men london Children shrubbery plucking Basketball US Station Station Station houses row cop woven informally speaker sprayed backs Station backs Station lemonade Station Station likes backs Station amidst bungee Dane Station puzzled bench Station Station expression backs Station Station lemonade Station Station worked Station Station ground Station job Station present Station bearded backs ground Station harvest Station Station tests cop tutu Station Station Station drawings gas Station Station Station onlooker Station Station Station Station cone Station sitting Station poses groups ground woven poses Station watermelon lemonade Station cop Station ground cook seminar lemonade Station Station Station lemonade Station Station Station Station Station Station tests cop scales lemonade nightclub arcade Station Station Station backs officers Station amidst floors bearded Station two backs view seminar bearded floors two lemonade gas backs mother tutu Arab arcade Station Station Station Station Station City Station lemonade Station black Station backs Dane Station night worked cop woven Station caps nightclub job Station Station Station enclosure backs cop capes Station woven nightclub meeting bearded Family Basketball two stump Station Station backs beagle carving backs job backs Station forces Station German plugging Station Station lemonade Station backs Station stockings Station amidst Station woven paintbrush lemonade mother tests Station cop Station nightclub Station Station returning lemonade cars Station mall backs onlooker bearded Station two lemonade expression fuzzy onlooker Station Station lemonade ground Station lemonade amidst lemonade City ground cop Station Station without ground returning amidst Station cone backs heartbeat Station Station Station informally Station Station barely Station Station sprayed Station basket Station poses cop likes expression bearded mother Station returning Station arms lemonade woven Station limbs Station lemonade Station Station offer Station Station forklift pirate thousands onlooker Station sprayed seminar Station labeled Station closely Station return Station Station Station Station row two return woven cop Station Station ground Station nightclub Station woven Station returning tests Station seminar plugging innertube black Station delivering Station Station Dane paintbrush job amidst amidst lemonade pig Station backs amidst worked lemonade carving Station lemonade Station Station meeting Station Station hid cop magic Station returning backs Station gas tests Station lemonade men Station nightclub Station amidst lemonade nightclub bridesmaids bearded sharing Station gallon tutu tests worked poses cook sprayed mother groups gas groups Station motions backs Station backs Station Station lemonade lemonade Station poses preschool Station young City Station Station saxophone backs Station beds onlooker Pokemon seminar Station lemonade Station shoelaces bearded lemonade tutu Station morning Station cop arcade poses Station Station amidst backs involves bearded Station cop axe bearded Station Station Station view lemonade nightclub Station bearded lemonade backs Volkswagen lemonade bearded postal Station ground bicycling worked tutu Station Station lemonade cop lemonade Station captain Station Station nightclub lemonade lemonade nightclub Station labeled heartbeat Station reading backs stride onlooker seminar Station duck woven Station Station worked Station USA gas plowing returning City ground nightclub ground Station possession Station arcade backs job mother Station black backs variety lemonade woven Station Station apparel Station ground backs mother sprayed Tree dragging Station Station likes Basketball lemonade Station Station cone backs nightclub Station tests Station Station lemonade woven nightclub amidst Station project Station black Station backs Station Time Station Station cop job heartbeat shrubbery racket nightclub mother Station black seminar returning Station Station Station repairs worked Station poses Station Station cars Station worked Station Station Station cone Station Island Station plucking young patrolling Station Station Station tests Station beagle Dane young Station Football nets mother racket Station Station Station repairs Station Station Station lemonade backs Station Station lemonade hills robes cone lemonade noodles surfing Station worked Station likes Station onlooker Station Station gypsy racket Station tests nightclub Station stump ground floors cop mother featuring onlooker Station Station amidst Station backs Station Station Station Station mother backs lemonade chickens returning Station beagle Station Station arcade worked duck woven nightclub Station scales Station Station likes stump Station Station bearded plucking expression shrubbery seminar Station takes teenagers mother Station Station lemonade Station woven rickshaw Station woven backs seminar cop raking Station lemonade nightclub tutu lemonade Station lemonade Tree closely cop Station returning Station Station lemonade cop lemonade cook worked worked shallow Station rickshaw Station Station Sunday shrubbery black stockings Station audience cop duck returning hid Station Station men nightclub nightclub Station lemonade bananas watermelon Station likes young arcade woven Station backs heartbeat Station woven Station\n",
      "\n",
      "Sample 14 prediction: sail strolls populated parts York wear retriever Live marked cars subject fires milling than DS string project pilot Station Station Station Station comes Station Station Station poses sprayed innertube stopping Station Station Station beagle likes mount Station Station Station worked seminar Station racket racket Station Station Station Station sprayed bananas Station ring Basketball Station Station Station Station cone Station Basketball Station Station Station Station Station Station sprayed Station job ring Station black Station Station Station cone Station Station through backs Station Station bungee Station black metal Station Station Station Station Station worked dryer popcorn Station Station hills Station Station Station Station Station Station Station Station Station power Station popcorn sprayed Station Station hand Station beagle Station Station Station Station comes Station Station Station Station Station Football Station Station returning Station plowing Station seminar Station ground Station cone Station Station pleasant am reluctant worked Station sprayed seminar Station Station trains Station Station Station barriers Station Station Station Station sprayed ring scales Station meat axe Station Station Station harvesting lemons nightclub Woman Station bearded Station Station backs Station Station Station Station Station beagle Station Station Station gas loaf Station Station Station Station Station Station Station Station gas Station black Station seminar scope Station dj Time amidst tied Station Station nightclub beam Station Station Station Station Station Station breeze Station Station tutu Station hills informally Basketball Station Station seminar Station nightclub nightclub Station Station Station Station Station Station Station tropical plugging Station Station four costume arcade Station Station Station loaf Station halloween racket Station plowing tests Station poses Station Station Station Station lemonade Station Station Station Station amidst beds seminar nightclub racket hills Station firetruck poses Station Station lemonade Station Station catch Station Station rickshaw Station Station Station Station Station Station scales Station pets Station scales Station Station Station Station Station Station Station barely Station Station bearded Station sailor Station Station Station chopping beagle seminar Station Station Station Station patrol Station Station Station trains Station ravine Station Station teenager cone Station alpine job apparel firetruck Station Station seminar Station Station Station Station Station firetruck hills Station Station Station lemonade ground hearts woven Station Station punching ground Station Station Station Station Station Station Station Station Station Station repairs black Station black racket Station pets black black amidst Station amidst mother Station Station black Station Station ground Station Station Station Station Station Station Station washer onlooker black Station cone sprayed Station Football City Station Station men Station nightclub Station beagle Station informally Station Station Station licks seminar scales hearts Station capes warmly lemonade black Station worked groups Station Station popcorn Station Station Station Station Station teenager Station cone Station Station Station Station Station Station Station backs Station job nightclub firetruck Station Station slung Station sunflower seminar Station tree Station groups Station Station beagle Station Station inner row poverty Station Station Station marathon Station fires Station Station Station Station lemonade cone mother pleasant bearded backs Station piercings bearded observed Station cone Station Station tightly Station Station alike Station Time Station scales Station Station Station Station punching racket Station rises heartbeat Station Station inflatable Station Station Station Station Station shrubbery Station Station Station Station young barriers plowing paintbrush asleep ground inner ladders Station Station Station nightclub Station microphones Station Station Station Station Station Station cone Station Station onlooker Station ground view pets black london Station Station Station crushed Station onlooker Station Station cone Station returning Station cone Station Station lemonade firetruck returning young Station Station Station sprayed Station backs Station scales Station Station Station Station your poses trains beagle Station Station Station Station Station arms Station Station Station Station Station poses Station Station firetruck Station shrubbery Station Station labeled Station Station Station Station backs Station pull Station Station Station row Station Station Station popcorn glasses Football hills capes firetruck Station Station Station barriers Station Station Station Station returning Station Station lemonade hills Station Station Station slender sprayed Station sprayed Station seminar Station Station Station Station Station Station Station clenches Station Station plugging Station firetruck Station seminar bananas Station Station Station Station Station Station Station Station Station Station Station Station Station seminar sprayed Station Station Station scales plucking worked Station woven scaffold Station Station beagle Station Station cone sippy Station clenches USA Station mall Football Football Station teenagers Station Station Station cone licks speeding Station Station lemonade Station Station beagle job Station capes Basketball Station Station Station view hills woven Station amidst Station Station scales lemonade Station seminar scales tied scales Station Station Station Station gas sprayed vintage Station Station expression brace Station fires Station returning Station Station Station Station Station Station German Station pets Station comfortable Station structure Station Station Someone Station Station Station Station\n",
      "\n",
      "Sample 15 prediction: sail conducting exploring views shoulders popcorn homework burger barn hats skydiving avoid officer Guys teenagers side Station Station Station Station Station Station seminar Station backs Station Station worked groups sailor Station seminar Station beagle Station expression hills returning job Station meeting tutu capes hid bananas row floors seminar reading teenagers Station shrubbery side incoming worked job Station cone Station Station job Station Station sprayed cook row Station Station job speaker Station black Station backs Station Station Station comfortable cars informally young Island bananas Station baskets amidst Station Station Station internet backs Station job amidst Station Station Time Station Station Station nightclub Station Tree side Station Station Station hamming popcorn Station police trays tied backs tutu Station Station Station Time pets Station woven job Station amidst return Station mother job Station plowing Station young groups ground decide worked Station Station fully Station Station officers Station lane Station tutu Station young Station Station Station them Station Station Station noodles reading clouds views Station Station mother pets Station Station worked Station Station tutu Station stylist Station Station backs amidst seminar Station Station pets directly Station meeting cars tutu snacks view plowing Station Station Station Station dryer amidst lights Station Station bearded backs Basketball licks government Time cop Station vertical returning nightclub job Station Station Station gas backs Station comfortable black directly tutu Station scales Station yet upset capes Station Station backs nightclub carving Station officers job Station hid Station paintbrush racket Station worked licks Station Station Station scope european tutu Station woven seminar Station Station labeled Station tutu Station meeting Station Station Station scaffold cars Station Station two european vertical view tutu outfit Station cars cone Station Station lemonade ground Station pets Station Station Station Station job Station Station paintbrush Station lemonade Station Station Station scales Station Station Station Station officers Station job job Station Station ravine Station row Station Station Station young Station discuss row Station Station Station forklift row Station Station trains Station returning Station Station teenagers Station Station backs Station tackles capes Station Station Station job backs Station Station mother observed Station Station Station Station row amidst comfortable woven Basketball Station Station USA job Station Station Station Station pets Station Station Station Station knitting Station Island Time firefighters Station racket gallon pets amidst Station amidst mother Station woven directly Station capes Someone hid Station Station Station Station Station Station amidst Station Station Station smiles amidst Station gas Station Station Station Station Station nightclub Station tutu Station tutu Station Station Station licks backs backs Station Station capes Station Someone mother Station scope nightclub Station row both Station job Station Station Station Station Station cone preschool Station ground protester Station amidst gas Station Station beds Station sharing system uniforms lemonade Station your Time tutu knee Station internet deck Station worked Station Station Station Basketball tests comfortable Station Station scales Station bearded Station Station Station Station job cars Station Station looks backs woven pole bearded streamers Station cone waking Station tightly Basketball Station Station cop firefighters Station young bearded Station return tutu comfortable reading Station young Station Station Station worked seminar backs job Station backs Someone Station Station bales Station nightclub pull Station hid young comfortable firefighters ground Station Station Station Station Dane job Station Station backs Station Station Station cone Station Station licks Basketball Time Station poses scales boa Station Station Station likes Station gas Station Station bath Station column Station job Station Station lemonade Station USA shrubbery ground Station Station plowing Station shrubbery Station scales Station dryer Station Station pull pets racket reluctant scales speaker black seminar Station Station Station saxophone Station watermelon Station Station ballerina Station cars Station amidst job tutu meeting capes Station european Station Station Station ravine Station seminar Station tests Station incoming bearded young Station Football punching Station racket Station Station Station cop Station Station Station Station forklift amidst pull lemonade Station returning Time inner amidst colorfully Station ground job beagle Station strums Station Station Station Station Station clenches tribal Station meeting Station firetruck cop building Station both Station Station Station speaker Station Station job Station cop mother backs vertical baskets job Station cop Station cone Station worked mother licks beam Station scales Station Station Station Station Station Station cone scoop expression worked Tree worked Station tutu mother Station Station Station Station Station Station Station darkly Station mother groups job Station capes young tutu lemonade Station four Station woven Football Station Station Station scales shrubbery Station seminar cook Station Station Station Station Station Station tutu Sunday Time gas bananas job Station tests woven Station hid Station Station houses Station Station Station alike european capes Station fully young hispanic Station Station Someone Station Station plowing Station\n",
      "\n",
      "Sample 16 prediction: likes crouch secure sleigh jeep Hispanic apparel soaking out Mexico leave above name knives vintage cave falls Arab young Station Station Station seminar labeled backs Station poses tuxedos young capes directly building Station contorts row mount backs Station arcade worked arcade Time snacks racket bananas lemonade baskets nightclub beds pitch Station amidst closely Station handgun jack Station bearded plucking Station Station Station Station bearded Station cars backs Station beam speaker Station watermelon backs backs Station Station Station Station through lemonade powered young Station possession your clouds Station plowing Station backs 000 axe dryer amidst Station Station Time Station Station young Station Station Station ninja Station Station amidst ground barriers darkly Station trays tied labeled planting seminar Station Station drawings gas Station woven Station Station skyline incoming inflated teenager cone Station plowing Station paint Station ground gas poses axe Station axe statue nightclub Station devices racket robes bananas amidst ground watermelon lemonade Station nightclub returning Station Station Basketball City Station racket Station enclosure Bikers Football ground Station gas Station Station job Station vintage Station labeled backs cone seminar Station licks speaker lemonade Station seminar USA gas carving axe delivering forklift Station apparel Station looks young warning Station Station duck backs scope seminar night Time amidst Station two plowing mowed European Station arcade Station job Basketball amidst amidst Station bearded backs capes pets amidst Basketball met Station Station Station backs bananas carving Station job Someone young Station Station amidst nightclub young amidst seminar Station arcade Station corner shrubbery amidst Station young directly woven Station incense Station streamers worked nightclub Station Tree teenagers clouds Station nightclub your ground teenager jack watermelon find lemonade Station cars Time Station Station Station ground Station watermelon amidst lemonade Station met seminar loaf knives paintbrush amidst poverty Station lemonade job hand costume Station nightclub Station batter Station army Station Station lemonade sprayed dogs gas Station scales Station young ground seminar Station shrubbery backs Station backs Station Station Station limbs Station floors Station racket teenagers Station hid knives trains reluctant pastor lemonade beagle young Station labeled Station Station seminar worked Station Station Station capes nightclub amidst young woven hid returning amidst amidst Station nightclub above Station Station returning Station Station gas amidst men hid bearded groups angry your worked black barriers amidst amidst backs amidst goers backs preschool Station Station ground plowing Station Station Station lemonade Station Station Time onlooker young Station shrubbery amidst find amidst above Station lemonade flooded Station nightclub Station amidst lemonade labeled met Someone clouds Station capes scales Someone Station plowing Station shrubbery sizes Station chickens 000 Station two popcorn backs Someone Station Station Station plowing tackles your Station amidst nightclub present backs amidst arcade backs Station beds young determined Station seminar plowing Station your Time Someone tutu Station sell arcade Station beagle pleasant view job job backs amidst Basketball Station scales axe fires your seminar jack view job nightclub ground worked looks lemonade bungee takes axe flaps Station ground Tree Station duck Station Station nightclub london lemonade nightclub memorial Station Station Station Station punching watermelon Station shawls Station Station Station backs seminar backs Station Station capes Dane nightclub Station worked Station duck job Station view involves lemonade nightclub ground Sunday capes nightclub Station Station young shrubbery Station arcade Station cheek two comfortable Station Station licks Station ground young looks speaker shrubbery amidst Station extreme nightclub Station gas Station Station cone backs column Station job Station Station nightclub Station nightclub amidst amidst Station Station sprayed ground backs Station likes than met Station Station your hid racket bearded teenager powered amidst backs returning Station nightclub Station amidst raw Station Station Station Station backs Station Time Bikers rising returning Station amidst I Station your plowing jeep Station Station Station amidst Station Station Dane rickshaw darkly two hid swimming capes Station Station Station repairs firefighters duck Station job backs lemonade Station lemonade inner ground cone expression Time benches Station ground Station amidst Station snacks nightclub Station labeled hand backs clenches shrubbery licks returning ethnicities firetruck Station amidst Station both snacks Station amidst row backs beds Station Station two Station Station lemonade seminar job Station Station nightclub Station colors loaf mother gas nightclub Station tires Station ground Station shoelaces Station Station bearded watermelon expression fires seminar plowing Station axe young Station Station seminar lands young labeled young night scaffold worked falls amidst Station capes young reading Station Station returning Station seminar Football amidst view young scales lemonade job seminar closely delivering arcade Station Station young Station lemonade Sunday vintage lean amidst your backs nightclub contorts Station hid Station worked watermelon Station Station Station gas gas ground Station colors young met USA Station backs backs ground outfit Station\n",
      "\n"
     ]
    }
   ],
   "source": [
    "# 예측 확률을 확률 분포로 변환\n",
    "probs = F.softmax(example_output, dim=-1)\n",
    "\n",
    "# 가장 높은 확률을 가진 토큰 ID 선택 (greedy decoding)\n",
    "predicted_ids = torch.argmax(probs, dim=-1)  # shape: (batch_size, trg_seq_len)\n",
    "\n",
    "# batch 내 각 샘플에 대해 디코딩\n",
    "for i in range(predicted_ids.size(0)):\n",
    "    token_ids = predicted_ids[i].tolist()\n",
    "    \n",
    "    # 특수 토큰 필터링 (en_tokenizer 기준으로 정의된 특수 토큰 ID들)\n",
    "    filtered_ids = [tok_id for tok_id in token_ids if tok_id not in [en_pad_id, en_sos_id, en_eos_id]]\n",
    "\n",
    "    # ID → 텍스트 디코딩\n",
    "    decoded_text = en_tokenizer.decode(filtered_ids)\n",
    "    print(f\"Sample {i + 1} prediction: {decoded_text}\")\n",
    "    print()"
   ]
  },
  {
   "cell_type": "code",
   "execution_count": null,
   "id": "409db546-fca9-49be-ae31-682a5f4c61c6",
   "metadata": {},
   "outputs": [],
   "source": []
  }
 ],
 "metadata": {
  "kernelspec": {
   "display_name": "playground",
   "language": "python",
   "name": "playground"
  },
  "language_info": {
   "codemirror_mode": {
    "name": "ipython",
    "version": 3
   },
   "file_extension": ".py",
   "mimetype": "text/x-python",
   "name": "python",
   "nbconvert_exporter": "python",
   "pygments_lexer": "ipython3",
   "version": "3.10.13"
  }
 },
 "nbformat": 4,
 "nbformat_minor": 5
}
