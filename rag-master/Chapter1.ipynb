{
 "cells": [
  {
   "cell_type": "code",
   "execution_count": 40,
   "id": "02c8407d-2d02-40a8-ae91-961521c78f59",
   "metadata": {},
   "outputs": [
    {
     "data": {
      "text/plain": [
       "True"
      ]
     },
     "execution_count": 40,
     "metadata": {},
     "output_type": "execute_result"
    }
   ],
   "source": [
    "from dotenv import load_dotenv\n",
    "import os\n",
    "\n",
    "load_dotenv(\".env\")"
   ]
  },
  {
   "cell_type": "code",
   "execution_count": 9,
   "id": "0059d43f-b9ca-4fdf-8ac4-f56e44692183",
   "metadata": {},
   "outputs": [
    {
     "name": "stdout",
     "output_type": "stream",
     "text": [
      "Requirement already satisfied: langchain-openai in /opt/anaconda3/lib/python3.12/site-packages (0.3.18)\n",
      "Requirement already satisfied: langchain-core<1.0.0,>=0.3.61 in /opt/anaconda3/lib/python3.12/site-packages (from langchain-openai) (0.3.62)\n",
      "Requirement already satisfied: openai<2.0.0,>=1.68.2 in /opt/anaconda3/lib/python3.12/site-packages (from langchain-openai) (1.82.0)\n",
      "Requirement already satisfied: tiktoken<1,>=0.7 in /opt/anaconda3/lib/python3.12/site-packages (from langchain-openai) (0.9.0)\n",
      "Requirement already satisfied: langsmith<0.4,>=0.1.126 in /opt/anaconda3/lib/python3.12/site-packages (from langchain-core<1.0.0,>=0.3.61->langchain-openai) (0.3.43)\n",
      "Requirement already satisfied: tenacity!=8.4.0,<10.0.0,>=8.1.0 in /opt/anaconda3/lib/python3.12/site-packages (from langchain-core<1.0.0,>=0.3.61->langchain-openai) (8.2.3)\n",
      "Requirement already satisfied: jsonpatch<2.0,>=1.33 in /opt/anaconda3/lib/python3.12/site-packages (from langchain-core<1.0.0,>=0.3.61->langchain-openai) (1.33)\n",
      "Requirement already satisfied: PyYAML>=5.3 in /opt/anaconda3/lib/python3.12/site-packages (from langchain-core<1.0.0,>=0.3.61->langchain-openai) (6.0.1)\n",
      "Requirement already satisfied: packaging<25,>=23.2 in /opt/anaconda3/lib/python3.12/site-packages (from langchain-core<1.0.0,>=0.3.61->langchain-openai) (24.1)\n",
      "Requirement already satisfied: typing-extensions>=4.7 in /opt/anaconda3/lib/python3.12/site-packages (from langchain-core<1.0.0,>=0.3.61->langchain-openai) (4.11.0)\n",
      "Requirement already satisfied: pydantic>=2.7.4 in /opt/anaconda3/lib/python3.12/site-packages (from langchain-core<1.0.0,>=0.3.61->langchain-openai) (2.8.2)\n",
      "Requirement already satisfied: anyio<5,>=3.5.0 in /opt/anaconda3/lib/python3.12/site-packages (from openai<2.0.0,>=1.68.2->langchain-openai) (4.2.0)\n",
      "Requirement already satisfied: distro<2,>=1.7.0 in /opt/anaconda3/lib/python3.12/site-packages (from openai<2.0.0,>=1.68.2->langchain-openai) (1.9.0)\n",
      "Requirement already satisfied: httpx<1,>=0.23.0 in /opt/anaconda3/lib/python3.12/site-packages (from openai<2.0.0,>=1.68.2->langchain-openai) (0.27.0)\n",
      "Requirement already satisfied: jiter<1,>=0.4.0 in /opt/anaconda3/lib/python3.12/site-packages (from openai<2.0.0,>=1.68.2->langchain-openai) (0.10.0)\n",
      "Requirement already satisfied: sniffio in /opt/anaconda3/lib/python3.12/site-packages (from openai<2.0.0,>=1.68.2->langchain-openai) (1.3.0)\n",
      "Requirement already satisfied: tqdm>4 in /opt/anaconda3/lib/python3.12/site-packages (from openai<2.0.0,>=1.68.2->langchain-openai) (4.66.5)\n",
      "Requirement already satisfied: regex>=2022.1.18 in /opt/anaconda3/lib/python3.12/site-packages (from tiktoken<1,>=0.7->langchain-openai) (2024.9.11)\n",
      "Requirement already satisfied: requests>=2.26.0 in /opt/anaconda3/lib/python3.12/site-packages (from tiktoken<1,>=0.7->langchain-openai) (2.32.3)\n",
      "Requirement already satisfied: idna>=2.8 in /opt/anaconda3/lib/python3.12/site-packages (from anyio<5,>=3.5.0->openai<2.0.0,>=1.68.2->langchain-openai) (3.7)\n",
      "Requirement already satisfied: certifi in /opt/anaconda3/lib/python3.12/site-packages (from httpx<1,>=0.23.0->openai<2.0.0,>=1.68.2->langchain-openai) (2025.1.31)\n",
      "Requirement already satisfied: httpcore==1.* in /opt/anaconda3/lib/python3.12/site-packages (from httpx<1,>=0.23.0->openai<2.0.0,>=1.68.2->langchain-openai) (1.0.2)\n",
      "Requirement already satisfied: h11<0.15,>=0.13 in /opt/anaconda3/lib/python3.12/site-packages (from httpcore==1.*->httpx<1,>=0.23.0->openai<2.0.0,>=1.68.2->langchain-openai) (0.14.0)\n",
      "Requirement already satisfied: jsonpointer>=1.9 in /opt/anaconda3/lib/python3.12/site-packages (from jsonpatch<2.0,>=1.33->langchain-core<1.0.0,>=0.3.61->langchain-openai) (2.1)\n",
      "Requirement already satisfied: orjson<4.0.0,>=3.9.14 in /opt/anaconda3/lib/python3.12/site-packages (from langsmith<0.4,>=0.1.126->langchain-core<1.0.0,>=0.3.61->langchain-openai) (3.10.18)\n",
      "Requirement already satisfied: requests-toolbelt<2.0.0,>=1.0.0 in /opt/anaconda3/lib/python3.12/site-packages (from langsmith<0.4,>=0.1.126->langchain-core<1.0.0,>=0.3.61->langchain-openai) (1.0.0)\n",
      "Requirement already satisfied: zstandard<0.24.0,>=0.23.0 in /opt/anaconda3/lib/python3.12/site-packages (from langsmith<0.4,>=0.1.126->langchain-core<1.0.0,>=0.3.61->langchain-openai) (0.23.0)\n",
      "Requirement already satisfied: annotated-types>=0.4.0 in /opt/anaconda3/lib/python3.12/site-packages (from pydantic>=2.7.4->langchain-core<1.0.0,>=0.3.61->langchain-openai) (0.6.0)\n",
      "Requirement already satisfied: pydantic-core==2.20.1 in /opt/anaconda3/lib/python3.12/site-packages (from pydantic>=2.7.4->langchain-core<1.0.0,>=0.3.61->langchain-openai) (2.20.1)\n",
      "Requirement already satisfied: charset-normalizer<4,>=2 in /opt/anaconda3/lib/python3.12/site-packages (from requests>=2.26.0->tiktoken<1,>=0.7->langchain-openai) (3.3.2)\n",
      "Requirement already satisfied: urllib3<3,>=1.21.1 in /opt/anaconda3/lib/python3.12/site-packages (from requests>=2.26.0->tiktoken<1,>=0.7->langchain-openai) (2.2.3)\n"
     ]
    }
   ],
   "source": [
    "# langchain 라이브러리 설치\n",
    "!pip install langchain-openai"
   ]
  },
  {
   "cell_type": "markdown",
   "id": "3fed09ae-7cfe-44ee-8097-fe0dfb5a3fff",
   "metadata": {},
   "source": [
    "## 환경변수 로드"
   ]
  },
  {
   "cell_type": "code",
   "execution_count": 42,
   "id": "51780ebd-e46c-4c0a-83c3-7b53bc79c20b",
   "metadata": {},
   "outputs": [],
   "source": [
    "api_key = os.getenv(\"OPENAI_API_KEY\")"
   ]
  },
  {
   "cell_type": "markdown",
   "id": "ed34301b-9a07-4bb0-96f6-388462c50883",
   "metadata": {},
   "source": [
    "## LLM 초기화\n",
    "- openAI"
   ]
  },
  {
   "cell_type": "code",
   "execution_count": 21,
   "id": "b9917d7c-1c16-4e24-9df6-357f0d47dcfa",
   "metadata": {},
   "outputs": [],
   "source": [
    "from langchain_openai import OpenAI"
   ]
  },
  {
   "cell_type": "code",
   "execution_count": 23,
   "id": "abc0e443-4d9a-4b64-80ba-50f030f09659",
   "metadata": {},
   "outputs": [],
   "source": [
    "llm = OpenAI(api_key=api_key)"
   ]
  },
  {
   "cell_type": "markdown",
   "id": "0db25c9a-1a14-4101-bcac-a72ed57881d9",
   "metadata": {},
   "source": [
    "## OpenAI API를 직접 이용하여 응답 생성 파이프라인 생성"
   ]
  },
  {
   "cell_type": "code",
   "execution_count": 29,
   "id": "7d012863-fccb-4e36-a28a-eade5d1b51b1",
   "metadata": {},
   "outputs": [],
   "source": [
    "import openai\n",
    "from typing import List"
   ]
  },
  {
   "cell_type": "code",
   "execution_count": 31,
   "id": "eb9e2347-7cc1-4ca3-8ef6-7e6ef028add2",
   "metadata": {},
   "outputs": [],
   "source": [
    "client = openai.OpenAI()"
   ]
  },
  {
   "cell_type": "markdown",
   "id": "ef2b0f36-0fd4-4b1a-9996-66aa9b91bb2c",
   "metadata": {},
   "source": [
    "#### 가장 간단한 형태"
   ]
  },
  {
   "cell_type": "code",
   "execution_count": 33,
   "id": "22c0498a-a160-48a6-8542-25bf645bd19a",
   "metadata": {},
   "outputs": [],
   "source": [
    "response = client.chat.completions.create(\n",
    "    model = \"gpt-4o-mini\",\n",
    "    messages = [{\"role\" : \"user\", \"content\" : \"안녕하세요!\"}]\n",
    ")"
   ]
  },
  {
   "cell_type": "code",
   "execution_count": 35,
   "id": "215cc6c9-ad90-447e-a175-5a4263a035fd",
   "metadata": {},
   "outputs": [
    {
     "name": "stdout",
     "output_type": "stream",
     "text": [
      "안녕하세요! 어떻게 도와드릴까요?\n"
     ]
    }
   ],
   "source": [
    "print(response.choices[0].message.content)"
   ]
  },
  {
   "cell_type": "markdown",
   "id": "b24522b5-f205-47bf-b936-cdd807fdf39d",
   "metadata": {},
   "source": [
    "#### 함수로 분리"
   ]
  },
  {
   "cell_type": "code",
   "execution_count": 43,
   "id": "b3204c97-dee4-4fae-9251-b6f7715de210",
   "metadata": {},
   "outputs": [],
   "source": [
    "prompt_format = \"주제 {topic}에 대해 짧은 설명을 해주세요!\"\n",
    "\n",
    "def call_chat_model(messages: List[dict]):\n",
    "    response = client.chat.completions.create(\n",
    "        model = \"gpt-4o-mini\",\n",
    "        messages = messages\n",
    "    )\n",
    "\n",
    "    return response.choices[0].message.content\n",
    "\n",
    "def invoke_chain(topic: str):\n",
    "    prompt_value = prompt_format.format(topic=topic)\n",
    "\n",
    "    messages = [{\"role\": \"user\", \"content\": prompt_value}]\n",
    "    return call_chat_model(messages)"
   ]
  },
  {
   "cell_type": "code",
   "execution_count": 45,
   "id": "1b30e490-a5d7-4419-8b28-c87aa28c04c2",
   "metadata": {},
   "outputs": [
    {
     "data": {
      "text/plain": [
       "'\"더블딥(double dip)\"은 경제학에서 사용되는 용어로, 경기 침체가 한 번 발생한 후에 간헐적으로 회복을 보이다가 다시 침체에 빠지는 상황을 가리킵니다. 이 현상은 V자형 회복이 아닌 W자형 회복으로 나타나며, 즉 경기가 두 번 하락하는 패턴을 보입니다. 더블딥은 종종 심각한 경제적 불확실성과 어려움을 동반하며, 통화 정책과 재정 정책의 효과성에 대한 논쟁을 불러일으킬 수 있습니다.'"
      ]
     },
     "execution_count": 45,
     "metadata": {},
     "output_type": "execute_result"
    }
   ],
   "source": [
    "# 더블딥을 주제로 설명 요청\n",
    "invoke_chain(\"더블딥\")"
   ]
  },
  {
   "cell_type": "markdown",
   "id": "5951908c-49ba-442b-a9bf-b9d24fea8b48",
   "metadata": {},
   "source": [
    "## 랭체인 프레임워크를 활용한 OpenAI 응답"
   ]
  },
  {
   "cell_type": "code",
   "execution_count": 48,
   "id": "b496189a-149c-4d82-b18c-51bf6feb6853",
   "metadata": {},
   "outputs": [],
   "source": [
    "# 라이브러리 임포트\n",
    "from langchain_openai import ChatOpenAI\n",
    "from langchain_core.prompts import ChatPromptTemplate\n",
    "from langchain_core.output_parsers import StrOutputParser\n",
    "from langchain_core.runnables import RunnablePassthrough\n",
    "from dotenv import load_dotenv"
   ]
  },
  {
   "cell_type": "markdown",
   "id": "655a62df-3476-4ccd-bb1c-72c357ad9e98",
   "metadata": {},
   "source": [
    "#### 랭체인 단일 출력"
   ]
  },
  {
   "cell_type": "code",
   "execution_count": 50,
   "id": "455bf207-80da-4922-a585-2bbcdb4a1f46",
   "metadata": {},
   "outputs": [],
   "source": [
    "prompt = ChatPromptTemplate.from_template(\n",
    "    \"주제 {topic}에 대해 짧은 설명을 해주세요.\"\n",
    ")"
   ]
  },
  {
   "cell_type": "code",
   "execution_count": 52,
   "id": "550df3db-1f76-446c-8d60-7fd7f08c69b9",
   "metadata": {},
   "outputs": [],
   "source": [
    "output_parser = StrOutputParser()\n",
    "\n",
    "model = ChatOpenAI(model=\"gpt-4o-mini\")"
   ]
  },
  {
   "cell_type": "code",
   "execution_count": 54,
   "id": "f0bb59ff-de80-48f7-a11e-29a9185a382f",
   "metadata": {},
   "outputs": [],
   "source": [
    "chain = (\n",
    "    {\"topic\": RunnablePassthrough()} # 입력받은 주제르 그대로 통과\n",
    "    | prompt # 프롬프트 템플릿 적용 \n",
    "    | model # 모델을 사용해 응답 생성\n",
    "    | output_parser # 응답을 문자열로 파싱\n",
    ")"
   ]
  },
  {
   "cell_type": "code",
   "execution_count": 56,
   "id": "489355d7-a01c-4e95-b09d-cec9b5aa0487",
   "metadata": {},
   "outputs": [
    {
     "data": {
      "text/plain": [
       "'더블딥(Double Dip)은 경제학에서 사용되는 용어로, 경제가 한 번 회복된 후 다시 침체에 빠지는 상황을 설명합니다. 일반적으로 경기 침체가 발생한 후, 일시적인 회복세를 보이다가 다시 부진으로 돌아가는 경우를 가리킵니다. 이는 주로 소비자 신뢰의 부족, 고용 시장의 회복 미비, 혹은 외부 경제적 요인 등에 의해 발생할 수 있습니다. 더블딥 경제는 경기 회복이 불확실하고 지속적이지 않을 때 투자자나 기업에게 큰 위험 요소로 작용합니다.'"
      ]
     },
     "execution_count": 56,
     "metadata": {},
     "output_type": "execute_result"
    }
   ],
   "source": [
    "chain.invoke(\"더블딥\")"
   ]
  },
  {
   "cell_type": "markdown",
   "id": "b29f65a8-6c22-4201-a40e-5ae7cad8e572",
   "metadata": {},
   "source": [
    "#### 랭체인 배치 출력"
   ]
  },
  {
   "cell_type": "code",
   "execution_count": 59,
   "id": "d7174d5e-6d3c-43dd-9c71-2e45459f81c2",
   "metadata": {},
   "outputs": [],
   "source": [
    "prompt = ChatPromptTemplate.from_template(\n",
    "    \"주제 {topic}에 대해 짧은 설명을 해주세요.\"\n",
    ")"
   ]
  },
  {
   "cell_type": "code",
   "execution_count": 63,
   "id": "985cde1f-5a65-4a4d-a4ed-f1614bfab46d",
   "metadata": {},
   "outputs": [],
   "source": [
    "model, parser = ChatOpenAI(model=\"gpt-4o-mini\"), StrOutputParser()\n",
    "\n",
    "chain = prompt | model | parser"
   ]
  },
  {
   "cell_type": "code",
   "execution_count": 65,
   "id": "feaf07f9-b973-45e5-a4a9-ff07bb8fdcbc",
   "metadata": {},
   "outputs": [
    {
     "data": {
      "text/plain": [
       "['더블 딥(Double Dip)은 경제학에서 사용되는 용어로, 경기 침체가 발생한 후 경제가 일시적으로 회복되다가 다시 다시 침체에 빠지는 현상을 설명합니다. 즉, 경제가 처음에는 정상으로 돌아오는 듯하지만, 그 회복이 지속되지 않고 다시 하락세로 돌아서는 상황을 나타냅니다. 주로 주식 시장, 실업률, 소비자 신뢰 등 여러 경제 지표에서 관찰될 수 있으며, 이런 현상은 경제 회복의 불안정성을 시사합니다.',\n",
       " '인플레이션은 경제에서 일반적인 가격 수준이 지속적으로 상승하는 현상을 의미합니다. 즉, 시간이 지남에 따라 화폐의 구매력이 감소하게 됩니다. 인플레이션은 다양한 요인에 의해 발생할 수 있으며, 소비자 물가 지수(CPI)와 같은 지표로 측정됩니다. 인플레이션이 적정 수준일 경우 경제 성장에 긍정적인 영향을 미칠 수 있지만, 너무 높은 인플레이션은 경제 불안정과 생활비 상승을 초래할 수 있습니다. 따라서 정부와 중앙은행은 인플레이션을 관리하기 위해 다양한 통화 정책을 시행합니다.']"
      ]
     },
     "execution_count": 65,
     "metadata": {},
     "output_type": "execute_result"
    }
   ],
   "source": [
    "chain.batch([\n",
    "    {\"topic\": \"더블딥\"},\n",
    "    {\"topic\": \"인플레이션\"}\n",
    "])"
   ]
  },
  {
   "cell_type": "markdown",
   "id": "e08776d5-39c4-464a-a923-3e0e228cd6ed",
   "metadata": {},
   "source": [
    "#### 스트리밍 방식의 출력"
   ]
  },
  {
   "cell_type": "code",
   "execution_count": 71,
   "id": "7c5fe9d4-696b-41b2-b172-b63f71a2f999",
   "metadata": {},
   "outputs": [
    {
     "name": "stdout",
     "output_type": "stream",
     "text": [
      "\"더블딥(Double Dip)\"은 경제학에서 주로 사용되는 용어로, 경기 침체가 두 차례에 걸쳐 발생하는 상황을 의미합니다. 첫 번째 경기 침체가 발생한 후, 경제가 잠시 회복되는 듯 보이다가 다시 침체에 빠지는 경우를 지칭합니다. 이러한 현상은 소비자 신뢰와 기업 투자에 영향을 미치며, 경제 전반에 불확실성을 증가시킬 수 있습니다. 더블딥은 일반적으로 급격한 진입과 회복이 동시에 나타나는 경우에 관찰됩니다."
     ]
    }
   ],
   "source": [
    "for token in chain.stream({\"topic\": \"더블딥\"}):\n",
    "    print(token, end=\"\", flush=True)"
   ]
  },
  {
   "cell_type": "markdown",
   "id": "80687080-3acd-40ba-b15c-4ec55b157fdf",
   "metadata": {},
   "source": [
    "#### 러너블을 체인으로 연결"
   ]
  },
  {
   "cell_type": "code",
   "execution_count": 78,
   "id": "88e9e4d0-dfc8-4720-a084-2a4eb96e6693",
   "metadata": {},
   "outputs": [],
   "source": [
    "analysis_prompt = ChatPromptTemplate.from_template(\"이 대답을 영어로 번역해주세요: {answer}\")"
   ]
  },
  {
   "cell_type": "code",
   "execution_count": 80,
   "id": "bf7a2934-f070-4770-9ffc-bbb5cc323e05",
   "metadata": {},
   "outputs": [
    {
     "name": "stdout",
     "output_type": "stream",
     "text": [
      "\"Double Dip\" is a term primarily used in economics to describe a situation where a recession occurs, followed by a brief recovery that does not sustain itself, leading to a second recession. In other words, it refers to the phenomenon where the economy shows some signs of recovery after a downturn, only to decline again. This can generally happen due to various factors such as low consumer confidence, decreased business investment, and instability in the labor market. A double dip can increase uncertainty in the economy and complicate the recovery process."
     ]
    }
   ],
   "source": [
    "composed_chain = {\"answer\" : chain} | analysis_prompt | model | StrOutputParser()\n",
    "\n",
    "for token in composed_chain.stream({\"topic\": \"더블딥\"}):\n",
    "    print(token, end=\"\", flush=True)"
   ]
  },
  {
   "cell_type": "markdown",
   "id": "64ead3d8-bd5d-4457-8372-26c050f6bcda",
   "metadata": {},
   "source": [
    "#### 체인 병렬 연결"
   ]
  },
  {
   "cell_type": "code",
   "execution_count": 85,
   "id": "ae5345c2-23f9-4412-b5cd-8997d8b3d8f8",
   "metadata": {},
   "outputs": [
    {
     "name": "stdout",
     "output_type": "stream",
     "text": [
      "한글 설명:  더블딥(Double Dip)은 경제학에서 사용되는 용어로, 경기침체 후 잠시 회복된 뒤 다시 경제가 침체되는 현상을 의미합니다. 즉, 첫 번째 침체 후에 일시적으로 경제가 개선되지만, 다시 두 번째 침체가 발생하여 경기 회복이 이어지지 않는 상황을 가리킵니다. 이러한 현상은 고용, 소비, 투자 등 여러 경제 지표에 부정적인 영향을 미칠 수 있습니다.\n",
      "영어 설명:  A double dip refers to a situation where an economy experiences two separate periods of recession within a relatively short time frame. After a mild recovery from an initial downturn, the economy falls back into recession, resembling a \"W\" shape in economic graphs. This can be caused by various factors, including weak consumer confidence, lack of job growth, or external shocks, and often complicates recovery efforts.\n"
     ]
    }
   ],
   "source": [
    "from langchain_core.runnables import RunnableParallel\n",
    "\n",
    "model = ChatOpenAI(model=\"gpt-4o-mini\")\n",
    "\n",
    "kor_chain = (\n",
    "    ChatPromptTemplate.from_template(\"{topic}에 대해 짧은 설명을 한국어로 해주세요.\")\n",
    "    | model\n",
    "    | StrOutputParser()\n",
    ")\n",
    "\n",
    "eng_chain = (\n",
    "    ChatPromptTemplate.from_template(\"{topic}에 대해 짧은 설명을 영어로 해주세요.\")\n",
    "    | model\n",
    "    | StrOutputParser()\n",
    ")\n",
    "\n",
    "parallel_chain = RunnableParallel(kor=kor_chain, eng=eng_chain)\n",
    "\n",
    "result = parallel_chain.invoke({\"topic\": \"더블딥\"})\n",
    "\n",
    "print(\"한글 설명: \", result['kor'])\n",
    "print(\"영어 설명: \", result['eng'])"
   ]
  },
  {
   "cell_type": "markdown",
   "id": "1ad85a65-aabb-4a9c-af2e-dbb0145c30b5",
   "metadata": {},
   "source": [
    "## 프롬프트 템플릿"
   ]
  },
  {
   "cell_type": "markdown",
   "id": "b5a01c6c-e94d-4a47-bc57-fb3b4a321833",
   "metadata": {},
   "source": [
    "#### 문자열 프롬프트 템플릿"
   ]
  },
  {
   "cell_type": "code",
   "execution_count": 2,
   "id": "82fdfd8b-f427-4358-99bb-dd542dae8057",
   "metadata": {},
   "outputs": [
    {
     "data": {
      "text/plain": [
       "StringPromptValue(text='주제 투자 에 대해 금융 관련 짧은 조언을 해주세요')"
      ]
     },
     "execution_count": 2,
     "metadata": {},
     "output_type": "execute_result"
    }
   ],
   "source": [
    "from langchain_core.prompts import PromptTemplate\n",
    "\n",
    "prompt_templeate = PromptTemplate.from_template(\"주제 {topic} 에 대해 금융 관련 짧은 조언을 해주세요\")\n",
    "\n",
    "prompt_templeate.invoke({\"topic\": \"투자\"})"
   ]
  },
  {
   "cell_type": "markdown",
   "id": "277e759c-b994-44ac-9248-26f41641727b",
   "metadata": {},
   "source": [
    "#### 챗 프롬프트 템플릿"
   ]
  },
  {
   "cell_type": "code",
   "execution_count": 9,
   "id": "023a302d-598d-40a9-a487-cb46f18aa859",
   "metadata": {},
   "outputs": [
    {
     "data": {
      "text/plain": [
       "ChatPromptValue(messages=[SystemMessage(content='당신은 유능한 금융 조언가입니다.', additional_kwargs={}, response_metadata={}), HumanMessage(content='주제 주식 에 대해 금융 관련 조언을 해주세요.', additional_kwargs={}, response_metadata={})])"
      ]
     },
     "execution_count": 9,
     "metadata": {},
     "output_type": "execute_result"
    }
   ],
   "source": [
    "from langchain_core.prompts import ChatPromptTemplate\n",
    "\n",
    "prompt_template = ChatPromptTemplate.from_messages([\n",
    "    (\"system\", \"당신은 유능한 금융 조언가입니다.\"),\n",
    "    (\"user\", \"주제 {topic} 에 대해 금융 관련 조언을 해주세요.\")\n",
    "])\n",
    "\n",
    "prompt_template.invoke({\"topic\": \"주식\"})"
   ]
  },
  {
   "cell_type": "markdown",
   "id": "e3e646a4-67c2-41f9-bcd9-8974f62512b7",
   "metadata": {},
   "source": [
    "#### 메시지 자리 표시자"
   ]
  },
  {
   "cell_type": "code",
   "execution_count": 12,
   "id": "0227f315-b8bf-47fd-83da-371aa8a21201",
   "metadata": {},
   "outputs": [
    {
     "data": {
      "text/plain": [
       "ChatPromptValue(messages=[SystemMessage(content='당신은 유능한 금융 조언가입니다.', additional_kwargs={}, response_metadata={}), HumanMessage(content='안녕하세요!', additional_kwargs={}, response_metadata={})])"
      ]
     },
     "execution_count": 12,
     "metadata": {},
     "output_type": "execute_result"
    }
   ],
   "source": [
    "from langchain_core.prompts import ChatPromptTemplate, MessagesPlaceholder\n",
    "from langchain_core.messages import HumanMessage\n",
    "\n",
    "prompt_template = ChatPromptTemplate.from_messages([\n",
    "    (\"system\", \"당신은 유능한 금융 조언가입니다.\"),\n",
    "    MessagesPlaceholder(\"msgs\")\n",
    "])\n",
    "\n",
    "prompt_template.invoke({\"msgs\": [HumanMessage(content = \"안녕하세요!\")]})"
   ]
  },
  {
   "cell_type": "markdown",
   "id": "10a5f8a2-29d5-409d-8b31-2a04bda7ce26",
   "metadata": {},
   "source": [
    "#### 퓨샷 프롬프트\n",
    "- 대규모 언어 모델이 더 나은 성능을 발휘하도록 몇 가리 예제 입력과 출력을 제공하는 방식\n",
    "- 퓨샷 기술은 모델에 몇 가지 예제를 제시하여, 모델이 더욱 정확하고 일관된 결과를 생성하도록 유도합니다."
   ]
  },
  {
   "cell_type": "code",
   "execution_count": 19,
   "id": "85c4235b-bf4b-4c1c-8615-e8ad7a8df131",
   "metadata": {},
   "outputs": [],
   "source": [
    "from langchain_core.prompts import PromptTemplate\n",
    "\n",
    "# 질문과 답변을 포맷하는 프롬프트 템플릿 정의\n",
    "example_prompt = PromptTemplate.from_template(\"질문: {question}\\n답변: {answer}\")"
   ]
  },
  {
   "cell_type": "code",
   "execution_count": 29,
   "id": "d5c88950-813f-413d-b157-f41f9196d530",
   "metadata": {},
   "outputs": [],
   "source": [
    "# 퓨샷 예제 목록 생성\n",
    "examples = [\n",
    "    {\n",
    "        \"question\": \"주식 투자와 예금 중 어느 것이 더 수익률이 높은가?\",\n",
    "        \"answer\": \"\"\"\n",
    "    후속 질문이 필요한가요: 네\n",
    "    후속 질문: 주식 투자의 평균 수익률은 얼마인가요?\n",
    "    중간 답변: 주식 투자의 평균 수익률은 연 7% 입니다.\n",
    "    후속 질문: 예금의 평균 이자율은 얼마인가요?\n",
    "    중간 답변: 예금 평균 이자율은 연 1% 입니다.\n",
    "    따라서 최종 답변은: 주식 투자\n",
    "    \"\"\"\n",
    "    },\n",
    "    {\n",
    "        \"question\": \"부동산과 채권 중 어느 것이 더 안정적인 투자처인가?\",\n",
    "    \"answer\": \"\"\"\n",
    "    후속 질문이 필요한가요: 네\n",
    "    후속 질문: 부동산 투자의 안정성은 어떤 요소에 따라 결정되나요?\n",
    "    중간 답변: 부동산 투자는 지역 경기와 정부 정책의 영향을 많이 받아 변동성이 존재합니다.\n",
    "    후속 질문: 채권 투자의 안정성은 어떤가요?\n",
    "    중간 답변: 채권은 고정 수익을 제공하며, 정부나 우량 기업이 발행한 채권은 비교적 안정적인 편입니다.\n",
    "    따라서 최종 답변은: 채권\n",
    "    \"\"\"\n",
    "    }\n",
    "]"
   ]
  },
  {
   "cell_type": "code",
   "execution_count": 31,
   "id": "dbc902bd-eeaa-4b02-95cf-71936f603ff9",
   "metadata": {},
   "outputs": [
    {
     "name": "stdout",
     "output_type": "stream",
     "text": [
      "질문: 주식 투자와 예금 중 어느 것이 더 수익률이 높은가?\n",
      "답변: \n",
      "    후속 질문이 필요한가요: 네\n",
      "    후속 질문: 주식 투자의 평균 수익률은 얼마인가요?\n",
      "    중간 답변: 주식 투자의 평균 수익률은 연 7% 입니다.\n",
      "    후속 질문: 예금의 평균 이자율은 얼마인가요?\n",
      "    중간 답변: 예금 평균 이자율은 연 1% 입니다.\n",
      "    따라서 최종 답변은: 주식 투자\n",
      "    \n"
     ]
    }
   ],
   "source": [
    "print(example_prompt.invoke(examples[0]).to_string())"
   ]
  },
  {
   "cell_type": "code",
   "execution_count": 33,
   "id": "18cca5ab-961e-4c71-b65b-faf960f06acb",
   "metadata": {},
   "outputs": [
    {
     "name": "stdout",
     "output_type": "stream",
     "text": [
      "질문: 주식 투자와 예금 중 어느 것이 더 수익률이 높은가?\n",
      "답변: \n",
      "    후속 질문이 필요한가요: 네\n",
      "    후속 질문: 주식 투자의 평균 수익률은 얼마인가요?\n",
      "    중간 답변: 주식 투자의 평균 수익률은 연 7% 입니다.\n",
      "    후속 질문: 예금의 평균 이자율은 얼마인가요?\n",
      "    중간 답변: 예금 평균 이자율은 연 1% 입니다.\n",
      "    따라서 최종 답변은: 주식 투자\n",
      "    \n",
      "\n",
      "질문: 부동산과 채권 중 어느 것이 더 안정적인 투자처인가?\n",
      "답변: \n",
      "    후속 질문이 필요한가요: 네\n",
      "    후속 질문: 부동산 투자의 안정성은 어떤 요소에 따라 결정되나요?\n",
      "    중간 답변: 부동산 투자는 지역 경기와 정부 정책의 영향을 많이 받아 변동성이 존재합니다.\n",
      "    후속 질문: 채권 투자의 안정성은 어떤가요?\n",
      "    중간 답변: 채권은 고정 수익을 제공하며, 정부나 우량 기업이 발행한 채권은 비교적 안정적인 편입니다.\n",
      "    따라서 최종 답변은: 채권\n",
      "    \n",
      "\n",
      "질문: 부동산 투자의 장점은 무엇인가?\n"
     ]
    }
   ],
   "source": [
    "from langchain_core.prompts import FewShotPromptTemplate\n",
    "\n",
    "prompt = FewShotPromptTemplate(\n",
    "    examples = examples,\n",
    "    example_prompt = example_prompt,\n",
    "    suffix = \"질문: {input}\",\n",
    "    input_variables=[\"input\"]\n",
    ")\n",
    "\n",
    "print(prompt.invoke({\"input\" : \"부동산 투자의 장점은 무엇인가?\"}).to_string())"
   ]
  },
  {
   "cell_type": "markdown",
   "id": "067ca100-cf6a-40ae-8c1c-83f12144b8cc",
   "metadata": {},
   "source": [
    "#### 예제 선택기 사용"
   ]
  },
  {
   "cell_type": "code",
   "execution_count": 44,
   "id": "510213ca-e2e8-40ae-b9af-a1d8b3e9d77c",
   "metadata": {},
   "outputs": [],
   "source": [
    "from langchain_chroma import Chroma\n",
    "from langchain_core.example_selectors import SemanticSimilarityExampleSelector\n",
    "from langchain_openai import OpenAIEmbeddings\n",
    "\n",
    "# 예제 선택기 초기화\n",
    "example_selector = SemanticSimilarityExampleSelector.from_examples(\n",
    "    examples, # 사용할 예제 목록\n",
    "    OpenAIEmbeddings(api_key=api_key), # 임베딩 생성에 사용하는 클래스\n",
    "    Chroma, # 임베딩을 저장하고 유사도 검색을 수행하는 벡터 저장소 클래스\n",
    "    k = 1 # 선택할 예제의 수\n",
    ")"
   ]
  },
  {
   "cell_type": "code",
   "execution_count": 46,
   "id": "fd454fbd-8389-46e2-990a-2f2d196f0968",
   "metadata": {},
   "outputs": [],
   "source": [
    "question = \"부동산 투자의 장점은 무엇인가?\"\n",
    "selected_examples = example_selector.select_examples({\"question\": question})"
   ]
  },
  {
   "cell_type": "code",
   "execution_count": 50,
   "id": "a885a165-bc38-45a5-8eab-c2dace397865",
   "metadata": {},
   "outputs": [
    {
     "name": "stdout",
     "output_type": "stream",
     "text": [
      "입력질문: 부동산 투자의 장점은 무엇인가?\n",
      "\n",
      "\n",
      "# 입력과 가장 유사한 예제:\n",
      "answer, \n",
      "    후속 질문이 필요한가요: 네\n",
      "    후속 질문: 부동산 투자의 안정성은 어떤 요소에 따라 결정되나요?\n",
      "    중간 답변: 부동산 투자는 지역 경기와 정부 정책의 영향을 많이 받아 변동성이 존재합니다.\n",
      "    후속 질문: 채권 투자의 안정성은 어떤가요?\n",
      "    중간 답변: 채권은 고정 수익을 제공하며, 정부나 우량 기업이 발행한 채권은 비교적 안정적인 편입니다.\n",
      "    따라서 최종 답변은: 채권\n",
      "    \n",
      "question, 부동산과 채권 중 어느 것이 더 안정적인 투자처인가?\n"
     ]
    }
   ],
   "source": [
    "print(f\"입력질문: {question}\")\n",
    "for example in selected_examples:\n",
    "    print(\"\\n\")\n",
    "    print(\"# 입력과 가장 유사한 예제:\")\n",
    "    for k, v in reversed(example.items()):\n",
    "        print(f\"{k}, {v}\")"
   ]
  },
  {
   "cell_type": "markdown",
   "id": "318714be-5eb4-4168-9f42-e5deb4e7f04c",
   "metadata": {},
   "source": [
    "#### 퓨샷 프롬프트를 실제 AI 모델과 함께 사용하는 코드 예시"
   ]
  },
  {
   "cell_type": "code",
   "execution_count": 53,
   "id": "75d1467e-a44e-4389-895f-04245d7e1bb1",
   "metadata": {},
   "outputs": [],
   "source": [
    "from langchain_core.prompts import FewShotPromptTemplate, PromptTemplate\n",
    "from langchain_openai import ChatOpenAI\n",
    "\n",
    "example_prompt = PromptTemplate(\n",
    "    input_variables=[\"question\", \"answer\"],\n",
    "    template = \"질문: {question}\\n답변: {answer}\"\n",
    ")"
   ]
  },
  {
   "cell_type": "code",
   "execution_count": 55,
   "id": "98fd668e-6968-4990-ae02-ec5f3325aa5c",
   "metadata": {},
   "outputs": [],
   "source": [
    "# 퓨샷 프롬프트 생성\n",
    "prompt = FewShotPromptTemplate(\n",
    "    example_selector = example_selector,\n",
    "    example_prompt = example_prompt,\n",
    "    prefix = \"다음은 금융 관련 짋문과 답변의 예입니다:\",\n",
    "    suffix = \"질문: {input}\\n답변:\",\n",
    "    input_variables = [\"input\"]\n",
    ")"
   ]
  },
  {
   "cell_type": "code",
   "execution_count": 57,
   "id": "f74647c7-3ed4-492f-8bb2-4f01fb64e12f",
   "metadata": {},
   "outputs": [
    {
     "name": "stdout",
     "output_type": "stream",
     "text": [
      "부동산 투자의 장점에는 여러 가지가 있습니다. \n",
      "\n",
      "1. **자산의 가치 상승**: 부동산은 시간이 지남에 따라 가치가 상승할 가능성이 높아, 장기적인 투자로 유리합니다.\n",
      "2. **임대 수익**: 부동산은 임대를 통해 지속적인 현금 흐름을 생성할 수 있어 수익성을 높입니다.\n",
      "3. **세금 혜택**: 부동산 투자자는 정부에서 제공하는 다양한 세금 공제와 혜택을 받을 수 있습니다.\n",
      "4. **인플레이션 헤지**: 부동산은 인플레이션에 대해 상대적으로 안전한 자산으로 여겨져, 물가 상승에 대한 방어 수단이 될 수 있습니다.\n",
      "5. **자산의 다양화**: 포트폴리오에 부동산을 포함하면 투자 자산의 다양화를 통해 리스크를 분산할 수 있습니다.\n",
      "\n",
      "후속 질문이 필요할까요?\n"
     ]
    }
   ],
   "source": [
    "model = ChatOpenAI(model_name = \"gpt-4o-mini\")\n",
    "\n",
    "chain = prompt | model\n",
    "response = chain.invoke({\"input\" : \"부동산 투자의 장점은 무엇인가?\"})\n",
    "print(response.content)"
   ]
  },
  {
   "cell_type": "markdown",
   "id": "5a7063d2-41af-47d2-b097-b71718a4c011",
   "metadata": {},
   "source": [
    "## 출력 파서"
   ]
  },
  {
   "cell_type": "markdown",
   "id": "91e8f1cc-8bda-4155-bedc-ef2e056d295e",
   "metadata": {},
   "source": [
    "#### pydanticOutputParser"
   ]
  },
  {
   "cell_type": "markdown",
   "id": "066abdba-233f-4c02-9307-5eb2486ee0d0",
   "metadata": {},
   "source": [
    "- PydanticOutputParser : AI의 출력을 Pydantic 모델에 맞게 구조화된 데이터로 변환하며, 일관된 형식과 데이터 검증을 제공\n",
    "- Pydantic : Python에서 데이터 검증과 모델링을 위한 라이브러리, BaseModel과 Field를 사용하여 데이터 구조를 정의하고, model_validator를 이용하여 입력데이터를 검증 가능"
   ]
  },
  {
   "cell_type": "code",
   "execution_count": 63,
   "id": "1e9b7717-0421-4b81-83d6-e31af4f2ad19",
   "metadata": {},
   "outputs": [],
   "source": [
    "from langchain_core.output_parsers import PydanticOutputParser\n",
    "from langchain_core.prompts import PromptTemplate\n",
    "from langchain_openai import ChatOpenAI\n",
    "from pydantic import BaseModel, Field, model_validator"
   ]
  },
  {
   "cell_type": "code",
   "execution_count": 67,
   "id": "9292eb9a-4799-46d3-8a84-a1d119e9a4a8",
   "metadata": {},
   "outputs": [],
   "source": [
    "model = ChatOpenAI(model_name = \"gpt-4o-mini\", temperature = 0.0)"
   ]
  },
  {
   "cell_type": "code",
   "execution_count": 69,
   "id": "84907669-62a5-4f5e-9495-2eaa6121c356",
   "metadata": {},
   "outputs": [],
   "source": [
    "class FinancialAdvice(BaseModel):\n",
    "    setup: str = Field(description = \"금융 조언 상황을 설정하기 위한 질문\")\n",
    "    advice: str = Field(description = \"질문을 해결하기 위한 금융 답변\")\n",
    "\n",
    "    @model_validator(mode = \"before\")\n",
    "    @classmethod\n",
    "    def question_ends_with_question_mark(cls, values: dict) -> dict:\n",
    "        setup = values.get(\"setup\", \"\")\n",
    "        if not setup.endswith(\"?\"):\n",
    "            raise ValueError(\"잘못된 질문 형식입니다! 질문은 '?'로 끝나야 합니다.\")\n",
    "        return values"
   ]
  },
  {
   "cell_type": "code",
   "execution_count": 87,
   "id": "40d6c89f-883b-4a41-af76-f16540e75bbc",
   "metadata": {},
   "outputs": [],
   "source": [
    "parser = PydanticOutputParser(pydantic_object=FinancialAdvice)\n",
    "prompt = PromptTemplate(\n",
    "    template = (\n",
    "        \"다음 금융 관련 질문을 '?'로 끝나는 형태로 구성한 뒤, 그에 대한 조언을 해주세요.\\n\"\n",
    "        \"{format_instructions}\\n질문: {query}\\n\"\n",
    "    ),\n",
    "    input_variables = [\"query\"],\n",
    "    partial_variables = {\"format_instructions\": parser.get_format_instructions()}\n",
    ")\n",
    "\n",
    "chain = prompt | model | parser"
   ]
  },
  {
   "cell_type": "code",
   "execution_count": 89,
   "id": "2b3299cd-d11d-46d2-8870-c5cc20c76cfd",
   "metadata": {},
   "outputs": [
    {
     "name": "stdout",
     "output_type": "stream",
     "text": [
      "setup='부동산 투자 시 어떤 요소를 고려해야 할까요?' advice='부동산 투자 시 위치, 시장 동향, 자금 조달 방법, 세금 혜택, 그리고 장기적인 가치 상승 가능성을 고려해야 합니다. 또한, 전문가의 조언을 듣고, 충분한 시장 조사를 통해 신중하게 결정하는 것이 중요합니다.'\n"
     ]
    }
   ],
   "source": [
    "try:\n",
    "    result = chain.invoke({\"query\": \"부동산에 관련하여 금융 조언을 받을 수 있게 질문하라.\"})\n",
    "    print(result)\n",
    "except Exception as e:\n",
    "    print(f\"오류 발생: {e}\")"
   ]
  },
  {
   "cell_type": "markdown",
   "id": "91e3e998-d7ab-4e9f-a74b-44684827db31",
   "metadata": {},
   "source": [
    "#### JsonOutputParser 이용"
   ]
  },
  {
   "cell_type": "code",
   "execution_count": 100,
   "id": "646283aa-bb7f-4125-8f89-ff0f663cc593",
   "metadata": {},
   "outputs": [],
   "source": [
    "from langchain_core.output_parsers import JsonOutputParser\n",
    "\n",
    "parser = JsonOutputParser(pydantic_object=FinancialAdvice)\n",
    "\n",
    "prompt = PromptTemplate(\n",
    "    template = (\n",
    "        \"다음 금융 관련 질문을 '?'로 끝나는 형태로 구성한 뒤, 그에 대한 조언을 해주세요.\\n\"\n",
    "        \"{format_instructions}\\n질문: {query}\\n\"\n",
    "    ),\n",
    "    input_variables = [\"query\"],\n",
    "    partial_variables = {\"format_instructions\": parser.get_format_instructions()}\n",
    ")\n",
    "\n",
    "chain = prompt | model | parser"
   ]
  },
  {
   "cell_type": "code",
   "execution_count": 102,
   "id": "2995fdb9-f416-47f4-a45c-98ebe5812057",
   "metadata": {},
   "outputs": [
    {
     "name": "stdout",
     "output_type": "stream",
     "text": [
      "{'setup': '부동산 투자 시 어떤 요소를 고려해야 할까요?', 'advice': '부동산 투자 시 위치, 시장 동향, 자금 조달 방법, 세금 혜택, 그리고 장기적인 가치 상승 가능성을 고려해야 합니다. 또한, 전문가의 조언을 듣고, 충분한 시장 조사를 통해 신중하게 결정하는 것이 중요합니다.'}\n"
     ]
    }
   ],
   "source": [
    "try:\n",
    "    result = chain.invoke({\"query\": \"부동산에 관련하여 금융 조언을 받을 수 있게 질문하라.\"})\n",
    "    print(result)\n",
    "except Exception as e:\n",
    "    print(f\"오류 발생: {e}\")"
   ]
  },
  {
   "cell_type": "code",
   "execution_count": null,
   "id": "ea3d252b-4e84-45c6-9e23-ea37fd490ccb",
   "metadata": {},
   "outputs": [],
   "source": []
  }
 ],
 "metadata": {
  "kernelspec": {
   "display_name": "playground",
   "language": "python",
   "name": "playground"
  },
  "language_info": {
   "codemirror_mode": {
    "name": "ipython",
    "version": 3
   },
   "file_extension": ".py",
   "mimetype": "text/x-python",
   "name": "python",
   "nbconvert_exporter": "python",
   "pygments_lexer": "ipython3",
   "version": "3.10.16"
  }
 },
 "nbformat": 4,
 "nbformat_minor": 5
}
